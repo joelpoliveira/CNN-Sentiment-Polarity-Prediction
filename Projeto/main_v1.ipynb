{
 "cells": [
  {
   "cell_type": "code",
   "execution_count": 44,
   "id": "45e4ae35-7992-442d-8d3e-597c22658acb",
   "metadata": {},
   "outputs": [],
   "source": [
    "%reload_ext autoreload\n",
    "%autoreload 2\n",
    "\n",
    "import os\n",
    "import nltk\n",
    "import string\n",
    "import numpy as np\n",
    "import pandas as pd\n",
    "import matplotlib.pyplot as plt\n",
    "\n",
    "import tensorflow as tf\n",
    "from tensorflow.keras import layers\n",
    "from tensorflow.keras import models\n",
    "from tensorflow.keras import initializers as init\n",
    "from tensorflow.keras import losses\n",
    "from tensorflow.keras import metrics\n",
    "from tensorflow.keras import optimizers\n",
    "from tensorflow.keras import callbacks\n",
    "from tensorflow.keras import activations, regularizers, constraints\n",
    "\n",
    "from gensim.models import Word2Vec, KeyedVectors\n",
    "from sklearn.model_selection import train_test_split\n",
    "from scipy.spatial.distance import euclidean\n",
    "from sklearn.preprocessing import LabelEncoder\n",
    "\n",
    "from util.preprocessing import *\n",
    "from util.io import *\n",
    "\n",
    "PATH = \"./data/rt-polaritydata/\"\n",
    "PATH_TRANSLATE = \"./data/rt-polaritydata-translated/\"\n",
    "\n",
    "TRANSLATION_ON_DISK=True"
   ]
  },
  {
   "cell_type": "markdown",
   "id": "ff450bd4-0e3a-4601-8315-4bbd00595180",
   "metadata": {
    "tags": []
   },
   "source": [
    "### Translate (English - English) "
   ]
  },
  {
   "cell_type": "code",
   "execution_count": 2,
   "id": "65f767ee-d547-41b4-a626-0c697f8b08bc",
   "metadata": {
    "tags": []
   },
   "outputs": [],
   "source": [
    "if TRANSLATION_ON_DISK:\n",
    "    docs,_ = get_documents(PATH_TRANSLATE)\n",
    "else:\n",
    "    docs, _ = get_documents(PATH)\n",
    "\n",
    "    #only used once, since it is a bottleneck\n",
    "    docs[0] = batch_translate_to_english(docs[0], batch_size=20)\n",
    "    docs[1] = batch_translate_to_english(docs[1], batch_size=20)\n",
    "\n",
    "    write_documents(docs, PATH_TRANSLATE, PATH)\n"
   ]
  },
  {
   "cell_type": "code",
   "execution_count": 3,
   "id": "2491908d-9d52-4ef2-8b21-6977baf884d3",
   "metadata": {
    "tags": []
   },
   "outputs": [],
   "source": [
    "data = pd.DataFrame(data = {\n",
    "    \"reviews\": docs[0] + docs[1],\n",
    "    \"sentiment\": [_[0]] * len(docs[0]) + [_[1]] * len(docs[1])\n",
    "})\n"
   ]
  },
  {
   "cell_type": "code",
   "execution_count": 4,
   "id": "7cbbfb89-a374-4ffb-b02a-546f8063d655",
   "metadata": {
    "tags": []
   },
   "outputs": [
    {
     "data": {
      "text/html": [
       "<div>\n",
       "<style scoped>\n",
       "    .dataframe tbody tr th:only-of-type {\n",
       "        vertical-align: middle;\n",
       "    }\n",
       "\n",
       "    .dataframe tbody tr th {\n",
       "        vertical-align: top;\n",
       "    }\n",
       "\n",
       "    .dataframe thead th {\n",
       "        text-align: right;\n",
       "    }\n",
       "</style>\n",
       "<table border=\"1\" class=\"dataframe\">\n",
       "  <thead>\n",
       "    <tr style=\"text-align: right;\">\n",
       "      <th></th>\n",
       "      <th>reviews</th>\n",
       "      <th>sentiment</th>\n",
       "    </tr>\n",
       "  </thead>\n",
       "  <tbody>\n",
       "    <tr>\n",
       "      <th>0</th>\n",
       "      <td>simplistic , silly and tedious .\\n</td>\n",
       "      <td>neg</td>\n",
       "    </tr>\n",
       "    <tr>\n",
       "      <th>1</th>\n",
       "      <td>it's so laddish and juvenile , only teenage bo...</td>\n",
       "      <td>neg</td>\n",
       "    </tr>\n",
       "    <tr>\n",
       "      <th>2</th>\n",
       "      <td>exploitative and largely devoid of the depth o...</td>\n",
       "      <td>neg</td>\n",
       "    </tr>\n",
       "    <tr>\n",
       "      <th>3</th>\n",
       "      <td>[garbus] discards the potential for pathologic...</td>\n",
       "      <td>neg</td>\n",
       "    </tr>\n",
       "    <tr>\n",
       "      <th>4</th>\n",
       "      <td>a visually flashy but narratively opaque and e...</td>\n",
       "      <td>neg</td>\n",
       "    </tr>\n",
       "  </tbody>\n",
       "</table>\n",
       "</div>"
      ],
      "text/plain": [
       "                                             reviews sentiment\n",
       "0                 simplistic , silly and tedious .\\n       neg\n",
       "1  it's so laddish and juvenile , only teenage bo...       neg\n",
       "2  exploitative and largely devoid of the depth o...       neg\n",
       "3  [garbus] discards the potential for pathologic...       neg\n",
       "4  a visually flashy but narratively opaque and e...       neg"
      ]
     },
     "execution_count": 4,
     "metadata": {},
     "output_type": "execute_result"
    }
   ],
   "source": [
    "data.head()"
   ]
  },
  {
   "cell_type": "code",
   "execution_count": 5,
   "id": "15062caa-0483-447f-b6a7-cd48d2cd53d5",
   "metadata": {
    "tags": []
   },
   "outputs": [],
   "source": [
    "enc = LabelEncoder().fit(data.sentiment)\n",
    "data.sentiment = enc.transform(data.sentiment)"
   ]
  },
  {
   "cell_type": "code",
   "execution_count": 6,
   "id": "6acc4134-618c-42d6-9f45-53c98931be7a",
   "metadata": {
    "tags": []
   },
   "outputs": [
    {
     "data": {
      "text/html": [
       "<div>\n",
       "<style scoped>\n",
       "    .dataframe tbody tr th:only-of-type {\n",
       "        vertical-align: middle;\n",
       "    }\n",
       "\n",
       "    .dataframe tbody tr th {\n",
       "        vertical-align: top;\n",
       "    }\n",
       "\n",
       "    .dataframe thead th {\n",
       "        text-align: right;\n",
       "    }\n",
       "</style>\n",
       "<table border=\"1\" class=\"dataframe\">\n",
       "  <thead>\n",
       "    <tr style=\"text-align: right;\">\n",
       "      <th></th>\n",
       "      <th>reviews</th>\n",
       "      <th>sentiment</th>\n",
       "    </tr>\n",
       "  </thead>\n",
       "  <tbody>\n",
       "    <tr>\n",
       "      <th>0</th>\n",
       "      <td>simplistic , silly and tedious .\\n</td>\n",
       "      <td>0</td>\n",
       "    </tr>\n",
       "    <tr>\n",
       "      <th>1</th>\n",
       "      <td>it's so laddish and juvenile , only teenage bo...</td>\n",
       "      <td>0</td>\n",
       "    </tr>\n",
       "    <tr>\n",
       "      <th>2</th>\n",
       "      <td>exploitative and largely devoid of the depth o...</td>\n",
       "      <td>0</td>\n",
       "    </tr>\n",
       "    <tr>\n",
       "      <th>3</th>\n",
       "      <td>[garbus] discards the potential for pathologic...</td>\n",
       "      <td>0</td>\n",
       "    </tr>\n",
       "    <tr>\n",
       "      <th>4</th>\n",
       "      <td>a visually flashy but narratively opaque and e...</td>\n",
       "      <td>0</td>\n",
       "    </tr>\n",
       "  </tbody>\n",
       "</table>\n",
       "</div>"
      ],
      "text/plain": [
       "                                             reviews  sentiment\n",
       "0                 simplistic , silly and tedious .\\n          0\n",
       "1  it's so laddish and juvenile , only teenage bo...          0\n",
       "2  exploitative and largely devoid of the depth o...          0\n",
       "3  [garbus] discards the potential for pathologic...          0\n",
       "4  a visually flashy but narratively opaque and e...          0"
      ]
     },
     "execution_count": 6,
     "metadata": {},
     "output_type": "execute_result"
    }
   ],
   "source": [
    "data.head()"
   ]
  },
  {
   "cell_type": "code",
   "execution_count": 7,
   "id": "4ba7d8cf-45e1-419c-9530-90f9f01e3150",
   "metadata": {
    "tags": []
   },
   "outputs": [
    {
     "data": {
      "application/vnd.jupyter.widget-view+json": {
       "model_id": "b90c3c0989ca489a95406f49d02db243",
       "version_major": 2,
       "version_minor": 0
      },
      "text/plain": [
       "  0%|          | 0/10662 [00:00<?, ?it/s]"
      ]
     },
     "metadata": {},
     "output_type": "display_data"
    }
   ],
   "source": [
    "word_set, docs = process_documents(data.reviews.to_list())"
   ]
  },
  {
   "cell_type": "code",
   "execution_count": 8,
   "id": "ed193e83-8f0a-4280-bebd-9705f7344d2a",
   "metadata": {
    "tags": []
   },
   "outputs": [],
   "source": [
    "rev_word_set = { value:key for key,value in word_set.items()}"
   ]
  },
  {
   "cell_type": "code",
   "execution_count": 10,
   "id": "74fb3a66-c8df-4b60-9304-b1130690fed2",
   "metadata": {
    "tags": []
   },
   "outputs": [
    {
     "data": {
      "text/plain": [
       "(17491, 10662)"
      ]
     },
     "execution_count": 10,
     "metadata": {},
     "output_type": "execute_result"
    }
   ],
   "source": [
    "len(word_set), len(docs)"
   ]
  },
  {
   "cell_type": "markdown",
   "id": "6b2ba95c-53bd-4b81-8010-037be6b2653a",
   "metadata": {
    "tags": []
   },
   "source": [
    "In the paper (where the 1st version was used) they stated to have $18765$ words in the dataset. It is almost the same has what we obtained, $19545$. \n",
    "The algorithm used to translate might have been improved, or maybe the word filtering or word tokenizer might be slightly different."
   ]
  },
  {
   "cell_type": "markdown",
   "id": "e7cdb5eb-fa73-4268-8e34-3258ed63e330",
   "metadata": {
    "jp-MarkdownHeadingCollapsed": true,
    "tags": []
   },
   "source": [
    "## Generate word embeddings"
   ]
  },
  {
   "cell_type": "code",
   "execution_count": 120,
   "id": "3ea43517-b988-43b0-ab16-4e9d7fbc0fba",
   "metadata": {
    "tags": []
   },
   "outputs": [],
   "source": [
    "from util.embedding import *"
   ]
  },
  {
   "cell_type": "code",
   "execution_count": 83,
   "id": "c5cc8053-416f-4f55-a693-fdf2aac2796c",
   "metadata": {
    "tags": []
   },
   "outputs": [
    {
     "name": "stderr",
     "output_type": "stream",
     "text": [
      "100%|█████████████████████████████████████████████████████████████████████████████████████████████████████████████████████████████████████████████████████████████████| 14627/14627 [00:00<00:00, 137945.03it/s]\n"
     ]
    }
   ],
   "source": [
    "cooc = count_word_coocurrence(sentences, word_set, wsize=5)"
   ]
  },
  {
   "cell_type": "code",
   "execution_count": 84,
   "id": "01324694-4af7-4564-a5dd-ea1ee98e251f",
   "metadata": {
    "tags": []
   },
   "outputs": [
    {
     "data": {
      "text/plain": [
       "<19545x19545 sparse matrix of type '<class 'numpy.float64'>'\n",
       "\twith 172105 stored elements in Dictionary Of Keys format>"
      ]
     },
     "execution_count": 84,
     "metadata": {},
     "output_type": "execute_result"
    }
   ],
   "source": [
    "cooc"
   ]
  },
  {
   "cell_type": "code",
   "execution_count": 119,
   "id": "e9dc05e9-3614-469a-97df-ff2d20db085b",
   "metadata": {
    "tags": []
   },
   "outputs": [],
   "source": [
    "emb_model = get_cbow_model(word_set, 5, 100)"
   ]
  },
  {
   "cell_type": "code",
   "execution_count": 122,
   "id": "fba9c5e1-9a79-4897-9d51-d6d27838102f",
   "metadata": {
    "tags": []
   },
   "outputs": [],
   "source": [
    "dataset = get_dataset(sentences, word_set, 5)"
   ]
  },
  {
   "cell_type": "code",
   "execution_count": 123,
   "id": "442fc1bd-6e27-43a0-9eb1-19288e6a5b5e",
   "metadata": {
    "tags": []
   },
   "outputs": [],
   "source": [
    "emb_in, emb_out = unwind(dataset)"
   ]
  },
  {
   "cell_type": "code",
   "execution_count": 124,
   "id": "0f6dc9aa-9586-4286-9223-34a94e76e570",
   "metadata": {
    "tags": []
   },
   "outputs": [],
   "source": [
    "emb_model.compile(\"adam\", loss=\"sparse_categorical_crossentropy\")"
   ]
  },
  {
   "cell_type": "code",
   "execution_count": 128,
   "id": "91bc1d6b-bccc-43f0-ac2c-166eb71c8a3a",
   "metadata": {
    "tags": []
   },
   "outputs": [
    {
     "name": "stdout",
     "output_type": "stream",
     "text": [
      "Epoch 1/10\n",
      "568/568 [==============================] - 5s 8ms/step - loss: 0.7946\n",
      "Epoch 2/10\n",
      "568/568 [==============================] - 5s 8ms/step - loss: 0.7128\n",
      "Epoch 3/10\n",
      "568/568 [==============================] - 5s 8ms/step - loss: 0.6380\n",
      "Epoch 4/10\n",
      "568/568 [==============================] - 5s 8ms/step - loss: 0.5684\n",
      "Epoch 5/10\n",
      "568/568 [==============================] - 5s 8ms/step - loss: 0.5047\n",
      "Epoch 6/10\n",
      "568/568 [==============================] - 5s 8ms/step - loss: 0.4467\n",
      "Epoch 7/10\n",
      "568/568 [==============================] - 5s 8ms/step - loss: 0.3937\n",
      "Epoch 8/10\n",
      "568/568 [==============================] - 5s 8ms/step - loss: 0.3462\n",
      "Epoch 9/10\n",
      "568/568 [==============================] - 5s 8ms/step - loss: 0.3038\n",
      "Epoch 10/10\n",
      "568/568 [==============================] - 5s 8ms/step - loss: 0.2654\n"
     ]
    },
    {
     "data": {
      "text/plain": [
       "<keras.callbacks.History at 0x27c6eddac40>"
      ]
     },
     "execution_count": 128,
     "metadata": {},
     "output_type": "execute_result"
    }
   ],
   "source": [
    "emb_model.fit(emb_in, emb_out, epochs=10, batch_size=32)"
   ]
  },
  {
   "cell_type": "code",
   "execution_count": 135,
   "id": "1c58bfa7-0d66-47e1-9aae-907301bb4c08",
   "metadata": {
    "tags": []
   },
   "outputs": [
    {
     "data": {
      "text/plain": [
       "19545"
      ]
     },
     "execution_count": 135,
     "metadata": {},
     "output_type": "execute_result"
    }
   ],
   "source": [
    "max(word_set.values())"
   ]
  },
  {
   "cell_type": "code",
   "execution_count": 136,
   "id": "7edec8a9-5198-4511-99ba-1173652a0338",
   "metadata": {
    "tags": []
   },
   "outputs": [],
   "source": [
    "word_set[\"<PAD>\"] =19546\n",
    "word_set[\"[UNK]\"] =19547"
   ]
  },
  {
   "cell_type": "code",
   "execution_count": 137,
   "id": "3777b1a6-4976-46ab-a203-203a83677946",
   "metadata": {
    "tags": []
   },
   "outputs": [],
   "source": [
    "EMB_VECTORS = emb_model.get_weights()[0]"
   ]
  },
  {
   "cell_type": "code",
   "execution_count": 140,
   "id": "896f91dc-1ec2-4b37-8151-7fb8abd0c4a9",
   "metadata": {
    "tags": []
   },
   "outputs": [],
   "source": [
    "EMB_VECTORS = np.concatenate((EMB_VECTORS, [[0]*100], [[0]*100]))"
   ]
  },
  {
   "cell_type": "markdown",
   "id": "08324851-e082-4587-96c7-5fbe254b8868",
   "metadata": {},
   "source": [
    "## Load Word Vectors"
   ]
  },
  {
   "cell_type": "code",
   "execution_count": 11,
   "id": "589beda7-ae43-4eff-872d-59b57366f67c",
   "metadata": {
    "tags": []
   },
   "outputs": [],
   "source": [
    "word2vec = KeyedVectors.load_word2vec_format(\"util/embedding/GoogleNews-vectors-negative300.bin\", binary=True)"
   ]
  },
  {
   "cell_type": "code",
   "execution_count": 12,
   "id": "d90b43b1-b77a-4c23-a532-be6f5105629e",
   "metadata": {
    "tags": []
   },
   "outputs": [
    {
     "data": {
      "text/plain": [
       "3000000"
      ]
     },
     "execution_count": 12,
     "metadata": {},
     "output_type": "execute_result"
    }
   ],
   "source": [
    "len(word2vec.key_to_index)"
   ]
  },
  {
   "cell_type": "code",
   "execution_count": 13,
   "id": "e8de1edb-7742-4589-9497-0e3b14041a4e",
   "metadata": {
    "tags": []
   },
   "outputs": [],
   "source": [
    "def word2int(word):\n",
    "    return word2vec.key_to_index[word]\n",
    "\n",
    "def int2word(idx):\n",
    "    return word2vec.index_to_key[idx]"
   ]
  },
  {
   "cell_type": "markdown",
   "id": "07b5811e-c514-4aff-915c-c82c9d9964ad",
   "metadata": {},
   "source": [
    "- Add the **padding** and the **unknown** tokens to word2vec"
   ]
  },
  {
   "cell_type": "code",
   "execution_count": 14,
   "id": "2d8573da-706e-4ae5-b6b4-8d810cb0ede6",
   "metadata": {
    "tags": []
   },
   "outputs": [],
   "source": [
    "EMB_DIM = word2vec.vector_size\n",
    "PAD_TOKEN = \"<PAD>\"\n",
    "UNKOWN_TOKEN = \"[UNK]\"\n",
    "PAD_VEC = UNK_VEC = [0] * EMB_DIM\n"
   ]
  },
  {
   "cell_type": "code",
   "execution_count": 15,
   "id": "1f09e3a0-9e4e-4016-af76-80026a677366",
   "metadata": {
    "tags": []
   },
   "outputs": [],
   "source": [
    "word2vec.add_vectors([PAD_TOKEN, UNKOWN_TOKEN], [PAD_VEC, UNK_VEC])"
   ]
  },
  {
   "cell_type": "markdown",
   "id": "d8b44dba-2f97-428a-bc17-cc256c4d65d9",
   "metadata": {},
   "source": [
    "## Generate Vocabulary"
   ]
  },
  {
   "cell_type": "code",
   "execution_count": 16,
   "id": "0ff64b54-4ffb-4a01-96ff-1e002fd8aa28",
   "metadata": {
    "tags": []
   },
   "outputs": [],
   "source": [
    "train_set, test_set = train_test_split(data, test_size=0.1, random_state=13)"
   ]
  },
  {
   "cell_type": "code",
   "execution_count": 17,
   "id": "787c591b-cb4e-4c97-8aab-99e7ddea0217",
   "metadata": {
    "tags": []
   },
   "outputs": [],
   "source": [
    "X_train = train_set.reviews.to_list()\n",
    "X_test = test_set.reviews.to_list()\n",
    "\n",
    "y_train = train_set.sentiment.to_numpy()\n",
    "y_test = test_set.sentiment.to_numpy()"
   ]
  },
  {
   "cell_type": "code",
   "execution_count": 18,
   "id": "e9edf58e-3c05-4dd9-87c1-e46e0c46666a",
   "metadata": {
    "tags": []
   },
   "outputs": [
    {
     "data": {
      "application/vnd.jupyter.widget-view+json": {
       "model_id": "6c7559f36d234e28aa19167bdcf7e551",
       "version_major": 2,
       "version_minor": 0
      },
      "text/plain": [
       "  0%|          | 0/9595 [00:00<?, ?it/s]"
      ]
     },
     "metadata": {},
     "output_type": "display_data"
    }
   ],
   "source": [
    "word_set, X_train = process_documents(X_train)"
   ]
  },
  {
   "cell_type": "code",
   "execution_count": 19,
   "id": "0e919263-ac78-4dba-b80c-9fddec541c22",
   "metadata": {
    "tags": []
   },
   "outputs": [
    {
     "data": {
      "application/vnd.jupyter.widget-view+json": {
       "model_id": "eeb375705aef47b980e49b13c57c422a",
       "version_major": 2,
       "version_minor": 0
      },
      "text/plain": [
       "  0%|          | 0/1067 [00:00<?, ?it/s]"
      ]
     },
     "metadata": {},
     "output_type": "display_data"
    }
   ],
   "source": [
    "X_test = process_documents(X_test, return_vocab=False)"
   ]
  },
  {
   "cell_type": "code",
   "execution_count": 20,
   "id": "0eee8e08-94da-4630-b846-3d805321df41",
   "metadata": {
    "tags": []
   },
   "outputs": [
    {
     "data": {
      "text/plain": [
       "1287"
      ]
     },
     "execution_count": 20,
     "metadata": {},
     "output_type": "execute_result"
    }
   ],
   "source": [
    "missing_words=[]\n",
    "for word in word_set.keys():\n",
    "    if word not in word2vec.key_to_index:\n",
    "        missing_words.append(word)\n",
    "len(missing_words)"
   ]
  },
  {
   "cell_type": "markdown",
   "id": "a228dc86-7e87-4f66-bcfc-e67399467892",
   "metadata": {},
   "source": [
    "We can see that a significant number of words is missing. <br>\n",
    "According to this [forum](https://groups.google.com/g/word2vec-toolkit/c/J3Skqbe3VwQ) we could create random vectors for those words.\n",
    "\n",
    "Another option would be to simply replace those words with the 'UNKOWN' token."
   ]
  },
  {
   "cell_type": "code",
   "execution_count": 21,
   "id": "f63ae06a-e6b2-4dc7-988e-358bd0b2842b",
   "metadata": {
    "tags": []
   },
   "outputs": [],
   "source": [
    "#uncoment if we want random vectors for missing words\n",
    "add_unknown_words(missing_words, word2vec, dev=0.25)"
   ]
  },
  {
   "cell_type": "markdown",
   "id": "db9bc63a-2483-4fc3-bfdb-59c495a9de85",
   "metadata": {},
   "source": [
    "Map each sentence to the corresponding list of word indexes"
   ]
  },
  {
   "cell_type": "code",
   "execution_count": 22,
   "id": "0f03531a-2f21-4bca-be8d-da116ca475a4",
   "metadata": {
    "tags": []
   },
   "outputs": [
    {
     "data": {
      "application/vnd.jupyter.widget-view+json": {
       "model_id": "e3cb5a6ff2124c9880a2e2db9a8aa6c5",
       "version_major": 2,
       "version_minor": 0
      },
      "text/plain": [
       "0it [00:00, ?it/s]"
      ]
     },
     "metadata": {},
     "output_type": "display_data"
    },
    {
     "data": {
      "application/vnd.jupyter.widget-view+json": {
       "model_id": "6b395a8c7f284f61b54aa118fabf3b92",
       "version_major": 2,
       "version_minor": 0
      },
      "text/plain": [
       "0it [00:00, ?it/s]"
      ]
     },
     "metadata": {},
     "output_type": "display_data"
    }
   ],
   "source": [
    "X_train = map_to_index(X_train, word2vec.key_to_index)\n",
    "X_test = map_to_index(X_test, word2vec.key_to_index)"
   ]
  },
  {
   "cell_type": "markdown",
   "id": "fda27a27-436e-4303-81ee-9616f6535bf0",
   "metadata": {},
   "source": [
    "### Generate Trainable data"
   ]
  },
  {
   "cell_type": "code",
   "execution_count": 23,
   "id": "662e3585-be06-4b15-94d6-a780f03a2048",
   "metadata": {
    "tags": []
   },
   "outputs": [
    {
     "data": {
      "text/plain": [
       "(array([0, 1]), array([4791, 4804], dtype=int64))"
      ]
     },
     "execution_count": 23,
     "metadata": {},
     "output_type": "execute_result"
    }
   ],
   "source": [
    "np.unique(y_train, return_counts=True)"
   ]
  },
  {
   "cell_type": "markdown",
   "id": "7797db12-20f2-46b3-a3fa-3d022842c1ee",
   "metadata": {},
   "source": [
    "- Pad training data to create a tabular data format for tensorflow"
   ]
  },
  {
   "cell_type": "code",
   "execution_count": 24,
   "id": "896c3282-92d1-4139-82e1-a68818311ad3",
   "metadata": {
    "tags": []
   },
   "outputs": [
    {
     "data": {
      "text/plain": [
       "29"
      ]
     },
     "execution_count": 24,
     "metadata": {},
     "output_type": "execute_result"
    }
   ],
   "source": [
    "MAX_SEQUENCE_LENGTH = get_max_sequence_length(X_train)\n",
    "MAX_SEQUENCE_LENGTH"
   ]
  },
  {
   "cell_type": "code",
   "execution_count": 25,
   "id": "571d0254-eadc-444b-8001-6525c7d000cb",
   "metadata": {
    "tags": []
   },
   "outputs": [],
   "source": [
    "X_train = pad_sentences(X_train, MAX_SEQUENCE_LENGTH, word2int(PAD_TOKEN))"
   ]
  },
  {
   "cell_type": "code",
   "execution_count": 26,
   "id": "c70485a2-93ae-420e-b657-4e94fc375a39",
   "metadata": {
    "tags": []
   },
   "outputs": [],
   "source": [
    "X_test = pad_sentences(X_test, MAX_SEQUENCE_LENGTH, word2int(PAD_TOKEN))"
   ]
  },
  {
   "cell_type": "code",
   "execution_count": 27,
   "id": "905afb54-31e3-486d-aa71-fc7d4237c49a",
   "metadata": {
    "tags": []
   },
   "outputs": [
    {
     "data": {
      "text/plain": [
       "((9595, 29), (1067, 29))"
      ]
     },
     "execution_count": 27,
     "metadata": {},
     "output_type": "execute_result"
    }
   ],
   "source": [
    "X_train.shape, X_test.shape"
   ]
  },
  {
   "cell_type": "code",
   "execution_count": 28,
   "id": "9ceda6c3-4840-4444-bd91-46e9a1bb2dfe",
   "metadata": {
    "tags": []
   },
   "outputs": [
    {
     "data": {
      "text/plain": [
       "((9595,), (1067,))"
      ]
     },
     "execution_count": 28,
     "metadata": {},
     "output_type": "execute_result"
    }
   ],
   "source": [
    "y_train.shape, y_test.shape"
   ]
  },
  {
   "cell_type": "markdown",
   "id": "a0220165-c7e1-4ef7-89c4-1a4c3159bf25",
   "metadata": {},
   "source": [
    "## Model Training"
   ]
  },
  {
   "cell_type": "code",
   "execution_count": 38,
   "id": "c0ec085c-6a76-450a-b933-da23b4e57929",
   "metadata": {
    "tags": []
   },
   "outputs": [],
   "source": [
    "def plot_layer_weights_at(model, layer_index):\n",
    "    w = model.get_weights()[layer_index]\n",
    "    plt.hist(w)"
   ]
  },
  {
   "cell_type": "code",
   "execution_count": 22,
   "id": "12b37a50-4700-49cb-810e-f4708e5420bf",
   "metadata": {
    "tags": []
   },
   "outputs": [],
   "source": [
    "def get_output_at(model, layer_index, data):\n",
    "    for i in range(layer_index):\n",
    "        data = model.get_layer(index=i)(data)\n",
    "    return data"
   ]
  },
  {
   "cell_type": "code",
   "execution_count": 23,
   "id": "21f4ad1c-b108-40d1-93ad-d36f0ae41192",
   "metadata": {
    "tags": []
   },
   "outputs": [],
   "source": [
    "def plot_out_at(model, layer_index, data):\n",
    "    data = np.array(get_output_at(model, layer_index, data))\n",
    "    print(data.shape)\n",
    "    \n",
    "    plt.axis(\"off\")\n",
    "    plt.imshow(data[0], cmap=\"gray\")"
   ]
  },
  {
   "cell_type": "code",
   "execution_count": 30,
   "id": "6fe520aa-d7a4-4387-9eba-a6db843f663e",
   "metadata": {
    "tags": []
   },
   "outputs": [],
   "source": [
    "vocab_pos = []\n",
    "for w in word_set:\n",
    "    if w in word2vec.key_to_index:\n",
    "        vocab_pos.append(word2int(w))\n",
    "vocab_pos += list(map(word2int, [UNKOWN_TOKEN, PAD_TOKEN]))"
   ]
  },
  {
   "cell_type": "code",
   "execution_count": 31,
   "id": "f1de927b-e871-4fad-bc1a-4c4b9f768415",
   "metadata": {
    "tags": []
   },
   "outputs": [],
   "source": [
    "VOCAB_SIZE = len(vocab_pos)\n",
    "EMB_MATRIX = word2vec.vectors[vocab_pos]"
   ]
  },
  {
   "cell_type": "code",
   "execution_count": 32,
   "id": "32123bf2-204c-4336-9adc-12de5f861fc2",
   "metadata": {
    "tags": []
   },
   "outputs": [
    {
     "data": {
      "text/plain": [
       "(16652, 300)"
      ]
     },
     "execution_count": 32,
     "metadata": {},
     "output_type": "execute_result"
    }
   ],
   "source": [
    "EMB_MATRIX.shape"
   ]
  },
  {
   "cell_type": "code",
   "execution_count": 28,
   "id": "d44eff69-6b1e-44a7-8582-8e1b9725decd",
   "metadata": {
    "tags": []
   },
   "outputs": [],
   "source": [
    "def get_k_nearest(idx, k=5):\n",
    "    word_idx = vocab_pos[idx]\n",
    "    print(int2word(word_idx))\n",
    "    \n",
    "    dists = [ \n",
    "        euclidean(EMB_MATRIX[idx], EMB_MATRIX[other]) for other in range(len(vocab_pos)) \n",
    "    ]\n",
    "    order = np.argsort(dists)[1:k+1]\n",
    "    \n",
    "    correct_idx = np.array(vocab_pos)[order]\n",
    "    return [ int2word(i) for i in correct_idx ]\n",
    "\n",
    "\n",
    "def get_k_nearest_from_embedding(embed, idx, k=5):\n",
    "    word_idx = vocab_pos[idx]\n",
    "    print(int2word(word_idx))\n",
    "    \n",
    "    dists = [ \n",
    "        euclidean(embed[idx], embed[other]) for other in range(len(vocab_pos)) \n",
    "    ]\n",
    "    order = np.argsort(dists)[1:k+1]\n",
    "    \n",
    "    correct_idx = np.array(vocab_pos)[order]\n",
    "    return [ int2word(i) for i in correct_idx ]"
   ]
  },
  {
   "cell_type": "code",
   "execution_count": 74,
   "id": "177d9ea8-0c1a-4c4d-9773-e9d56ad2337d",
   "metadata": {},
   "outputs": [],
   "source": [
    "cnn = models.Sequential([\n",
    "    layers.InputLayer(input_shape=MAX_SEQUENCE_LENGTH),\n",
    "    layers.Embedding(\n",
    "        input_dim=VOCAB_SIZE,\n",
    "        output_dim=EMB_MATRIX.shape[1],\n",
    "        embeddings_initializer=init.Constant(EMB_MATRIX),\n",
    "        trainable=True,\n",
    "    ),\n",
    "    layers.Dropout(0.4),\n",
    "    \n",
    "    layers.Conv1D(32, kernel_size=3, activation=layers.LeakyReLU(), kernel_constraint=\"unit_norm\"),\n",
    "    layers.MaxPool1D(),\n",
    "    \n",
    "    layers.Conv1D(64, kernel_size=3, activation=layers.LeakyReLU()),\n",
    "    layers.GlobalMaxPool1D(),\n",
    "    \n",
    "    layers.Dropout(0.4),\n",
    "    layers.Dense(256, activation=layers.LeakyReLU()),\n",
    "    layers.Dropout(0.2),\n",
    "    layers.Dense(\n",
    "        units=1, activation=\"sigmoid\", activity_regularizer=\"l2\"\n",
    "    )\n",
    "])\n",
    "cnn.compile(\"adam\", loss=\"binary_crossentropy\", metrics=[\"accuracy\"])"
   ]
  },
  {
   "cell_type": "code",
   "execution_count": 75,
   "id": "bc76fe29-e5a2-4979-a748-ec066d2a81e0",
   "metadata": {
    "tags": []
   },
   "outputs": [
    {
     "name": "stdout",
     "output_type": "stream",
     "text": [
      "Epoch 1/20\n",
      "300/300 [==============================] - 6s 18ms/step - loss: 0.7496 - accuracy: 0.5067 - val_loss: 0.6939 - val_accuracy: 0.5248\n",
      "Epoch 2/20\n",
      "300/300 [==============================] - 5s 17ms/step - loss: 0.6990 - accuracy: 0.5197 - val_loss: 0.6847 - val_accuracy: 0.5708\n",
      "Epoch 3/20\n",
      "300/300 [==============================] - 5s 17ms/step - loss: 0.6708 - accuracy: 0.5920 - val_loss: 0.6395 - val_accuracy: 0.6336\n",
      "Epoch 4/20\n",
      "300/300 [==============================] - 5s 17ms/step - loss: 0.5808 - accuracy: 0.6980 - val_loss: 0.5772 - val_accuracy: 0.7001\n",
      "Epoch 5/20\n",
      "300/300 [==============================] - 5s 16ms/step - loss: 0.4818 - accuracy: 0.7737 - val_loss: 0.5782 - val_accuracy: 0.6870\n",
      "Epoch 6/20\n",
      "300/300 [==============================] - 5s 16ms/step - loss: 0.3931 - accuracy: 0.8216 - val_loss: 0.5789 - val_accuracy: 0.7151\n",
      "Epoch 7/20\n",
      "300/300 [==============================] - 5s 16ms/step - loss: 0.3309 - accuracy: 0.8543 - val_loss: 0.6142 - val_accuracy: 0.7085\n"
     ]
    }
   ],
   "source": [
    "train_history = cnn.fit(\n",
    "    x=X_train,\n",
    "    y=y_train, \n",
    "    epochs=20,\n",
    "    batch_size=32,\n",
    "    validation_data=(X_test, y_test),\n",
    "    callbacks=[callbacks.EarlyStopping(patience=3)]\n",
    ")"
   ]
  },
  {
   "cell_type": "code",
   "execution_count": 85,
   "id": "9528fe45-5aaa-4c6f-b166-9ad98f926b1f",
   "metadata": {
    "tags": []
   },
   "outputs": [
    {
     "data": {
      "text/plain": [
       "<matplotlib.legend.Legend at 0x182e251d5b0>"
      ]
     },
     "execution_count": 85,
     "metadata": {},
     "output_type": "execute_result"
    },
    {
     "data": {
      "image/png": "[encoded data removed]",
      "text/plain": [
       "<Figure size 640x480 with 1 Axes>"
      ]
     },
     "metadata": {},
     "output_type": "display_data"
    }
   ],
   "source": [
    "plt.plot(train_history.history[\"loss\"], label=\"train_loss\")\n",
    "plt.plot(train_history.history[\"val_loss\"], label=\"val_loss\")\n",
    "plt.legend()"
   ]
  },
  {
   "cell_type": "code",
   "execution_count": 76,
   "id": "e80677d5-a500-4fe4-b56b-1e73a8a12071",
   "metadata": {
    "tags": []
   },
   "outputs": [
    {
     "data": {
      "image/png": "[encoded data removed]",
      "text/plain": [
       "<Figure size 640x480 with 1 Axes>"
      ]
     },
     "metadata": {},
     "output_type": "display_data"
    }
   ],
   "source": [
    "plot_layer_weights_at(cnn, -2)"
   ]
  },
  {
   "cell_type": "code",
   "execution_count": 78,
   "id": "f62d3acd-1d39-4a1b-a62f-b08c40d05315",
   "metadata": {},
   "outputs": [
    {
     "data": {
      "image/png": "[encoded data removed]",
      "text/plain": [
       "<Figure size 640x480 with 1 Axes>"
      ]
     },
     "metadata": {},
     "output_type": "display_data"
    }
   ],
   "source": [
    "plot_layer_weights_at(cnn, -4)"
   ]
  },
  {
   "cell_type": "code",
   "execution_count": 80,
   "id": "4ca30e6d-4cbb-4f1f-9d21-4e91bb0a30d1",
   "metadata": {
    "tags": []
   },
   "outputs": [
    {
     "data": {
      "text/plain": [
       "(64, 256)"
      ]
     },
     "execution_count": 80,
     "metadata": {},
     "output_type": "execute_result"
    }
   ],
   "source": [
    "cnn.get_weights()[-4].shape"
   ]
  },
  {
   "cell_type": "code",
   "execution_count": null,
   "id": "fcef62ce-e9dd-4d0a-a098-f0f3b22c383f",
   "metadata": {},
   "outputs": [],
   "source": []
  }
 ],
 "metadata": {
  "kernelspec": {
   "display_name": "Python 3 (ipykernel)",
   "language": "python",
   "name": "python3"
  },
  "language_info": {
   "codemirror_mode": {
    "name": "ipython",
    "version": 3
   },
   "file_extension": ".py",
   "mimetype": "text/x-python",
   "name": "python",
   "nbconvert_exporter": "python",
   "pygments_lexer": "ipython3",
   "version": "3.9.7"
  }
 },
 "nbformat": 4,
 "nbformat_minor": 5
}
