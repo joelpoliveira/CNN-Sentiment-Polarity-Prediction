{
 "cells": [
  {
   "cell_type": "code",
   "execution_count": 1,
   "id": "45e4ae35-7992-442d-8d3e-597c22658acb",
   "metadata": {},
   "outputs": [],
   "source": [
    "%reload_ext autoreload\n",
    "%autoreload 2\n",
    "\n",
    "import os\n",
    "import nltk\n",
    "import string\n",
    "import numpy as np\n",
    "import matplotlib.pyplot as plt\n",
    "\n",
    "import tensorflow as tf\n",
    "from tensorflow.keras import layers\n",
    "from tensorflow.keras import models\n",
    "from tensorflow.keras import initializers as init\n",
    "from tensorflow.keras import losses\n",
    "from tensorflow.keras import metrics\n",
    "from tensorflow.keras import optimizers\n",
    "from tensorflow.keras import callbacks\n",
    "\n",
    "from gensim.models import Word2Vec, KeyedVectors\n",
    "from sklearn.model_selection import train_test_split\n",
    "\n",
    "from util.preprocessing import *\n",
    "from util.io import *\n",
    "\n",
    "PATH = \"./data/rt-polaritydata/\"\n",
    "PATH_TRANSLATE = \"./data/rt-polaritydata-translated/\"\n",
    "\n",
    "TRANSLATION_ON_DISK=True"
   ]
  },
  {
   "cell_type": "markdown",
   "id": "ff450bd4-0e3a-4601-8315-4bbd00595180",
   "metadata": {
    "tags": []
   },
   "source": [
    "## Preprocessing"
   ]
  },
  {
   "cell_type": "code",
   "execution_count": 2,
   "id": "65f767ee-d547-41b4-a626-0c697f8b08bc",
   "metadata": {
    "tags": []
   },
   "outputs": [],
   "source": [
    "if TRANSLATION_ON_DISK:\n",
    "    docs,_ = get_documents(PATH_TRANSLATE)\n",
    "else:\n",
    "    docs, _ = get_documents(PATH)\n",
    "\n",
    "    #only used once, since it is a bottleneck\n",
    "    docs[0] = batch_translate_to_english(docs[0], batch_size=20)\n",
    "    docs[1] = batch_translate_to_english(docs[1], batch_size=20)\n",
    "\n",
    "    write_documents(docs, PATH_TRANSLATE, PATH)\n"
   ]
  },
  {
   "cell_type": "code",
   "execution_count": 4,
   "id": "4ba7d8cf-45e1-419c-9530-90f9f01e3150",
   "metadata": {
    "tags": []
   },
   "outputs": [
    {
     "name": "stderr",
     "output_type": "stream",
     "text": [
      "100%|███████████████████████████████████████████████████████████████████████████████████████████████████████████████████████████████████████████████████████████████████| 10662/10662 [00:05<00:00, 1831.98it/s]\n"
     ]
    }
   ],
   "source": [
    "word_set, sentences = process_documents(docs[0]+docs[1])"
   ]
  },
  {
   "cell_type": "code",
   "execution_count": 5,
   "id": "74fb3a66-c8df-4b60-9304-b1130690fed2",
   "metadata": {
    "tags": []
   },
   "outputs": [
    {
     "data": {
      "text/plain": [
       "(19545, 14627)"
      ]
     },
     "execution_count": 5,
     "metadata": {},
     "output_type": "execute_result"
    }
   ],
   "source": [
    "len(word_set), len(sentences)"
   ]
  },
  {
   "cell_type": "markdown",
   "id": "6b2ba95c-53bd-4b81-8010-037be6b2653a",
   "metadata": {
    "tags": []
   },
   "source": [
    "In the paper (where the 1st version was used) they stated to have $18765$ words in the dataset. It is almost the same has what we obtained, $19545$. \n",
    "The algorithm used to translate might have been improved, or maybe the word filtering or word tokenizer might be slightly different."
   ]
  },
  {
   "cell_type": "markdown",
   "id": "08324851-e082-4587-96c7-5fbe254b8868",
   "metadata": {},
   "source": [
    "# Load Word Vectors"
   ]
  },
  {
   "cell_type": "code",
   "execution_count": 67,
   "id": "589beda7-ae43-4eff-872d-59b57366f67c",
   "metadata": {
    "tags": []
   },
   "outputs": [],
   "source": [
    "word2vec = KeyedVectors.load_word2vec_format(\"util/embedding/glove.bin\", binary=True)"
   ]
  },
  {
   "cell_type": "code",
   "execution_count": 68,
   "id": "d90b43b1-b77a-4c23-a532-be6f5105629e",
   "metadata": {
    "tags": []
   },
   "outputs": [
    {
     "data": {
      "text/plain": [
       "302815"
      ]
     },
     "execution_count": 68,
     "metadata": {},
     "output_type": "execute_result"
    }
   ],
   "source": [
    "len(word2vec.key_to_index)"
   ]
  },
  {
   "cell_type": "code",
   "execution_count": 8,
   "id": "d0e09b57-d6d1-4001-992f-6160a8ec758b",
   "metadata": {
    "tags": []
   },
   "outputs": [],
   "source": [
    "def word2int(word):\n",
    "    return word2vec.get_index(word)\n",
    "\n",
    "def int2word(index):\n",
    "    return word2vec.index_to_key[index]"
   ]
  },
  {
   "cell_type": "markdown",
   "id": "07b5811e-c514-4aff-915c-c82c9d9964ad",
   "metadata": {},
   "source": [
    "- Add the padding token to word2vec"
   ]
  },
  {
   "cell_type": "code",
   "execution_count": 69,
   "id": "2d8573da-706e-4ae5-b6b4-8d810cb0ede6",
   "metadata": {
    "tags": []
   },
   "outputs": [],
   "source": [
    "EMB_DIM = word2vec.vector_size\n",
    "PAD_TOKEN = \"<PAD>\"\n",
    "UNKOWN_TOKEN = \"[UNK]\"\n",
    "PAD_VEC = UNK_VEC = [0] * EMB_DIM\n"
   ]
  },
  {
   "cell_type": "code",
   "execution_count": 70,
   "id": "1f09e3a0-9e4e-4016-af76-80026a677366",
   "metadata": {
    "tags": []
   },
   "outputs": [],
   "source": [
    "word2vec.add_vectors([PAD_TOKEN, UNKOWN_TOKEN], [PAD_VEC, UNK_VEC])"
   ]
  },
  {
   "cell_type": "markdown",
   "id": "a934aa4f-1d95-4205-a0be-811166f9b96f",
   "metadata": {
    "tags": []
   },
   "source": [
    "## Preprocessing"
   ]
  },
  {
   "cell_type": "markdown",
   "id": "d8b44dba-2f97-428a-bc17-cc256c4d65d9",
   "metadata": {},
   "source": [
    "### Generate Vocabulary"
   ]
  },
  {
   "cell_type": "code",
   "execution_count": 11,
   "id": "2fc63024-1b99-4821-843b-c5b630a1ec22",
   "metadata": {},
   "outputs": [],
   "source": [
    "docs, _ = get_documents(PATH_TRANSLATE)"
   ]
  },
  {
   "cell_type": "code",
   "execution_count": 8,
   "id": "56ab1947-8345-4c4d-aedb-a63e37e629b4",
   "metadata": {
    "tags": []
   },
   "outputs": [
    {
     "name": "stderr",
     "output_type": "stream",
     "text": [
      "100%|███████████████████████████████████████████████████████████████████████████████████████████████████████████████████████████████████████████████████████████████████| 10662/10662 [00:06<00:00, 1660.02it/s]\n"
     ]
    }
   ],
   "source": [
    "word_set, sentences = process_documents(docs[0] + docs[1])"
   ]
  },
  {
   "cell_type": "code",
   "execution_count": 12,
   "id": "e9edf58e-3c05-4dd9-87c1-e46e0c46666a",
   "metadata": {
    "tags": []
   },
   "outputs": [
    {
     "data": {
      "text/plain": [
       "(19545, 14627)"
      ]
     },
     "execution_count": 12,
     "metadata": {},
     "output_type": "execute_result"
    }
   ],
   "source": [
    "len(word_set), len(sentences)"
   ]
  },
  {
   "cell_type": "code",
   "execution_count": 71,
   "id": "0eee8e08-94da-4630-b846-3d805321df41",
   "metadata": {
    "tags": []
   },
   "outputs": [
    {
     "data": {
      "text/plain": [
       "5445"
      ]
     },
     "execution_count": 71,
     "metadata": {},
     "output_type": "execute_result"
    }
   ],
   "source": [
    "missing_words=[]\n",
    "for word in word_set.keys():\n",
    "    if word not in word2vec.key_to_index:\n",
    "        missing_words.append(word)\n",
    "len(missing_words)"
   ]
  },
  {
   "cell_type": "markdown",
   "id": "a228dc86-7e87-4f66-bcfc-e67399467892",
   "metadata": {},
   "source": [
    "We can see that a significant number of words is missing. <br>\n",
    "According to this [forum](https://groups.google.com/g/word2vec-toolkit/c/J3Skqbe3VwQ) we could create random vectors for those words.\n",
    "\n",
    "Another option would be to simply replace those words with the 'UNKOWN' token."
   ]
  },
  {
   "cell_type": "code",
   "execution_count": 10,
   "id": "f63ae06a-e6b2-4dc7-988e-358bd0b2842b",
   "metadata": {
    "tags": []
   },
   "outputs": [],
   "source": [
    "add_unknown_words(missing_words, word2vec)"
   ]
  },
  {
   "cell_type": "code",
   "execution_count": 11,
   "id": "25c444c0-04f5-4eab-be7c-619252c14e26",
   "metadata": {
    "tags": []
   },
   "outputs": [
    {
     "data": {
      "text/plain": [
       "0"
      ]
     },
     "execution_count": 11,
     "metadata": {},
     "output_type": "execute_result"
    }
   ],
   "source": [
    "missing_words=[]\n",
    "for word in word_set.keys():\n",
    "    if word not in word2vec.key_to_index:\n",
    "        missing_words.append(word)\n",
    "len(missing_words)"
   ]
  },
  {
   "cell_type": "markdown",
   "id": "db9bc63a-2483-4fc3-bfdb-59c495a9de85",
   "metadata": {},
   "source": [
    "Map each sentence to the corresponding list of word indexes"
   ]
  },
  {
   "cell_type": "code",
   "execution_count": 72,
   "id": "dd9da0e4-01cf-4bd4-818e-ae29c1e65345",
   "metadata": {
    "tags": []
   },
   "outputs": [
    {
     "name": "stderr",
     "output_type": "stream",
     "text": [
      "100%|█████████████████████████████████████████████████████████████████████████████████████████████████████████████████████████████████████████████████████████████████████| 5331/5331 [00:01<00:00, 2815.66it/s]\n",
      "100%|█████████████████████████████████████████████████████████████████████████████████████████████████████████████████████████████████████████████████████████████████████| 5331/5331 [00:01<00:00, 2775.66it/s]\n"
     ]
    }
   ],
   "source": [
    "sentences_neg = map_sentences(docs[0], word2vec.key_to_index)\n",
    "sentences_pos =  map_sentences(docs[1], word2vec.key_to_index)"
   ]
  },
  {
   "cell_type": "code",
   "execution_count": 73,
   "id": "bd6f6e84-6b78-4a5c-83a2-3a4838038a65",
   "metadata": {
    "tags": []
   },
   "outputs": [
    {
     "name": "stderr",
     "output_type": "stream",
     "text": [
      "100%|█████████████████████████████████████████████████████████████████████████████████████████████████████████████████████████████████████████████████████████████████████| 5331/5331 [00:02<00:00, 1807.74it/s]\n"
     ]
    }
   ],
   "source": [
    "docs_neg = map_documents(docs[0], word2vec.key_to_index)"
   ]
  },
  {
   "cell_type": "code",
   "execution_count": 74,
   "id": "9e4552d5-f5f4-461f-a26a-1dfc89fb87c4",
   "metadata": {
    "tags": []
   },
   "outputs": [
    {
     "name": "stderr",
     "output_type": "stream",
     "text": [
      "100%|█████████████████████████████████████████████████████████████████████████████████████████████████████████████████████████████████████████████████████████████████████| 5331/5331 [00:02<00:00, 1894.54it/s]\n"
     ]
    }
   ],
   "source": [
    "docs_pos = map_documents(docs[1], word2vec.key_to_index)"
   ]
  },
  {
   "cell_type": "code",
   "execution_count": 75,
   "id": "d13271fd-bbce-421d-866a-3d91aaf1b031",
   "metadata": {
    "tags": []
   },
   "outputs": [
    {
     "data": {
      "text/plain": [
       "[30253, 22138, 33431]"
      ]
     },
     "execution_count": 75,
     "metadata": {},
     "output_type": "execute_result"
    }
   ],
   "source": [
    "docs_neg[0]"
   ]
  },
  {
   "cell_type": "code",
   "execution_count": 41,
   "id": "77cd6e71-0930-43b7-a6bb-df00bdae9238",
   "metadata": {
    "tags": []
   },
   "outputs": [
    {
     "data": {
      "text/plain": [
       "28"
      ]
     },
     "execution_count": 41,
     "metadata": {},
     "output_type": "execute_result"
    }
   ],
   "source": [
    "max(list(map(len, docs_neg)))"
   ]
  },
  {
   "cell_type": "code",
   "execution_count": 44,
   "id": "874080b2-e151-4b7d-a027-09a3c6a6048f",
   "metadata": {
    "tags": []
   },
   "outputs": [
    {
     "data": {
      "text/plain": [
       "28"
      ]
     },
     "execution_count": 44,
     "metadata": {},
     "output_type": "execute_result"
    }
   ],
   "source": [
    "max(list(map(len, docs_pos)))"
   ]
  },
  {
   "cell_type": "code",
   "execution_count": 42,
   "id": "b22c2c60-9b1c-467b-b885-11129da0bc55",
   "metadata": {
    "tags": []
   },
   "outputs": [
    {
     "name": "stdout",
     "output_type": "stream",
     "text": [
      "1\n"
     ]
    }
   ],
   "source": [
    "for i, sent in enumerate(sentences_neg):\n",
    "    if 302867 in sent:\n",
    "        print(i)\n",
    "        break"
   ]
  },
  {
   "cell_type": "markdown",
   "id": "fda27a27-436e-4303-81ee-9616f6535bf0",
   "metadata": {},
   "source": [
    "### Generate Trainable data"
   ]
  },
  {
   "cell_type": "code",
   "execution_count": 76,
   "id": "418d0c71-e16a-4c4a-833d-d1cf9281e195",
   "metadata": {
    "tags": []
   },
   "outputs": [],
   "source": [
    "sentences = sentences_neg + sentences_pos\n",
    "y = [0] * len(sentences_neg) + [1] * len(sentences_pos)"
   ]
  },
  {
   "cell_type": "markdown",
   "id": "1f5cf9fc-c936-43b6-93ac-3de8bcde3c05",
   "metadata": {},
   "source": [
    "- Generate Training and Test set"
   ]
  },
  {
   "cell_type": "code",
   "execution_count": 77,
   "id": "d9c3c221-0592-495b-8cd1-b2c664921181",
   "metadata": {
    "tags": []
   },
   "outputs": [],
   "source": [
    "(X_train, X_test,\n",
    "y_train, y_test) = train_test_split(sentences, y, test_size=0.1, random_state=123)"
   ]
  },
  {
   "cell_type": "markdown",
   "id": "7797db12-20f2-46b3-a3fa-3d022842c1ee",
   "metadata": {},
   "source": [
    "- Pad training data to create a tabular data format for tensorflow"
   ]
  },
  {
   "cell_type": "code",
   "execution_count": 78,
   "id": "6c527282-7aea-4035-ab19-35b200083b82",
   "metadata": {
    "tags": []
   },
   "outputs": [
    {
     "data": {
      "text/plain": [
       "27"
      ]
     },
     "execution_count": 78,
     "metadata": {},
     "output_type": "execute_result"
    }
   ],
   "source": [
    "get_max_sequence_length(X_test)"
   ]
  },
  {
   "cell_type": "code",
   "execution_count": 79,
   "id": "896c3282-92d1-4139-82e1-a68818311ad3",
   "metadata": {
    "tags": []
   },
   "outputs": [
    {
     "data": {
      "text/plain": [
       "28"
      ]
     },
     "execution_count": 79,
     "metadata": {},
     "output_type": "execute_result"
    }
   ],
   "source": [
    "MAX_SEQUENCE_LENGTH = get_max_sequence_length(X_train)\n",
    "MAX_SEQUENCE_LENGTH"
   ]
  },
  {
   "cell_type": "code",
   "execution_count": 80,
   "id": "571d0254-eadc-444b-8001-6525c7d000cb",
   "metadata": {
    "tags": []
   },
   "outputs": [],
   "source": [
    "X_train = pad_sentences(X_train, MAX_SEQUENCE_LENGTH, word2int(PAD_TOKEN))"
   ]
  },
  {
   "cell_type": "code",
   "execution_count": 81,
   "id": "c70485a2-93ae-420e-b657-4e94fc375a39",
   "metadata": {
    "tags": []
   },
   "outputs": [],
   "source": [
    "X_test = pad_sentences(X_test, MAX_SEQUENCE_LENGTH, word2int(PAD_TOKEN))"
   ]
  },
  {
   "cell_type": "code",
   "execution_count": 19,
   "id": "905afb54-31e3-486d-aa71-fc7d4237c49a",
   "metadata": {
    "tags": []
   },
   "outputs": [
    {
     "data": {
      "text/plain": [
       "((9595, 28), (1067, 28))"
      ]
     },
     "execution_count": 19,
     "metadata": {},
     "output_type": "execute_result"
    }
   ],
   "source": [
    "X_train.shape, X_test.shape"
   ]
  },
  {
   "cell_type": "code",
   "execution_count": 82,
   "id": "9ceda6c3-4840-4444-bd91-46e9a1bb2dfe",
   "metadata": {
    "tags": []
   },
   "outputs": [
    {
     "data": {
      "text/plain": [
       "((9595,), (1067,))"
      ]
     },
     "execution_count": 82,
     "metadata": {},
     "output_type": "execute_result"
    }
   ],
   "source": [
    "y_train = np.array(y_train)\n",
    "y_test = np.array(y_test)\n",
    "\n",
    "y_train.shape, y_test.shape"
   ]
  },
  {
   "cell_type": "markdown",
   "id": "a0220165-c7e1-4ef7-89c4-1a4c3159bf25",
   "metadata": {},
   "source": [
    "## Model Training"
   ]
  },
  {
   "cell_type": "code",
   "execution_count": 83,
   "id": "f1de927b-e871-4fad-bc1a-4c4b9f768415",
   "metadata": {
    "tags": []
   },
   "outputs": [],
   "source": [
    "VOCAB_SIZE = len(word2vec.key_to_index)\n",
    "EMB_MATRIX = word2vec.vectors"
   ]
  },
  {
   "cell_type": "code",
   "execution_count": 84,
   "id": "8015f6f2-d263-4027-bf6d-bd79a54130f5",
   "metadata": {
    "tags": []
   },
   "outputs": [],
   "source": [
    "embedding_layer = layers.Embedding(\n",
    "    input_dim=VOCAB_SIZE,\n",
    "    output_dim=EMB_DIM,\n",
    "    embeddings_initializer=init.Constant(EMB_MATRIX),\n",
    "    trainable=False   \n",
    ")"
   ]
  },
  {
   "cell_type": "code",
   "execution_count": 126,
   "id": "177d9ea8-0c1a-4c4d-9773-e9d56ad2337d",
   "metadata": {},
   "outputs": [],
   "source": [
    "model = models.Sequential([\n",
    "    layers.InputLayer(input_shape=MAX_SEQUENCE_LENGTH),\n",
    "    embedding_layer,\n",
    "    layers.Conv1D(16, 2, activation='relu'),\n",
    "    layers.AveragePooling1D(2, padding=\"same\"),\n",
    "    layers.Conv1D(8, 2, activation=\"relu\"),\n",
    "    layers.AveragePooling1D(2, padding=\"same\"),\n",
    "    layers.GlobalAveragePooling1D(),\n",
    "    #layers.Dropout(0.2),\n",
    "    layers.Dense(1, activation=\"sigmoid\")\n",
    "])"
   ]
  },
  {
   "cell_type": "code",
   "execution_count": 127,
   "id": "323de9a1-f07a-4b5a-bc5b-1c056ba8f8c3",
   "metadata": {},
   "outputs": [
    {
     "data": {
      "text/plain": [
       "<tf.Tensor: shape=(2, 1), dtype=float32, numpy=\n",
       "array([[0.46222118],\n",
       "       [0.47997656]], dtype=float32)>"
      ]
     },
     "execution_count": 127,
     "metadata": {},
     "output_type": "execute_result"
    }
   ],
   "source": [
    "model(X_train[:2])"
   ]
  },
  {
   "cell_type": "code",
   "execution_count": 128,
   "id": "41587cff-3cb6-4b2e-80bf-d0e903b2b977",
   "metadata": {
    "tags": []
   },
   "outputs": [],
   "source": [
    "model.compile(\n",
    "    \"adam\",#optimizer=optimizers.SGD(learning_rate=0.01, momentum=0.35), \n",
    "    loss=\"binary_crossentropy\", \n",
    "    metrics=[\"accuracy\"],\n",
    ")"
   ]
  },
  {
   "cell_type": "code",
   "execution_count": null,
   "id": "bc76fe29-e5a2-4979-a748-ec066d2a81e0",
   "metadata": {
    "tags": []
   },
   "outputs": [
    {
     "name": "stdout",
     "output_type": "stream",
     "text": [
      "Epoch 1/20\n",
      "600/600 [==============================] - 7s 10ms/step - loss: 0.6322 - accuracy: 0.6624 - val_loss: 0.5914 - val_accuracy: 0.7273\n",
      "Epoch 2/20\n",
      "600/600 [==============================] - 5s 9ms/step - loss: 0.5553 - accuracy: 0.7371 - val_loss: 0.5456 - val_accuracy: 0.7460\n",
      "Epoch 3/20\n",
      "600/600 [==============================] - 5s 9ms/step - loss: 0.5330 - accuracy: 0.7499 - val_loss: 0.5390 - val_accuracy: 0.7432\n",
      "Epoch 4/20\n",
      "600/600 [==============================] - 5s 9ms/step - loss: 0.5206 - accuracy: 0.7558 - val_loss: 0.5329 - val_accuracy: 0.7488\n",
      "Epoch 5/20\n",
      "600/600 [==============================] - 5s 9ms/step - loss: 0.5071 - accuracy: 0.7675 - val_loss: 0.5300 - val_accuracy: 0.7535\n",
      "Epoch 6/20\n",
      "218/600 [=========>....................] - ETA: 3s - loss: 0.5085 - accuracy: 0.7663"
     ]
    }
   ],
   "source": [
    "model.fit(\n",
    "    x=X_train, \n",
    "    y=y_train, \n",
    "    epochs=20,\n",
    "    batch_size=16,\n",
    "    validation_data=(X_test, y_test),\n",
    "    callbacks=[callbacks.EarlyStopping(patience=5)]\n",
    ")"
   ]
  },
  {
   "cell_type": "code",
   "execution_count": 74,
   "id": "16b5b663-f18f-4e2b-9500-573d7149c77a",
   "metadata": {},
   "outputs": [
    {
     "data": {
      "text/plain": [
       "array([  8389,  33672,  25008, 148740, 179654,  46797, 106940,  31426,\n",
       "       128737,  40403,  85043,  26154, 307250,   1165,     80,  57023,\n",
       "        11178, 302866, 302866, 302866, 302866, 302866, 302866, 302866,\n",
       "       302866, 302866, 302866, 302866])"
      ]
     },
     "execution_count": 74,
     "metadata": {},
     "output_type": "execute_result"
    }
   ],
   "source": [
    "X_train[0]"
   ]
  },
  {
   "cell_type": "code",
   "execution_count": null,
   "id": "27c37ad3-4a13-4a60-a02e-be58ba1695af",
   "metadata": {},
   "outputs": [],
   "source": []
  }
 ],
 "metadata": {
  "kernelspec": {
   "display_name": "Python 3 (ipykernel)",
   "language": "python",
   "name": "python3"
  },
  "language_info": {
   "codemirror_mode": {
    "name": "ipython",
    "version": 3
   },
   "file_extension": ".py",
   "mimetype": "text/x-python",
   "name": "python",
   "nbconvert_exporter": "python",
   "pygments_lexer": "ipython3",
   "version": "3.9.7"
  }
 },
 "nbformat": 4,
 "nbformat_minor": 5
}
