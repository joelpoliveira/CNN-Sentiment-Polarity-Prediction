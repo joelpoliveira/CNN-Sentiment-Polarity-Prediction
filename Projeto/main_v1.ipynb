{
 "cells": [
  {
   "cell_type": "code",
   "execution_count": null,
   "id": "45e4ae35-7992-442d-8d3e-597c22658acb",
   "metadata": {},
   "outputs": [],
   "source": [
    "%reload_ext autoreload\n",
    "%autoreload 2\n",
    "\n",
    "import os\n",
    "import nltk\n",
    "import string\n",
    "import numpy as np\n",
    "import pandas as pd\n",
    "import matplotlib.pyplot as plt\n",
    "\n",
    "import tensorflow as tf\n",
    "from tensorflow.keras import (layers, models, \n",
    "                              initializers as init, \n",
    "                              losses, metrics, \n",
    "                              optimizers, callbacks, \n",
    "                              activations, regularizers, \n",
    "                              constraints)\n",
    "\n",
    "from gensim.models import Word2Vec, KeyedVectors\n",
    "from sklearn.model_selection import train_test_split\n",
    "from sklearn.preprocessing import LabelEncoder\n",
    "from sklearn.metrics import (matthews_corrcoef as mcc, \n",
    "                             ConfusionMatrixDisplay, confusion_matrix, \n",
    "                             classification_report, f1_score) \n",
    "\n",
    "from util.preprocessing import *\n",
    "from util.postprocessing import *\n",
    "from util.io import *\n",
    "\n",
    "PATH = \"./data/rt-polaritydata/\"\n",
    "PATH_TRANSLATE = \"./data/rt-polaritydata-translated/\"\n",
    "\n",
    "TRANSLATION_ON_DISK=True"
   ]
  },
  {
   "cell_type": "markdown",
   "id": "ff450bd4-0e3a-4601-8315-4bbd00595180",
   "metadata": {
    "tags": []
   },
   "source": [
    "## Translate to English "
   ]
  },
  {
   "cell_type": "code",
   "execution_count": null,
   "id": "65f767ee-d547-41b4-a626-0c697f8b08bc",
   "metadata": {
    "tags": []
   },
   "outputs": [],
   "source": [
    "if TRANSLATION_ON_DISK:\n",
    "    docs,_ = get_documents(PATH_TRANSLATE)\n",
    "else:\n",
    "    docs, _ = get_documents(PATH)\n",
    "\n",
    "    #only used once, since it is a bottleneck\n",
    "    docs[0] = batch_translate_to_english(docs[0], batch_size=20)\n",
    "    docs[1] = batch_translate_to_english(docs[1], batch_size=20)\n",
    "\n",
    "    write_documents(docs, PATH_TRANSLATE, PATH)\n"
   ]
  },
  {
   "cell_type": "markdown",
   "id": "6f10f8f5-e372-4daa-95c0-67ae95564403",
   "metadata": {},
   "source": [
    "## Set data to pandas dataframe"
   ]
  },
  {
   "cell_type": "code",
   "execution_count": null,
   "id": "2491908d-9d52-4ef2-8b21-6977baf884d3",
   "metadata": {
    "tags": []
   },
   "outputs": [],
   "source": [
    "data = pd.DataFrame(data = {\n",
    "    \"review\": docs[0] + docs[1],\n",
    "    \"label\": [_[0]] * len(docs[0]) + [_[1]] * len(docs[1])\n",
    "})\n"
   ]
  },
  {
   "cell_type": "code",
   "execution_count": null,
   "id": "7cbbfb89-a374-4ffb-b02a-546f8063d655",
   "metadata": {
    "tags": []
   },
   "outputs": [],
   "source": [
    "data.head()"
   ]
  },
  {
   "cell_type": "code",
   "execution_count": null,
   "id": "15062caa-0483-447f-b6a7-cd48d2cd53d5",
   "metadata": {
    "tags": []
   },
   "outputs": [],
   "source": [
    "enc = LabelEncoder().fit(data.label)\n",
    "data.label = enc.transform(data.label)"
   ]
  },
  {
   "cell_type": "code",
   "execution_count": null,
   "id": "6acc4134-618c-42d6-9f45-53c98931be7a",
   "metadata": {
    "tags": []
   },
   "outputs": [],
   "source": [
    "data.head()"
   ]
  },
  {
   "cell_type": "markdown",
   "id": "0d265811-4303-4d2d-8f2d-f646e8778cc8",
   "metadata": {
    "tags": []
   },
   "source": [
    "## Check all dataset"
   ]
  },
  {
   "cell_type": "code",
   "execution_count": null,
   "id": "4ba7d8cf-45e1-419c-9530-90f9f01e3150",
   "metadata": {
    "tags": []
   },
   "outputs": [],
   "source": [
    "word_set, docs = process_documents(data.review.to_list())"
   ]
  },
  {
   "cell_type": "code",
   "execution_count": null,
   "id": "ed193e83-8f0a-4280-bebd-9705f7344d2a",
   "metadata": {
    "tags": []
   },
   "outputs": [],
   "source": [
    "rev_word_set = { value:key for key,value in word_set.items()}"
   ]
  },
  {
   "cell_type": "code",
   "execution_count": null,
   "id": "74fb3a66-c8df-4b60-9304-b1130690fed2",
   "metadata": {
    "tags": []
   },
   "outputs": [],
   "source": [
    "len(word_set), len(docs)"
   ]
  },
  {
   "cell_type": "markdown",
   "id": "6b2ba95c-53bd-4b81-8010-037be6b2653a",
   "metadata": {
    "tags": []
   },
   "source": [
    "In the paper (where the 1st version was used) they stated to have $18765$ words in the dataset. It is almost the same has what we obtained, $17491$. \n",
    "The algorithm used to translate might have been improved, or maybe the word filtering or word tokenizer might be slightly different."
   ]
  },
  {
   "cell_type": "markdown",
   "id": "da9663d8-e24b-4bd7-a14b-7c55a1ef2d69",
   "metadata": {},
   "source": [
    "## Create train/test sets"
   ]
  },
  {
   "cell_type": "code",
   "execution_count": null,
   "id": "9ba89c30-c99a-409e-89bd-73ce175d11ef",
   "metadata": {
    "tags": []
   },
   "outputs": [],
   "source": [
    "train_set, test_set = train_test_split(data, test_size=0.1, random_state=13)\n",
    "train_set, validation_set = train_test_split(train_set, test_size=0.1, random_state=13)"
   ]
  },
  {
   "cell_type": "code",
   "execution_count": null,
   "id": "e210d0f8-32a9-4c71-946e-992ed7551bd4",
   "metadata": {
    "tags": []
   },
   "outputs": [],
   "source": [
    "X_train = train_set.review.to_list()\n",
    "X_val = validation_set.review.to_list()\n",
    "\n",
    "y_train = train_set.label.to_numpy()\n",
    "y_val = validation_set.label.to_numpy()"
   ]
  },
  {
   "cell_type": "code",
   "execution_count": null,
   "id": "0a3bf53e-7951-4af6-a685-68307589e8cb",
   "metadata": {
    "tags": []
   },
   "outputs": [],
   "source": [
    "word_set, X_train = process_documents(X_train)"
   ]
  },
  {
   "cell_type": "code",
   "execution_count": null,
   "id": "e91db654-2a78-4f22-9cc9-125539392e1b",
   "metadata": {
    "tags": []
   },
   "outputs": [],
   "source": [
    "len(word_set)"
   ]
  },
  {
   "cell_type": "code",
   "execution_count": null,
   "id": "d3b93982-65b7-4131-b6d5-55111872c760",
   "metadata": {
    "tags": []
   },
   "outputs": [],
   "source": [
    "X_val = process_documents(X_val, return_vocab=False)"
   ]
  },
  {
   "cell_type": "markdown",
   "id": "08324851-e082-4587-96c7-5fbe254b8868",
   "metadata": {},
   "source": [
    "## Load Word Vectors"
   ]
  },
  {
   "cell_type": "code",
   "execution_count": null,
   "id": "589beda7-ae43-4eff-872d-59b57366f67c",
   "metadata": {
    "tags": []
   },
   "outputs": [],
   "source": [
    "word2vec = KeyedVectors.load_word2vec_format(\"util/embedding/GoogleNews-vectors-negative300.bin\", binary=True)"
   ]
  },
  {
   "cell_type": "code",
   "execution_count": null,
   "id": "e8de1edb-7742-4589-9497-0e3b14041a4e",
   "metadata": {
    "tags": []
   },
   "outputs": [],
   "source": [
    "def word2int(word):\n",
    "    return word2vec.key_to_index[word]\n",
    "\n",
    "def int2word(idx):\n",
    "    return word2vec.index_to_key[idx]"
   ]
  },
  {
   "cell_type": "markdown",
   "id": "07b5811e-c514-4aff-915c-c82c9d9964ad",
   "metadata": {},
   "source": [
    "- Add the **padding** and the **unknown** tokens to word2vec"
   ]
  },
  {
   "cell_type": "code",
   "execution_count": null,
   "id": "2d8573da-706e-4ae5-b6b4-8d810cb0ede6",
   "metadata": {
    "tags": []
   },
   "outputs": [],
   "source": [
    "EMB_DIM = word2vec.vector_size\n",
    "PAD_TOKEN = \"<PAD>\"\n",
    "UNKOWN_TOKEN = \"[UNK]\"\n",
    "PAD_VEC = UNK_VEC = [0] * EMB_DIM\n"
   ]
  },
  {
   "cell_type": "code",
   "execution_count": null,
   "id": "1f09e3a0-9e4e-4016-af76-80026a677366",
   "metadata": {
    "tags": []
   },
   "outputs": [],
   "source": [
    "word2vec.add_vectors([PAD_TOKEN, UNKOWN_TOKEN], [PAD_VEC, UNK_VEC])"
   ]
  },
  {
   "cell_type": "code",
   "execution_count": null,
   "id": "0eee8e08-94da-4630-b846-3d805321df41",
   "metadata": {
    "tags": []
   },
   "outputs": [],
   "source": [
    "missing_words=[]\n",
    "for word in word_set.keys():\n",
    "    if word not in word2vec.key_to_index:\n",
    "        missing_words.append(word)\n",
    "len(missing_words)"
   ]
  },
  {
   "cell_type": "markdown",
   "id": "a228dc86-7e87-4f66-bcfc-e67399467892",
   "metadata": {},
   "source": [
    "We can see that a significant number of words is missing. <br>\n",
    "According to this [forum](https://groups.google.com/g/word2vec-toolkit/c/J3Skqbe3VwQ) we could create random vectors for those words.\n",
    "\n",
    "Another option would be to simply replace those words with the 'UNKOWN' token."
   ]
  },
  {
   "cell_type": "code",
   "execution_count": null,
   "id": "f63ae06a-e6b2-4dc7-988e-358bd0b2842b",
   "metadata": {
    "tags": []
   },
   "outputs": [],
   "source": [
    "#uncoment if we want random vectors for missing words\n",
    "add_unknown_words(missing_words, word2vec, dev=0.25)"
   ]
  },
  {
   "cell_type": "markdown",
   "id": "db9bc63a-2483-4fc3-bfdb-59c495a9de85",
   "metadata": {},
   "source": [
    "## Map each sentence to the corresponding list of word indexes"
   ]
  },
  {
   "cell_type": "code",
   "execution_count": null,
   "id": "0f03531a-2f21-4bca-be8d-da116ca475a4",
   "metadata": {
    "tags": []
   },
   "outputs": [],
   "source": [
    "X_train = map_to_index(X_train, word2vec.key_to_index)\n",
    "X_val = map_to_index(X_val, word2vec.key_to_index)"
   ]
  },
  {
   "cell_type": "code",
   "execution_count": null,
   "id": "896c3282-92d1-4139-82e1-a68818311ad3",
   "metadata": {
    "tags": []
   },
   "outputs": [],
   "source": [
    "MAX_SEQUENCE_LENGTH = get_max_sequence_length(X_train)\n",
    "MAX_SEQUENCE_LENGTH"
   ]
  },
  {
   "cell_type": "code",
   "execution_count": null,
   "id": "571d0254-eadc-444b-8001-6525c7d000cb",
   "metadata": {
    "tags": []
   },
   "outputs": [],
   "source": [
    "X_train = pad_documents(X_train, MAX_SEQUENCE_LENGTH, word2int(PAD_TOKEN))"
   ]
  },
  {
   "cell_type": "code",
   "execution_count": null,
   "id": "c70485a2-93ae-420e-b657-4e94fc375a39",
   "metadata": {
    "tags": []
   },
   "outputs": [],
   "source": [
    "X_val = pad_documents(X_val, MAX_SEQUENCE_LENGTH, word2int(PAD_TOKEN))"
   ]
  },
  {
   "cell_type": "code",
   "execution_count": null,
   "id": "905afb54-31e3-486d-aa71-fc7d4237c49a",
   "metadata": {
    "tags": []
   },
   "outputs": [],
   "source": [
    "X_train.shape, X_val.shape"
   ]
  },
  {
   "cell_type": "code",
   "execution_count": null,
   "id": "9ceda6c3-4840-4444-bd91-46e9a1bb2dfe",
   "metadata": {
    "tags": []
   },
   "outputs": [],
   "source": [
    "y_train.shape, y_val.shape"
   ]
  },
  {
   "cell_type": "markdown",
   "id": "a0220165-c7e1-4ef7-89c4-1a4c3159bf25",
   "metadata": {},
   "source": [
    "## Model Training"
   ]
  },
  {
   "cell_type": "code",
   "execution_count": null,
   "id": "6fe520aa-d7a4-4387-9eba-a6db843f663e",
   "metadata": {
    "tags": []
   },
   "outputs": [],
   "source": [
    "vocab_pos = []\n",
    "new_ind = {}\n",
    "i=0\n",
    "for w in word_set:\n",
    "    if w in word2vec.key_to_index:\n",
    "        vocab_pos.append(word2int(w))\n",
    "        new_ind[w]=i\n",
    "        i+=1\n",
    "vocab_pos += list(map(word2int, [UNKOWN_TOKEN, PAD_TOKEN]))\n",
    "new_ind[PAD_TOKEN]=i\n",
    "new_ind[UNKOWN_TOKEN]=i+1"
   ]
  },
  {
   "cell_type": "code",
   "execution_count": null,
   "id": "6ba29471-22f8-4d03-91a6-33c08e49aa99",
   "metadata": {
    "tags": []
   },
   "outputs": [],
   "source": [
    "rev_ind = { value:key for key, value in new_ind.items()}"
   ]
  },
  {
   "cell_type": "code",
   "execution_count": null,
   "id": "f1de927b-e871-4fad-bc1a-4c4b9f768415",
   "metadata": {
    "tags": []
   },
   "outputs": [],
   "source": [
    "VOCAB_SIZE = len(vocab_pos)\n",
    "EMB_MATRIX = word2vec.vectors[vocab_pos]"
   ]
  },
  {
   "cell_type": "code",
   "execution_count": null,
   "id": "32123bf2-204c-4336-9adc-12de5f861fc2",
   "metadata": {
    "tags": []
   },
   "outputs": [],
   "source": [
    "EMB_MATRIX.shape"
   ]
  },
  {
   "cell_type": "code",
   "execution_count": null,
   "id": "f5c8bc9e-a6a0-4af5-bd2e-fafc56e0b705",
   "metadata": {
    "tags": []
   },
   "outputs": [],
   "source": [
    "np.unique(y_train, return_counts=True)"
   ]
  },
  {
   "cell_type": "code",
   "execution_count": null,
   "id": "26104f84-07c9-4789-bd6a-19c7dea520b9",
   "metadata": {
    "tags": []
   },
   "outputs": [],
   "source": [
    "def get_nlp_cnn():\n",
    "    cnn = models.Sequential([\n",
    "        layers.InputLayer(input_shape=MAX_SEQUENCE_LENGTH),\n",
    "        layers.Embedding(\n",
    "            input_dim=VOCAB_SIZE,\n",
    "            output_dim=EMB_MATRIX.shape[1],\n",
    "            embeddings_initializer=init.Constant(EMB_MATRIX),\n",
    "            trainable=True,\n",
    "        ),\n",
    "        layers.Dropout(0.4),\n",
    "\n",
    "        layers.Conv1D(64, 3, activation=\"relu\"),\n",
    "        layers.MaxPool1D(),\n",
    "        layers.Flatten(),\n",
    "\n",
    "        layers.Dropout(0.2),\n",
    "        layers.Dense(128, activation=\"relu\"),\n",
    "        layers.Dropout(0.1),\n",
    "        layers.Dense(\n",
    "            units=1, activation=\"sigmoid\"\n",
    "        )\n",
    "    ])\n",
    "    cnn.compile(\"adam\", loss=\"binary_crossentropy\", metrics=[\"accuracy\"])\n",
    "    return cnn"
   ]
  },
  {
   "cell_type": "code",
   "execution_count": null,
   "id": "177d9ea8-0c1a-4c4d-9773-e9d56ad2337d",
   "metadata": {},
   "outputs": [],
   "source": [
    "cnn = get_nlp_cnn()"
   ]
  },
  {
   "cell_type": "code",
   "execution_count": null,
   "id": "607cf3c1-b97c-4665-bc6b-928af62686cc",
   "metadata": {
    "tags": []
   },
   "outputs": [],
   "source": [
    "untrained_preds = get_predictions(cnn, X_val)\n",
    "mcc(y_val, untrained_preds)"
   ]
  },
  {
   "cell_type": "code",
   "execution_count": null,
   "id": "a52b8692-d9f8-48cd-b356-8584369b934d",
   "metadata": {
    "tags": []
   },
   "outputs": [],
   "source": [
    "(y_val==untrained_preds.ravel()).sum() / len(y_val)"
   ]
  },
  {
   "cell_type": "code",
   "execution_count": null,
   "id": "bc76fe29-e5a2-4979-a748-ec066d2a81e0",
   "metadata": {
    "tags": []
   },
   "outputs": [],
   "source": [
    "train_history = cnn.fit(\n",
    "    x=X_train,\n",
    "    y=y_train, \n",
    "    epochs=20,\n",
    "    batch_size=32,\n",
    "    validation_data=(X_val, y_val),\n",
    "    callbacks=[callbacks.EarlyStopping(patience=4)]\n",
    ")"
   ]
  },
  {
   "cell_type": "code",
   "execution_count": null,
   "id": "d3814c09-d580-4d87-ba13-d6728dda8699",
   "metadata": {
    "tags": []
   },
   "outputs": [],
   "source": [
    "w,c = np.unique(X_train, return_counts=True)"
   ]
  },
  {
   "cell_type": "code",
   "execution_count": null,
   "id": "03864987-e2c1-485c-9c4a-fd283511e8e1",
   "metadata": {
    "tags": []
   },
   "outputs": [],
   "source": [
    "w[np.argsort(c)[::-1]][:10]"
   ]
  },
  {
   "cell_type": "code",
   "execution_count": null,
   "id": "3df862b6-37ef-4a9f-957c-de663070f936",
   "metadata": {
    "tags": []
   },
   "outputs": [],
   "source": [
    "list(\n",
    "    map(lambda x: word2vec.index_to_key[x], w[np.argsort(c)[::-1]][:10])\n",
    ")"
   ]
  },
  {
   "cell_type": "code",
   "execution_count": null,
   "id": "8d2bf614-e292-4bbb-a828-4dbd1ad4fabc",
   "metadata": {
    "tags": []
   },
   "outputs": [],
   "source": [
    "get_k_nearest_from(\"hate\", new_ind, rev_ind, EMB_MATRIX, k=5)"
   ]
  },
  {
   "cell_type": "code",
   "execution_count": null,
   "id": "3baf0fc9-9bb4-4235-9a0e-912cde01c25f",
   "metadata": {
    "tags": []
   },
   "outputs": [],
   "source": [
    "get_k_nearest_from(\"hate\", new_ind, rev_ind, cnn.get_weights()[0], k=5)"
   ]
  },
  {
   "cell_type": "code",
   "execution_count": null,
   "id": "dd2b8f3b-bcae-48a3-9843-9ed59aea930e",
   "metadata": {
    "tags": []
   },
   "outputs": [],
   "source": [
    "preds = get_predictions(cnn, X_val)\n",
    "mcc(y_val, preds)"
   ]
  },
  {
   "cell_type": "code",
   "execution_count": null,
   "id": "c9c7227b-b83f-4d36-b492-a63d5cda1ac2",
   "metadata": {
    "tags": []
   },
   "outputs": [],
   "source": [
    "f, _ = plot_history(train_history, \"loss\")"
   ]
  },
  {
   "cell_type": "code",
   "execution_count": null,
   "id": "67d3defc-3698-4f04-8582-1186e398b9da",
   "metadata": {
    "tags": []
   },
   "outputs": [],
   "source": [
    "plot_history(train_history, \"accuracy\")"
   ]
  },
  {
   "cell_type": "markdown",
   "id": "724b2aff-411d-4277-91f3-6bb5b87714cb",
   "metadata": {
    "tags": []
   },
   "source": [
    "### Test Set"
   ]
  },
  {
   "cell_type": "code",
   "execution_count": null,
   "id": "1ce8405d-bdd4-4218-a0b7-9d78cce11b03",
   "metadata": {
    "tags": []
   },
   "outputs": [],
   "source": [
    "model = get_nlp_cnn()\n",
    "train_history = model.fit(\n",
    "    x=X_train,\n",
    "    y=y_train, \n",
    "    epochs=3,\n",
    "    batch_size=32,\n",
    "    validation_data=(X_val, y_val),\n",
    "    callbacks=[callbacks.EarlyStopping(patience=4)]\n",
    ")"
   ]
  },
  {
   "cell_type": "code",
   "execution_count": null,
   "id": "fcef62ce-e9dd-4d0a-a098-f0f3b22c383f",
   "metadata": {},
   "outputs": [],
   "source": [
    "X_test, y_test = test_set.reviews, test_set.sentiment.to_numpy()"
   ]
  },
  {
   "cell_type": "code",
   "execution_count": null,
   "id": "6fd3d55f-581f-41d4-9766-ce81c5fe54f6",
   "metadata": {
    "tags": []
   },
   "outputs": [],
   "source": [
    "X_test = process_documents(X_test.to_list(), return_vocab=False)"
   ]
  },
  {
   "cell_type": "code",
   "execution_count": null,
   "id": "3b704404-6682-4524-8cc9-281883f26d39",
   "metadata": {
    "tags": []
   },
   "outputs": [],
   "source": [
    "X_test = map_to_index(X_test, word2vec.key_to_index)"
   ]
  },
  {
   "cell_type": "code",
   "execution_count": null,
   "id": "d1e6f713-ad50-40a2-8e26-b3a1084b9d9f",
   "metadata": {
    "tags": []
   },
   "outputs": [],
   "source": [
    "X_test = pad_sentences(X_test, MAX_SEQUENCE_LENGTH, word2int(PAD_TOKEN))"
   ]
  },
  {
   "cell_type": "code",
   "execution_count": null,
   "id": "61e5b935-dc2f-42f4-a70e-88a8939ec52d",
   "metadata": {
    "tags": []
   },
   "outputs": [],
   "source": [
    "preds = get_predictions(model, X_test)"
   ]
  },
  {
   "cell_type": "code",
   "execution_count": null,
   "id": "326be371-7bc6-46f1-ab84-af0fb514ab24",
   "metadata": {
    "tags": []
   },
   "outputs": [],
   "source": [
    "conf_matrix(y_test, preds)"
   ]
  },
  {
   "cell_type": "code",
   "execution_count": null,
   "id": "39f9bf66-ca5e-4dee-93da-8db505a1b346",
   "metadata": {
    "tags": []
   },
   "outputs": [],
   "source": [
    "mcc(y_test, preds)"
   ]
  },
  {
   "cell_type": "code",
   "execution_count": null,
   "id": "c9dd7284-13ed-4df3-8f71-dd9f9b050986",
   "metadata": {
    "tags": []
   },
   "outputs": [],
   "source": [
    "print(classification_report(y_test, preds))"
   ]
  },
  {
   "cell_type": "code",
   "execution_count": null,
   "id": "dc5beb76-7bbc-4340-9ae4-59f7e030b89e",
   "metadata": {},
   "outputs": [],
   "source": [
    "cnn.save(\"./data/rt-polaritydata-translated/cnn.h5\")"
   ]
  }
 ],
 "metadata": {
  "kernelspec": {
   "display_name": "Python 3 (ipykernel)",
   "language": "python",
   "name": "python3"
  },
  "language_info": {
   "codemirror_mode": {
    "name": "ipython",
    "version": 3
   },
   "file_extension": ".py",
   "mimetype": "text/x-python",
   "name": "python",
   "nbconvert_exporter": "python",
   "pygments_lexer": "ipython3",
   "version": "3.9.7"
  }
 },
 "nbformat": 4,
 "nbformat_minor": 5
}
