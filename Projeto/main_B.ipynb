{
 "cells": [
  {
   "cell_type": "code",
   "execution_count": null,
   "id": "bfc1e9a5-48e8-4794-be5e-e0996e3e39b4",
   "metadata": {
    "tags": []
   },
   "outputs": [],
   "source": [
    "%reload_ext autoreload\n",
    "%autoreload 2\n",
    "\n",
    "import os\n",
    "import nltk\n",
    "import string\n",
    "import pickle\n",
    "import numpy as np\n",
    "import pandas as pd\n",
    "import matplotlib.pyplot as plt\n",
    "\n",
    "import tensorflow as tf\n",
    "from tensorflow.keras import (layers, models, \n",
    "                              initializers as init, \n",
    "                              losses, metrics, \n",
    "                              optimizers, callbacks, \n",
    "                              activations, regularizers)\n",
    "\n",
    "from gensim.models import Word2Vec, KeyedVectors\n",
    "\n",
    "from sklearn.model_selection import train_test_split\n",
    "from sklearn.preprocessing import LabelEncoder\n",
    "from sklearn.metrics import (matthews_corrcoef as mcc, \n",
    "                             ConfusionMatrixDisplay, confusion_matrix, \n",
    "                             classification_report) \n",
    "\n",
    "from util.preprocessing import *\n",
    "from util.postprocessing import *\n",
    "from util.io import *\n",
    "from tqdm.notebook import tqdm\n",
    "\n",
    "PATH = \"./data/imdb_data/IMDB_dataset_320.000_reviews.csv\"\n",
    "PATH_TRANSLATE = \"./data/imdb_data/imdb_translated.csv\"\n",
    "\n",
    "TRANSLATION_ON_DISK=True"
   ]
  },
  {
   "cell_type": "markdown",
   "id": "2312244b-1291-4fbe-8cce-139af8edb8fc",
   "metadata": {
    "tags": []
   },
   "source": [
    "## Preprocessing "
   ]
  },
  {
   "cell_type": "markdown",
   "id": "62a26d3a-b590-4c46-94df-3ada1257b2ec",
   "metadata": {
    "tags": []
   },
   "source": [
    "### Polarity Creation From labels\n",
    "- According to [this](https://www.kaggle.com/datasets/pawankumargunjan/imdb-review) Kaggle dataset, the positive polarity can be set to when a movie rating was higher than 6, a bad one when the rating was lower than 5."
   ]
  },
  {
   "cell_type": "code",
   "execution_count": null,
   "id": "c124b09b-6594-4458-8740-12d76c5897ad",
   "metadata": {
    "tags": []
   },
   "outputs": [],
   "source": [
    "if TRANSLATION_ON_DISK==False:\n",
    "    data = pd.read_csv(PATH)[[\"review\", \"label\"]]\n",
    "data.head()"
   ]
  },
  {
   "cell_type": "code",
   "execution_count": null,
   "id": "4c2a0f60-a44a-468d-aa91-7d9a1349eaf7",
   "metadata": {
    "tags": []
   },
   "outputs": [],
   "source": [
    "def get_polarity(x):\n",
    "    if x>=7:\n",
    "        return 1\n",
    "    elif x<=4:\n",
    "        return 0\n",
    "    return np.nan"
   ]
  },
  {
   "cell_type": "code",
   "execution_count": null,
   "id": "4c54412a-3e41-4f69-aedf-f4ad8d796612",
   "metadata": {
    "tags": []
   },
   "outputs": [],
   "source": [
    "data.label = data.label.apply(get_polarity)"
   ]
  },
  {
   "cell_type": "code",
   "execution_count": null,
   "id": "7812c277-7dd7-48d9-babe-455841e3ed39",
   "metadata": {
    "tags": []
   },
   "outputs": [],
   "source": [
    "data.head()"
   ]
  },
  {
   "cell_type": "code",
   "execution_count": null,
   "id": "73362bed-7b50-4211-b3a8-c6dee5650c32",
   "metadata": {
    "tags": []
   },
   "outputs": [],
   "source": [
    "data.dropna(inplace=True)"
   ]
  },
  {
   "cell_type": "code",
   "execution_count": null,
   "id": "25992400-0aae-46f2-9436-7ebdd689c219",
   "metadata": {
    "tags": []
   },
   "outputs": [],
   "source": [
    "len(data)"
   ]
  },
  {
   "cell_type": "markdown",
   "id": "ea15fb5f-773c-4dc2-9115-cbab7e1cf586",
   "metadata": {
    "tags": []
   },
   "source": [
    "### Translation to English"
   ]
  },
  {
   "cell_type": "code",
   "execution_count": null,
   "id": "7fcfd8b2-0a7d-4e78-86ed-076b7bc19996",
   "metadata": {},
   "outputs": [],
   "source": [
    "translations = []\n",
    "len(translations)"
   ]
  },
  {
   "cell_type": "code",
   "execution_count": null,
   "id": "27f8f62c-94e4-4fcb-a4b9-5f84c6957976",
   "metadata": {
    "tags": []
   },
   "outputs": [],
   "source": [
    "# long times, connection sometimes lost. Needed to be performed in more than one run\n",
    "how_many=30\n",
    "for i in tqdm(range(len(translations), len(data)+how_many-1, how_many)):\n",
    "    j = i+how_many\n",
    "    translations += batch_translate_to_english(data.iloc[i:j].review.to_list())"
   ]
  },
  {
   "cell_type": "code",
   "execution_count": null,
   "id": "5e6f7324-a6ca-4848-a912-c40e5292ab3f",
   "metadata": {
    "tags": []
   },
   "outputs": [],
   "source": [
    "len(data), len(translations)"
   ]
  },
  {
   "cell_type": "code",
   "execution_count": null,
   "id": "ee801e86-c523-4a08-a488-9b936cb151cc",
   "metadata": {
    "tags": []
   },
   "outputs": [],
   "source": [
    "data[\"review\"] = translations"
   ]
  },
  {
   "cell_type": "code",
   "execution_count": null,
   "id": "029fcbf5-7889-435d-9cdd-f9b4673c0c61",
   "metadata": {
    "tags": []
   },
   "outputs": [],
   "source": [
    "data.to_csv(\"data/imdb_translated.csv\", index=False)"
   ]
  },
  {
   "cell_type": "markdown",
   "id": "873059b4-8183-4794-a8b4-32b6ed25c8a4",
   "metadata": {
    "tags": []
   },
   "source": [
    "### Tokenization"
   ]
  },
  {
   "cell_type": "code",
   "execution_count": null,
   "id": "f1c590cc-cc08-49fc-82a6-56ba0719db53",
   "metadata": {
    "tags": []
   },
   "outputs": [],
   "source": [
    "data = pd.read_csv(PATH_TRANSLATE)\n",
    "data.head()"
   ]
  },
  {
   "cell_type": "code",
   "execution_count": null,
   "id": "78c6e4f4-83f3-4181-91ba-9ab812a685c8",
   "metadata": {
    "tags": []
   },
   "outputs": [],
   "source": [
    "train_set, test_set = train_test_split(data, test_size=0.1, random_state=13)\n",
    "train_set, val_set = train_test_split(train_set, test_size=0.2, random_state=13)"
   ]
  },
  {
   "cell_type": "code",
   "execution_count": null,
   "id": "fd1733c1-b672-49ca-b3b1-c9d264a274f0",
   "metadata": {
    "tags": []
   },
   "outputs": [],
   "source": [
    "X_train = train_set.review.to_list()\n",
    "X_val = val_set.review.to_list()\n",
    "\n",
    "y_train = train_set.label.to_numpy()\n",
    "y_val = val_set.label.to_numpy()"
   ]
  },
  {
   "cell_type": "code",
   "execution_count": null,
   "id": "cb386f5c-d019-4f3b-ba5f-cdb5d2d53921",
   "metadata": {
    "tags": []
   },
   "outputs": [],
   "source": [
    "word_set, X_train = process_documents(X_train)"
   ]
  },
  {
   "cell_type": "code",
   "execution_count": null,
   "id": "c12ddab5-345d-4b46-90f9-a6e8577a7a1a",
   "metadata": {
    "tags": []
   },
   "outputs": [],
   "source": [
    "X_val = process_documents(X_val, False)"
   ]
  },
  {
   "cell_type": "code",
   "execution_count": null,
   "id": "67843fa2-b7e3-4f21-b2b1-0bc53502581a",
   "metadata": {
    "tags": []
   },
   "outputs": [],
   "source": [
    "with open(\"data/imdb_data/processed_data.pickle\", \"wb\") as f:\n",
    "    pickle.dump((X_train, X_val), f)"
   ]
  },
  {
   "cell_type": "code",
   "execution_count": null,
   "id": "19e48410-7d1d-40f3-8eea-08fd861f5aee",
   "metadata": {
    "tags": []
   },
   "outputs": [],
   "source": [
    "with open(\"./data/imdb_data/vocab.pickle\", \"wb\") as f:\n",
    "    pickle.dump(word_set, f)"
   ]
  },
  {
   "cell_type": "code",
   "execution_count": null,
   "id": "9b8598b3-575c-43a8-80e6-5e2487678c00",
   "metadata": {
    "tags": []
   },
   "outputs": [],
   "source": [
    "X_train, X_val = pickle.load(open(\"data/imdb_data/processed_data.pickle\", \"rb\"))"
   ]
  },
  {
   "cell_type": "code",
   "execution_count": null,
   "id": "68164391-a4cb-43ab-9d32-58d14f38c78e",
   "metadata": {
    "tags": []
   },
   "outputs": [],
   "source": [
    "word_set = pickle.load(open(\"data/imdb_data/vocab.pickle\", \"rb\"))"
   ]
  },
  {
   "cell_type": "code",
   "execution_count": null,
   "id": "966ea204-b352-425c-b973-a0846eb18230",
   "metadata": {
    "tags": []
   },
   "outputs": [],
   "source": [
    "len(word_set)"
   ]
  },
  {
   "cell_type": "markdown",
   "id": "d3a65859-774f-45f0-9ddb-55cf9ab9d044",
   "metadata": {
    "tags": []
   },
   "source": [
    "## Load Word2Vec Model"
   ]
  },
  {
   "cell_type": "code",
   "execution_count": null,
   "id": "f9831d84-ffd7-4f52-9bed-9705573c2dfe",
   "metadata": {
    "tags": []
   },
   "outputs": [],
   "source": [
    "word2vec = KeyedVectors.load_word2vec_format(\"util/embedding/GoogleNews-vectors-negative300.bin\", binary=True)"
   ]
  },
  {
   "cell_type": "code",
   "execution_count": null,
   "id": "64548c76-9485-49f8-a3cd-656a967ee508",
   "metadata": {
    "tags": []
   },
   "outputs": [],
   "source": [
    "word2vec.vector_size"
   ]
  },
  {
   "cell_type": "code",
   "execution_count": null,
   "id": "8559aac2-12b4-436e-ba45-c55a15930aa8",
   "metadata": {},
   "outputs": [],
   "source": [
    "EMB_DIM = word2vec.vector_size\n",
    "PAD_TOKEN = \"<PAD>\"\n",
    "UNKOWN_TOKEN = \"[UNK]\"\n",
    "PAD_VEC = UNK_VEC = [0] * EMB_DIM"
   ]
  },
  {
   "cell_type": "code",
   "execution_count": null,
   "id": "9028137d-d353-47eb-b433-29d24709aac8",
   "metadata": {
    "tags": []
   },
   "outputs": [],
   "source": [
    "word2vec.add_vectors([PAD_TOKEN, UNKOWN_TOKEN], [PAD_VEC, UNK_VEC])"
   ]
  },
  {
   "cell_type": "code",
   "execution_count": null,
   "id": "77b8a0bd-53e2-4b5d-bf39-0426a77f77af",
   "metadata": {
    "tags": []
   },
   "outputs": [],
   "source": [
    "missing_words=[]\n",
    "for word in word_set.keys():\n",
    "    if word not in word2vec.key_to_index:\n",
    "        missing_words.append(word)\n",
    "len(missing_words)"
   ]
  },
  {
   "cell_type": "code",
   "execution_count": null,
   "id": "2fc5d006-60c4-4d51-a178-6b03c0202fa7",
   "metadata": {
    "tags": []
   },
   "outputs": [],
   "source": [
    "#uncoment if we want random vectors for missing words\n",
    "add_unknown_words(missing_words, word2vec, dev=0.25)"
   ]
  },
  {
   "cell_type": "markdown",
   "id": "c779b819-1e04-4303-972d-1c871232a122",
   "metadata": {
    "tags": []
   },
   "source": [
    "### Map words to respective index in dictionary"
   ]
  },
  {
   "cell_type": "code",
   "execution_count": null,
   "id": "d3869c3d-6429-412f-bbe9-7ee8626681d7",
   "metadata": {},
   "outputs": [],
   "source": [
    "X_train = map_to_index(X_train, word2vec.key_to_index)\n",
    "X_val = map_to_index(X_val, word2vec.key_to_index)"
   ]
  },
  {
   "cell_type": "code",
   "execution_count": null,
   "id": "0dbed492-26a8-4e00-80d4-e23f415fb5b2",
   "metadata": {
    "tags": []
   },
   "outputs": [],
   "source": [
    "np.unique(y_train, return_counts=True)"
   ]
  },
  {
   "cell_type": "code",
   "execution_count": null,
   "id": "dfccdd52-9704-46eb-95d7-5308f689563b",
   "metadata": {
    "tags": []
   },
   "outputs": [],
   "source": [
    "np.unique(y_val, return_counts=True)"
   ]
  },
  {
   "cell_type": "markdown",
   "id": "b4f767d0-ae87-4964-8ce0-34834d76b7f9",
   "metadata": {
    "tags": []
   },
   "source": [
    "### Process data to tabular format"
   ]
  },
  {
   "cell_type": "code",
   "execution_count": null,
   "id": "0e7f4f65-0d6d-4015-8864-86a3a2e7f50f",
   "metadata": {
    "tags": []
   },
   "outputs": [],
   "source": [
    "MAX_SEQUENCE_LENGTH = get_max_sequence_length(X_train)\n",
    "MAX_SEQUENCE_LENGTH"
   ]
  },
  {
   "cell_type": "code",
   "execution_count": null,
   "id": "c44ab15f-e396-407c-b637-69781293a22e",
   "metadata": {
    "tags": []
   },
   "outputs": [],
   "source": [
    "X_train = pad_sentences(X_train, MAX_SEQUENCE_LENGTH, word2vec.key_to_index[PAD_TOKEN])"
   ]
  },
  {
   "cell_type": "code",
   "execution_count": null,
   "id": "62cdba7d-ad56-42aa-8029-31bded400c38",
   "metadata": {
    "tags": []
   },
   "outputs": [],
   "source": [
    "X_val = pad_sentences(X_val, MAX_SEQUENCE_LENGTH, word2vec.key_to_index[PAD_TOKEN])"
   ]
  },
  {
   "cell_type": "code",
   "execution_count": null,
   "id": "5e761c08-c64b-46dd-b6bc-46118d086533",
   "metadata": {
    "tags": []
   },
   "outputs": [],
   "source": [
    "X_train.shape, X_val.shape"
   ]
  },
  {
   "cell_type": "code",
   "execution_count": null,
   "id": "f64905c7-6a45-497a-95bf-3eb57532957b",
   "metadata": {
    "tags": []
   },
   "outputs": [],
   "source": [
    "counts = np.unique(y_train, return_counts=True)[1]\n",
    "counts/counts.sum()"
   ]
  },
  {
   "cell_type": "markdown",
   "id": "a5e4f8d0-82df-4f0a-8c98-2c2428ebaf14",
   "metadata": {},
   "source": [
    "A model that would predict only the `positive` sentiment would have 71% accuracy"
   ]
  },
  {
   "cell_type": "markdown",
   "id": "a5fdc781-4c10-4e82-9efd-1b4db42c537c",
   "metadata": {
    "tags": []
   },
   "source": [
    "## Savel essential data elements\n",
    "to avoid taking long times running the previous steps"
   ]
  },
  {
   "cell_type": "code",
   "execution_count": null,
   "id": "e0f82492-8edb-4817-9d98-4cf3ae03a804",
   "metadata": {
    "tags": []
   },
   "outputs": [],
   "source": [
    "train_set = tf.data.Dataset.from_tensor_slices((X_train, y_train))\n",
    "train_set.save(\"./data/imdb_data/train_set\")"
   ]
  },
  {
   "cell_type": "code",
   "execution_count": null,
   "id": "eecdc26a-e3aa-4b93-a47d-5528bb6bd940",
   "metadata": {
    "tags": []
   },
   "outputs": [],
   "source": [
    "with open(\"./data/imdb_data/core_data.pickle\", \"wb\") as f:\n",
    "    pickle.dump((word_set, output_bias, X_val, y_val), f)\n"
   ]
  },
  {
   "cell_type": "code",
   "execution_count": null,
   "id": "1d8197d2-04d4-4ed8-93bf-614f20174fa9",
   "metadata": {},
   "outputs": [],
   "source": [
    "test_set.to_csv(\"./data/imdb_data/test_set.csv\", index=False)"
   ]
  },
  {
   "cell_type": "markdown",
   "id": "40a21c70-e1a8-449b-8ead-4cb6c959714f",
   "metadata": {},
   "source": [
    "## Load essential data elements"
   ]
  },
  {
   "cell_type": "code",
   "execution_count": null,
   "id": "ad110d45-5904-4f62-b23c-231b3f4c472a",
   "metadata": {
    "tags": []
   },
   "outputs": [],
   "source": [
    "with tf.device(\"CPU:0\"):\n",
    "    train_set = tf.data.Dataset.load(\"./data/imdb_data/train_set\").shuffle(1000).batch(128)"
   ]
  },
  {
   "cell_type": "code",
   "execution_count": null,
   "id": "be704e2e-3bbe-4471-a8fa-d08193b163f2",
   "metadata": {
    "tags": []
   },
   "outputs": [],
   "source": [
    "with open(\"./data/imdb_data/core_data.pickle\", \"rb\") as f:\n",
    "    word_set, output_bias, X_val, y_val = pickle.load(f)"
   ]
  },
  {
   "cell_type": "code",
   "execution_count": null,
   "id": "67cd03d0-938d-421b-abea-eaa3ef72412c",
   "metadata": {
    "tags": []
   },
   "outputs": [],
   "source": [
    "MAX_SEQUENCE_LENGTH=X_val.shape[1]\n",
    "MAX_SEQUENCE_LENGTH"
   ]
  },
  {
   "cell_type": "markdown",
   "id": "ea136ea8-dcba-46dd-807e-bd40926d3953",
   "metadata": {},
   "source": [
    "## Train model"
   ]
  },
  {
   "cell_type": "code",
   "execution_count": null,
   "id": "c5ce13ba-036d-4d2f-86c1-fc8b9a05d9c5",
   "metadata": {
    "tags": []
   },
   "outputs": [],
   "source": [
    "vocab_pos = []\n",
    "new_ind = {}\n",
    "i=0\n",
    "for w in word_set:\n",
    "    if w in word2vec.key_to_index:\n",
    "        vocab_pos.append( word2vec.key_to_index[w])\n",
    "        new_ind[w]=i\n",
    "        i+=1\n",
    "vocab_pos += list(map(lambda x: word2vec.key_to_index[x], [UNKOWN_TOKEN, PAD_TOKEN]))\n",
    "new_ind[PAD_TOKEN]=i\n",
    "new_ind[UNKOWN_TOKEN]=i+1"
   ]
  },
  {
   "cell_type": "code",
   "execution_count": null,
   "id": "457e6795-5c32-474a-873e-4070972feee4",
   "metadata": {
    "tags": []
   },
   "outputs": [],
   "source": [
    "rev_ind = { value:key for key, value in new_ind.items()}"
   ]
  },
  {
   "cell_type": "code",
   "execution_count": null,
   "id": "54310950-989b-45f9-921a-976a3d49da91",
   "metadata": {
    "tags": []
   },
   "outputs": [],
   "source": [
    "VOCAB_SIZE = len(vocab_pos)\n",
    "EMB_MATRIX = word2vec.vectors[vocab_pos]\n",
    "EMB_MATRIX.shape"
   ]
  },
  {
   "cell_type": "code",
   "execution_count": null,
   "id": "0392d05a-601b-45df-935f-6acc79935687",
   "metadata": {
    "tags": []
   },
   "outputs": [],
   "source": [
    "def get_nlp_cnn():\n",
    "    cnn = models.Sequential([\n",
    "        layers.InputLayer(input_shape=MAX_SEQUENCE_LENGTH),\n",
    "        layers.Embedding(\n",
    "            input_dim=VOCAB_SIZE,\n",
    "            output_dim=EMB_MATRIX.shape[1],\n",
    "            embeddings_initializer=init.Constant(EMB_MATRIX),\n",
    "            trainable=True,\n",
    "        ),\n",
    "        layers.Dropout(0.4),\n",
    "        \n",
    "        layers.Conv1D(64, 3, activation=\"relu\"),\n",
    "        layers.MaxPool1D(),\n",
    "        layers.Flatten(),\n",
    "\n",
    "        layers.Dropout(0.2),\n",
    "        layers.Dense(256, activation=\"relu\"),\n",
    "        layers.Dropout(0.1),\n",
    "        layers.Dense(\n",
    "            units=1, activation=\"sigmoid\"\n",
    "        )\n",
    "    ])\n",
    "    cnn.compile(\"adam\", loss=\"binary_crossentropy\", metrics=[\"accuracy\"])\n",
    "    return cnn"
   ]
  },
  {
   "cell_type": "code",
   "execution_count": null,
   "id": "b8e0f3b5-1138-44a7-ae26-a3f9654594f0",
   "metadata": {
    "tags": []
   },
   "outputs": [],
   "source": [
    "cnn = get_nlp_cnn()"
   ]
  },
  {
   "cell_type": "code",
   "execution_count": null,
   "id": "21cb12ac-cbed-4440-808f-a18bfd5054a4",
   "metadata": {
    "tags": []
   },
   "outputs": [],
   "source": [
    "train_history = cnn.fit(\n",
    "    train_set,\n",
    "    epochs=20,\n",
    "    validation_data=(X_val, y_val),\n",
    "    callbacks=[callbacks.EarlyStopping(patience=3)]\n",
    ")"
   ]
  },
  {
   "cell_type": "code",
   "execution_count": null,
   "id": "54671ef7-9a81-4509-8363-923c9f37366e",
   "metadata": {
    "tags": []
   },
   "outputs": [],
   "source": [
    "plot_history(train_history, \"loss\")"
   ]
  },
  {
   "cell_type": "code",
   "execution_count": null,
   "id": "434b75a3-6d84-44d0-b0c5-e2278c70a230",
   "metadata": {
    "tags": []
   },
   "outputs": [],
   "source": [
    "plot_history(train_history, \"accuracy\")"
   ]
  },
  {
   "cell_type": "code",
   "execution_count": null,
   "id": "343d9395-618b-4c01-a501-b615f7e8e9c5",
   "metadata": {
    "tags": []
   },
   "outputs": [],
   "source": [
    "cnn.save(\"./data/imdb_data/cnn.h5\")"
   ]
  },
  {
   "cell_type": "code",
   "execution_count": null,
   "id": "b3bde27e-15d7-4791-a911-803af9174524",
   "metadata": {
    "tags": []
   },
   "outputs": [],
   "source": [
    "preds = get_predictions(cnn, X_val)\n",
    "mcc(y_val, preds)"
   ]
  },
  {
   "cell_type": "code",
   "execution_count": null,
   "id": "859e0cb6-1904-49db-89c0-956f00d92448",
   "metadata": {
    "tags": []
   },
   "outputs": [],
   "source": [
    "get_k_nearest_from(\"hate\", new_ind, rev_ind, EMB_MATRIX, k=5, low_memory=True)"
   ]
  },
  {
   "cell_type": "code",
   "execution_count": null,
   "id": "96fc653b-7daf-477b-9dbe-7497bf14bdf3",
   "metadata": {
    "tags": []
   },
   "outputs": [],
   "source": [
    "get_k_nearest_from(\"hate\", new_ind, rev_ind, cnn.get_weights()[0], k=5, low_memory=True)"
   ]
  },
  {
   "cell_type": "markdown",
   "id": "461358ec-7ff5-4bd1-962b-2c197785b38f",
   "metadata": {
    "tags": []
   },
   "source": [
    "### Test data"
   ]
  },
  {
   "cell_type": "code",
   "execution_count": null,
   "id": "748133a2-26d5-4215-aeb1-10dd5c2acfe9",
   "metadata": {
    "tags": []
   },
   "outputs": [],
   "source": [
    "X_test, y_test = test_set.review, test_set.label.to_numpy()"
   ]
  },
  {
   "cell_type": "code",
   "execution_count": null,
   "id": "f13afa89-2e59-4828-a2e7-e0c5f9024c9e",
   "metadata": {
    "tags": []
   },
   "outputs": [],
   "source": [
    "X_test = process_documents(X_test.to_list(), return_vocab=False)"
   ]
  },
  {
   "cell_type": "code",
   "execution_count": null,
   "id": "4464dae7-bc77-40d6-a014-cd0d1a63fac0",
   "metadata": {
    "tags": []
   },
   "outputs": [],
   "source": [
    "X_test = map_to_index(X_test, word2vec.key_to_index)"
   ]
  },
  {
   "cell_type": "code",
   "execution_count": null,
   "id": "850b0ee0-217b-4145-955c-415548190811",
   "metadata": {
    "tags": []
   },
   "outputs": [],
   "source": [
    "X_test = pad_sentences(X_test, MAX_SEQUENCE_LENGTH, word2vec.key_to_index[PAD_TOKEN])"
   ]
  },
  {
   "cell_type": "code",
   "execution_count": null,
   "id": "dfb0dffd-9034-423d-bb31-f22462ffacd2",
   "metadata": {},
   "outputs": [],
   "source": [
    "preds = get_predictions(cnn, X_test)"
   ]
  },
  {
   "cell_type": "code",
   "execution_count": null,
   "id": "bd9b4b37-70c0-4a6f-80ea-64f9832ae214",
   "metadata": {
    "tags": []
   },
   "outputs": [],
   "source": [
    "conf_matrix(y_test, preds)"
   ]
  },
  {
   "cell_type": "code",
   "execution_count": null,
   "id": "943a7e7e-60a7-4110-83f0-7e28e3fbebf0",
   "metadata": {
    "tags": []
   },
   "outputs": [],
   "source": [
    "mcc(y_test, preds)"
   ]
  },
  {
   "cell_type": "code",
   "execution_count": null,
   "id": "ba49b722-1c91-4653-961c-c50ed897e636",
   "metadata": {},
   "outputs": [],
   "source": [
    "print(classification_report(y_test, preds))"
   ]
  }
 ],
 "metadata": {
  "kernelspec": {
   "display_name": "Python 3 (ipykernel)",
   "language": "python",
   "name": "python3"
  },
  "language_info": {
   "codemirror_mode": {
    "name": "ipython",
    "version": 3
   },
   "file_extension": ".py",
   "mimetype": "text/x-python",
   "name": "python",
   "nbconvert_exporter": "python",
   "pygments_lexer": "ipython3",
   "version": "3.9.7"
  }
 },
 "nbformat": 4,
 "nbformat_minor": 5
}
