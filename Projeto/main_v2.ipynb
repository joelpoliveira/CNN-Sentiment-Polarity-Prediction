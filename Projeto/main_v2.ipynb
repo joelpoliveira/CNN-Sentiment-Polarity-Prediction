{
 "cells": [
  {
   "cell_type": "code",
   "execution_count": 1,
   "id": "cbed3633-506b-45fc-8e98-51a754fa5cb8",
   "metadata": {
    "tags": []
   },
   "outputs": [],
   "source": [
    "%reload_ext autoreload\n",
    "%autoreload 2\n",
    "\n",
    "import os\n",
    "import nltk\n",
    "import string\n",
    "import numpy as np\n",
    "import matplotlib.pyplot as plt\n",
    "\n",
    "import tensorflow as tf\n",
    "from tensorflow.keras import layers\n",
    "from tensorflow.keras import models\n",
    "from tensorflow.keras import initializers as init\n",
    "from tensorflow.keras import losses\n",
    "from tensorflow.keras import metrics\n",
    "from tensorflow.keras import optimizers\n",
    "from tensorflow.keras import callbacks\n",
    "\n",
    "from gensim.models import Word2Vec, KeyedVectors\n",
    "from sklearn.model_selection import train_test_split\n",
    "\n",
    "from util.preprocessing import *\n",
    "from util.io import *\n",
    "\n",
    "PATH = \"./data/txt_sentoken/\"\n",
    "PATH_TRANSLATE = \"./data/txt_sentoken_translated/\"\n",
    "\n",
    "TRANSLATION_ON_DISK=True"
   ]
  },
  {
   "cell_type": "code",
   "execution_count": 10,
   "id": "f8df592c-ebaf-4110-af22-4a68c28e5568",
   "metadata": {
    "tags": []
   },
   "outputs": [
    {
     "data": {
      "text/plain": [
       "2000"
      ]
     },
     "execution_count": 10,
     "metadata": {},
     "output_type": "execute_result"
    }
   ],
   "source": [
    "len(docs)"
   ]
  },
  {
   "cell_type": "markdown",
   "id": "59f9e47b-4cfc-4e53-96bc-1d506e278580",
   "metadata": {},
   "source": [
    "## Preprocessing"
   ]
  },
  {
   "cell_type": "markdown",
   "id": "797fc822-69ae-433f-beab-d230c8dbb0ff",
   "metadata": {},
   "source": [
    "### Translate to english"
   ]
  },
  {
   "cell_type": "code",
   "execution_count": 2,
   "id": "54a3565e-dc24-4d06-9baf-8ba8be78a78c",
   "metadata": {
    "tags": []
   },
   "outputs": [
    {
     "name": "stderr",
     "output_type": "stream",
     "text": [
      "100%|███████████████████████████████████████████████████████████████████████████████████████████████████████████████████████████████████████████████████████████████████████| 2000/2000 [00:28<00:00, 69.96it/s]\n"
     ]
    },
    {
     "data": {
      "text/plain": [
       "(46558, 71532, 71532)"
      ]
     },
     "execution_count": 2,
     "metadata": {},
     "output_type": "execute_result"
    }
   ],
   "source": [
    "if TRANSLATION_ON_DISK:\n",
    "    docs, _ = get_documents_v2(PATH_TRANSLATE)\n",
    "else:\n",
    "    docs, _ = get_documents_v2(PATH)\n",
    "    docs = translate_to_english(docs)\n",
    "    write_documents_v2(docs, PATH_TRANSLATE, PATH)\n",
    "    \n",
    "word_set, phrases, classes = process_documents(docs, _)\n",
    "len(word_set), len(phrases), len(classes)"
   ]
  },
  {
   "cell_type": "code",
   "execution_count": 3,
   "id": "dd454685-7958-4462-a08c-7c93ed180362",
   "metadata": {
    "tags": []
   },
   "outputs": [
    {
     "data": {
      "text/plain": [
       "2000"
      ]
     },
     "execution_count": 3,
     "metadata": {},
     "output_type": "execute_result"
    }
   ],
   "source": [
    "len(docs)"
   ]
  },
  {
   "cell_type": "markdown",
   "id": "942af9c8-7da4-4f3b-bd81-987e27a852de",
   "metadata": {},
   "source": [
    "We have a set of 70000 sentences, with 46000 words"
   ]
  },
  {
   "cell_type": "markdown",
   "id": "f213034b-d4e1-4ecd-89c0-5be44d5b6530",
   "metadata": {
    "tags": []
   },
   "source": [
    "## Load Word2Vec"
   ]
  },
  {
   "cell_type": "code",
   "execution_count": 4,
   "id": "cd5e3955-24ec-45c2-90cb-0f1249690c83",
   "metadata": {},
   "outputs": [
    {
     "data": {
      "text/plain": [
       "302866"
      ]
     },
     "execution_count": 4,
     "metadata": {},
     "output_type": "execute_result"
    }
   ],
   "source": [
    "word2vec = KeyedVectors.load_word2vec_format(\"util/embedding/skipgram.bin\", binary=True)\n",
    "len(word2vec.key_to_index)"
   ]
  },
  {
   "cell_type": "code",
   "execution_count": 5,
   "id": "b0ff0b91-b1e5-412f-bb5b-da63b7c39ec2",
   "metadata": {
    "tags": []
   },
   "outputs": [],
   "source": [
    "def word2int(word):\n",
    "    return word2vec.get_index(word)\n",
    "\n",
    "def int2word(index):\n",
    "    return word2vec.index_to_key[index]"
   ]
  },
  {
   "cell_type": "markdown",
   "id": "704a6ece-b7e6-403d-9271-09440fa1e41a",
   "metadata": {},
   "source": [
    "- Add the **Padding**, \"\\<PAD\\>\" token to word2vec\n",
    "- Add the **Unknown**, \"[UNK]\" token to word2vec"
   ]
  },
  {
   "cell_type": "code",
   "execution_count": 6,
   "id": "20188b9e-1182-4cd4-b10d-35eff4ca6e3e",
   "metadata": {
    "tags": []
   },
   "outputs": [],
   "source": [
    "EMB_DIM = word2vec.vector_size\n",
    "\n",
    "PAD_TOKEN = \"<PAD>\"\n",
    "UNKOWN_TOKEN = \"[UNK]\"\n",
    "\n",
    "PAD_VEC = [0] * EMB_DIM\n",
    "UNK_VEC = [0] * EMB_DIM"
   ]
  },
  {
   "cell_type": "code",
   "execution_count": 7,
   "id": "861f04b2-e142-4747-9c30-48ae50605f13",
   "metadata": {
    "tags": []
   },
   "outputs": [],
   "source": [
    "word2vec.add_vectors([PAD_TOKEN, UNKOWN_TOKEN], [PAD_VEC, UNK_VEC])"
   ]
  },
  {
   "cell_type": "markdown",
   "id": "364c268c-45fb-4ae2-8d00-50a9608da185",
   "metadata": {},
   "source": [
    "- Check for missing words in the pre-trained model"
   ]
  },
  {
   "cell_type": "code",
   "execution_count": 8,
   "id": "8c51657b-09b3-4430-a037-8ef874373889",
   "metadata": {
    "tags": []
   },
   "outputs": [
    {
     "data": {
      "text/plain": [
       "20136"
      ]
     },
     "execution_count": 8,
     "metadata": {},
     "output_type": "execute_result"
    }
   ],
   "source": [
    "missing_words=[]\n",
    "for word in word_set.keys():\n",
    "    if word not in word2vec.key_to_index:\n",
    "        missing_words.append(word)\n",
    "len(missing_words)"
   ]
  },
  {
   "cell_type": "code",
   "execution_count": 11,
   "id": "e95da7b7-7ac2-4b33-9150-b5595dfd4c27",
   "metadata": {},
   "outputs": [
    {
     "name": "stderr",
     "output_type": "stream",
     "text": [
      "100%|███████████████████████████████████████████████████████████████████████████████████████████████████████████████████████████████████████████████████████████████████████| 2000/2000 [00:27<00:00, 71.52it/s]\n"
     ]
    }
   ],
   "source": [
    "index_docs = map_documents(docs, word2vec.key_to_index)"
   ]
  },
  {
   "cell_type": "code",
   "execution_count": 12,
   "id": "2af9bd6c-c791-4ed7-86bd-d620c0963dff",
   "metadata": {
    "tags": []
   },
   "outputs": [
    {
     "data": {
      "text/plain": [
       "1380"
      ]
     },
     "execution_count": 12,
     "metadata": {},
     "output_type": "execute_result"
    }
   ],
   "source": [
    "max(list(map(len, index_docs)))"
   ]
  },
  {
   "cell_type": "code",
   "execution_count": 21,
   "id": "b5368a05-9806-4626-a0ef-abe97b4242d4",
   "metadata": {
    "tags": []
   },
   "outputs": [
    {
     "data": {
      "text/plain": [
       "(2000, 2000)"
      ]
     },
     "execution_count": 21,
     "metadata": {},
     "output_type": "execute_result"
    }
   ],
   "source": [
    "len(index_docs), len(_)"
   ]
  },
  {
   "cell_type": "code",
   "execution_count": 22,
   "id": "5346955c-6631-4e4e-a851-298c365ae5dc",
   "metadata": {
    "tags": []
   },
   "outputs": [],
   "source": [
    "X_train, X_test, y_train, y_test = train_test_split(index_docs, _, test_size=0.2, random_state=0)"
   ]
  },
  {
   "cell_type": "code",
   "execution_count": 24,
   "id": "77caaf99-aeeb-4d5f-ae3b-6f8f9ed9962c",
   "metadata": {
    "tags": []
   },
   "outputs": [],
   "source": [
    "MAX_SQ_LEN = get_max_sequence_length(X_train)"
   ]
  },
  {
   "cell_type": "code",
   "execution_count": 28,
   "id": "f1156bd5-08e1-4f99-abb7-8d30ba943011",
   "metadata": {
    "tags": []
   },
   "outputs": [],
   "source": [
    "X_train = pad_sentences(X_train, MAX_SQ_LEN, word2int(PAD_TOKEN))\n",
    "X_test = pad_sentences(X_test, MAX_SQ_LEN, word2int(PAD_TOKEN))"
   ]
  },
  {
   "cell_type": "code",
   "execution_count": 31,
   "id": "6fe0a66f-ed91-4f8a-afb8-409a904cf6dc",
   "metadata": {
    "tags": []
   },
   "outputs": [
    {
     "data": {
      "text/plain": [
       "((1600, 1380), (400, 1380))"
      ]
     },
     "execution_count": 31,
     "metadata": {},
     "output_type": "execute_result"
    }
   ],
   "source": [
    "X_train.shape, X_test.shape"
   ]
  },
  {
   "cell_type": "code",
   "execution_count": 38,
   "id": "4cb1e07b-f86a-4fd7-9386-be7f354d74ea",
   "metadata": {
    "tags": []
   },
   "outputs": [],
   "source": [
    "mapper = {\n",
    "    \"neg\":0,\n",
    "    \"pos\":1,\n",
    "}\n",
    "\n",
    "y_train = list(map(lambda c: mapper[c], y_train))\n",
    "y_test = list(map(lambda c: mapper[c], y_test))"
   ]
  },
  {
   "cell_type": "code",
   "execution_count": 39,
   "id": "f3619a79-9e95-410b-b6f7-3adb5b32e029",
   "metadata": {
    "tags": []
   },
   "outputs": [
    {
     "data": {
      "text/plain": [
       "((1600,), (400,))"
      ]
     },
     "execution_count": 39,
     "metadata": {},
     "output_type": "execute_result"
    }
   ],
   "source": [
    "y_train = np.array(y_train)\n",
    "y_test = np.array(y_test)\n",
    "\n",
    "y_train.shape, y_test.shape"
   ]
  },
  {
   "cell_type": "markdown",
   "id": "7525484f-fe00-4cab-9749-73d15c3ebcc3",
   "metadata": {},
   "source": [
    "## Model Training"
   ]
  },
  {
   "cell_type": "code",
   "execution_count": 32,
   "id": "d0611807-8292-472e-9888-503dc41acafa",
   "metadata": {
    "tags": []
   },
   "outputs": [],
   "source": [
    "VOCAB_SIZE = len(word2vec.key_to_index)\n",
    "EMB_MATRIX = word2vec.vectors"
   ]
  },
  {
   "cell_type": "code",
   "execution_count": 33,
   "id": "0ba8b74b-b59e-4b8a-ade0-3ed7424958d4",
   "metadata": {
    "tags": []
   },
   "outputs": [],
   "source": [
    "embedding_layer = layers.Embedding(\n",
    "    input_dim=VOCAB_SIZE,\n",
    "    output_dim=EMB_DIM,\n",
    "    embeddings_initializer=init.Constant(EMB_MATRIX),\n",
    "    trainable=False   \n",
    ")"
   ]
  },
  {
   "cell_type": "code",
   "execution_count": 34,
   "id": "86a64b26-e17e-4141-a2f6-f929c41986b6",
   "metadata": {
    "tags": []
   },
   "outputs": [],
   "source": [
    "model = models.Sequential([\n",
    "    layers.InputLayer(input_shape=MAX_SQ_LEN),\n",
    "    embedding_layer,\n",
    "    layers.Conv1D(\n",
    "        filters=128,\n",
    "        kernel_size=5,\n",
    "        activation=\"relu\"\n",
    "    ),\n",
    "    layers.MaxPool1D(5),\n",
    "    layers.Conv1D(\n",
    "        filters=64,\n",
    "        kernel_size=5,\n",
    "        activation=\"relu\"\n",
    "    ),\n",
    "    layers.MaxPool1D(5),\n",
    "    layers.Conv1D(\n",
    "        filters=32,\n",
    "        kernel_size=5,\n",
    "        activation=\"relu\"\n",
    "    ),\n",
    "    layers.MaxPool1D(3),\n",
    "    layers.Conv1D(\n",
    "        filters=16,\n",
    "        kernel_size=5,\n",
    "        activation=\"relu\"\n",
    "    ),\n",
    "    layers.GlobalMaxPool1D(),\n",
    "    layers.Dense(\n",
    "        units=1,\n",
    "        activation=\"sigmoid\"\n",
    "    )\n",
    "])"
   ]
  },
  {
   "cell_type": "code",
   "execution_count": 35,
   "id": "91aa30ff-1abf-46f3-86ed-eda24e000870",
   "metadata": {
    "tags": []
   },
   "outputs": [],
   "source": [
    "model.compile(\"adam\", loss=\"binary_crossentropy\", metrics=[\"acc\"])"
   ]
  },
  {
   "cell_type": "code",
   "execution_count": 42,
   "id": "443f82ca-694b-406c-bfd4-8fabf67b2fbc",
   "metadata": {
    "tags": []
   },
   "outputs": [
    {
     "name": "stdout",
     "output_type": "stream",
     "text": [
      "Epoch 1/5\n",
      "100/100 [==============================] - 4s 35ms/step - loss: 8.9731e-04 - acc: 1.0000 - val_loss: 0.6168 - val_acc: 0.8350\n",
      "Epoch 2/5\n",
      "100/100 [==============================] - 3s 32ms/step - loss: 5.7537e-04 - acc: 1.0000 - val_loss: 0.6367 - val_acc: 0.8400\n",
      "Epoch 3/5\n",
      "100/100 [==============================] - 3s 32ms/step - loss: 4.1534e-04 - acc: 1.0000 - val_loss: 0.6532 - val_acc: 0.8425\n",
      "Epoch 4/5\n",
      "100/100 [==============================] - 3s 32ms/step - loss: 3.0001e-04 - acc: 1.0000 - val_loss: 0.6739 - val_acc: 0.8400\n",
      "Epoch 5/5\n",
      "100/100 [==============================] - 3s 32ms/step - loss: 2.3116e-04 - acc: 1.0000 - val_loss: 0.6800 - val_acc: 0.8475\n"
     ]
    },
    {
     "data": {
      "text/plain": [
       "<keras.callbacks.History at 0x2134ca24c40>"
      ]
     },
     "execution_count": 42,
     "metadata": {},
     "output_type": "execute_result"
    }
   ],
   "source": [
    "model.fit(X_train, y_train, epochs=5, batch_size=16, validation_data=(X_test, y_test))"
   ]
  },
  {
   "cell_type": "code",
   "execution_count": null,
   "id": "8fe78958-f43b-455e-bf40-3f65672cb6a5",
   "metadata": {},
   "outputs": [],
   "source": []
  }
 ],
 "metadata": {
  "kernelspec": {
   "display_name": "Python 3 (ipykernel)",
   "language": "python",
   "name": "python3"
  },
  "language_info": {
   "codemirror_mode": {
    "name": "ipython",
    "version": 3
   },
   "file_extension": ".py",
   "mimetype": "text/x-python",
   "name": "python",
   "nbconvert_exporter": "python",
   "pygments_lexer": "ipython3",
   "version": "3.9.7"
  }
 },
 "nbformat": 4,
 "nbformat_minor": 5
}
