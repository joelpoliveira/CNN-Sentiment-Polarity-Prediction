{
 "cells": [
  {
   "cell_type": "code",
   "execution_count": 1,
   "id": "45e4ae35-7992-442d-8d3e-597c22658acb",
   "metadata": {},
   "outputs": [],
   "source": [
    "import os\n",
    "import nltk\n",
    "import string\n",
    "\n",
    "import tensorflow as tf\n",
    "from tensorflow.keras import layers\n",
    "from tensorflow.keras import models\n",
    "\n",
    "from gensim.models import Word2Vec\n",
    "\n",
    "from util.preprocessing import *"
   ]
  },
  {
   "cell_type": "markdown",
   "id": "ebb72821-2b96-422e-b41c-18ada2c5f718",
   "metadata": {
    "jp-MarkdownHeadingCollapsed": true,
    "tags": []
   },
   "source": [
    "## Reviews dataset v2"
   ]
  },
  {
   "cell_type": "code",
   "execution_count": 2,
   "id": "80b7f77c-4ab6-4ed8-bd06-79be6259d306",
   "metadata": {},
   "outputs": [],
   "source": [
    "PATH = \"./data/txt_sentoken/\""
   ]
  },
  {
   "cell_type": "code",
   "execution_count": 3,
   "id": "99ec3a50-80f9-4d5c-9210-8b6d2e97d351",
   "metadata": {
    "tags": []
   },
   "outputs": [],
   "source": [
    "docs = []"
   ]
  },
  {
   "cell_type": "code",
   "execution_count": 4,
   "id": "d45e9f04-7bb1-4816-b42b-47e81696c52d",
   "metadata": {},
   "outputs": [],
   "source": [
    "for direc in os.listdir(PATH):\n",
    "    for file in os.listdir(PATH + direc):\n",
    "        try:\n",
    "            with open(PATH + direc + \"/\" + file, \"r\") as f:\n",
    "                docs.append(\n",
    "                    f.read()\n",
    "                )\n",
    "        except:\n",
    "            continue"
   ]
  },
  {
   "cell_type": "code",
   "execution_count": 5,
   "id": "ee093ddd-46e3-423d-9169-20084993218a",
   "metadata": {},
   "outputs": [
    {
     "data": {
      "text/plain": [
       "2000"
      ]
     },
     "execution_count": 5,
     "metadata": {},
     "output_type": "execute_result"
    }
   ],
   "source": [
    "len(docs)"
   ]
  },
  {
   "cell_type": "code",
   "execution_count": 6,
   "id": "fe10ba6e-24f6-4582-bebe-7ce1c39ee1e8",
   "metadata": {
    "tags": []
   },
   "outputs": [
    {
     "name": "stderr",
     "output_type": "stream",
     "text": [
      "100%|███████████████████████████████████████████████████████████████████████████████████████████████████████████████████████████████████████████████████████████████████████| 2000/2000 [00:28<00:00, 69.55it/s]\n"
     ]
    }
   ],
   "source": [
    "word_set, phrases = process_documents(docs)"
   ]
  },
  {
   "cell_type": "code",
   "execution_count": 7,
   "id": "83d927fe-2ba7-4676-9546-e386ce649d8b",
   "metadata": {
    "tags": []
   },
   "outputs": [
    {
     "data": {
      "text/plain": [
       "39212"
      ]
     },
     "execution_count": 7,
     "metadata": {},
     "output_type": "execute_result"
    }
   ],
   "source": [
    "len(word_set)"
   ]
  },
  {
   "cell_type": "markdown",
   "id": "ff450bd4-0e3a-4601-8315-4bbd00595180",
   "metadata": {
    "tags": []
   },
   "source": [
    "## Reviews dataset v1"
   ]
  },
  {
   "cell_type": "code",
   "execution_count": 9,
   "id": "b4219e51-3539-415c-84e6-b8d51b93cf5b",
   "metadata": {
    "tags": []
   },
   "outputs": [],
   "source": [
    "PATH = \"./data/rt-polaritydata/\""
   ]
  },
  {
   "cell_type": "code",
   "execution_count": 14,
   "id": "65f767ee-d547-41b4-a626-0c697f8b08bc",
   "metadata": {
    "tags": []
   },
   "outputs": [],
   "source": [
    "docs = []"
   ]
  },
  {
   "cell_type": "code",
   "execution_count": 15,
   "id": "5afb7387-a828-4288-a159-a4e77073bbc3",
   "metadata": {
    "tags": []
   },
   "outputs": [],
   "source": [
    "for file in os.listdir(PATH):\n",
    "    try:\n",
    "        with open(PATH + file, \"r\") as f:\n",
    "            docs+=(\n",
    "                f.readlines()\n",
    "            )\n",
    "    except:\n",
    "        continue"
   ]
  },
  {
   "cell_type": "code",
   "execution_count": 17,
   "id": "9c4ff459-af41-4045-bf87-a8615000c292",
   "metadata": {
    "tags": []
   },
   "outputs": [
    {
     "data": {
      "text/plain": [
       "10662"
      ]
     },
     "execution_count": 17,
     "metadata": {},
     "output_type": "execute_result"
    }
   ],
   "source": [
    "len(docs)"
   ]
  },
  {
   "cell_type": "code",
   "execution_count": 18,
   "id": "4ba7d8cf-45e1-419c-9530-90f9f01e3150",
   "metadata": {
    "tags": []
   },
   "outputs": [
    {
     "name": "stderr",
     "output_type": "stream",
     "text": [
      "100%|███████████████████████████████████████████████████████████████████████████████████████████████████████████████████████████████████████████████████████████████████| 10662/10662 [00:06<00:00, 1611.66it/s]\n"
     ]
    }
   ],
   "source": [
    "word_set, phrases = process_documents(docs)"
   ]
  },
  {
   "cell_type": "code",
   "execution_count": 19,
   "id": "c39b24c3-45ea-4415-9e09-7be3a3c99aec",
   "metadata": {
    "tags": []
   },
   "outputs": [
    {
     "data": {
      "text/plain": [
       "18190"
      ]
     },
     "execution_count": 19,
     "metadata": {},
     "output_type": "execute_result"
    }
   ],
   "source": [
    "len(word_set)"
   ]
  },
  {
   "cell_type": "markdown",
   "id": "6b2ba95c-53bd-4b81-8010-037be6b2653a",
   "metadata": {
    "tags": []
   },
   "source": [
    "We can see that the most recent dataset as $39212$ distinct words while the 1st version has only $18190$.\n",
    "\n",
    "In the paper (where the 1st version was used) they stated to have $18765$ words in the dataset. It is almost the same has what we obtained. \n",
    "The algorithm used to filter or to tokenize the words must be slightly different."
   ]
  },
  {
   "cell_type": "markdown",
   "id": "08324851-e082-4587-96c7-5fbe254b8868",
   "metadata": {},
   "source": [
    "# Modelling"
   ]
  },
  {
   "cell_type": "code",
   "execution_count": 5,
   "id": "589beda7-ae43-4eff-872d-59b57366f67c",
   "metadata": {
    "tags": []
   },
   "outputs": [
    {
     "name": "stdout",
     "output_type": "stream",
     "text": [
      "Found 2002 files belonging to 2 classes.\n",
      "Using 1602 files for training.\n",
      "Using 400 files for validation.\n"
     ]
    }
   ],
   "source": [
    "dataset, validation = tf.keras.utils.text_dataset_from_directory(\n",
    "    PATH, \n",
    "    validation_split=0.2, \n",
    "    subset=\"both\",\n",
    "    seed=13\n",
    ")"
   ]
  },
  {
   "cell_type": "code",
   "execution_count": null,
   "id": "51aa5cc8-3a84-44f9-ae0d-42ef7fc0edbb",
   "metadata": {},
   "outputs": [],
   "source": []
  }
 ],
 "metadata": {
  "kernelspec": {
   "display_name": "Python 3 (ipykernel)",
   "language": "python",
   "name": "python3"
  },
  "language_info": {
   "codemirror_mode": {
    "name": "ipython",
    "version": 3
   },
   "file_extension": ".py",
   "mimetype": "text/x-python",
   "name": "python",
   "nbconvert_exporter": "python",
   "pygments_lexer": "ipython3",
   "version": "3.9.7"
  }
 },
 "nbformat": 4,
 "nbformat_minor": 5
}
