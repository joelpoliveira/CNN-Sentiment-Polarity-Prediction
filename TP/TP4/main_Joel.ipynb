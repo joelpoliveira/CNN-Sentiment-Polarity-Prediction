{
 "cells": [
  {
   "cell_type": "markdown",
   "id": "20eb7a29-aa72-4582-91b1-49243fd4f720",
   "metadata": {
    "tags": []
   },
   "source": [
    "# Hidden Markov Models\n",
    "\n"
   ]
  },
  {
   "cell_type": "markdown",
   "id": "94ce6bfd-8428-49fd-98aa-995f99a87c41",
   "metadata": {
    "jp-MarkdownHeadingCollapsed": true,
    "tags": []
   },
   "source": [
    "## Problem 1\n",
    "- Building HMM and generating samples"
   ]
  },
  {
   "cell_type": "code",
   "execution_count": 1,
   "id": "4673b62a-9f1e-4ed7-afce-088a4f2d2482",
   "metadata": {
    "tags": []
   },
   "outputs": [],
   "source": [
    "import numpy as np\n",
    "from hmmlearn import hmm\n",
    "np.random.seed(42)"
   ]
  },
  {
   "cell_type": "code",
   "execution_count": 24,
   "id": "18f93a29-06a9-478b-aac4-28f7b5f7a5b5",
   "metadata": {
    "tags": []
   },
   "outputs": [],
   "source": [
    "model = hmm.GaussianHMM(n_components=3, covariance_type=\"full\")"
   ]
  },
  {
   "cell_type": "code",
   "execution_count": 25,
   "id": "2109380f-6e5a-4fdb-9ee0-29e0c6e473ba",
   "metadata": {
    "tags": []
   },
   "outputs": [],
   "source": [
    "model.startprob_ = np.array([0.6, 0.3, 0.1])"
   ]
  },
  {
   "cell_type": "code",
   "execution_count": 26,
   "id": "41f15fec-d083-4b80-b9e3-374d53e3da7f",
   "metadata": {
    "tags": []
   },
   "outputs": [],
   "source": [
    "model.transmat_ = np.array([[0.7,0.2,0.1],\n",
    "                            [0.3,0.5,0.2],\n",
    "                            [0.3,0.3,0.4]])"
   ]
  },
  {
   "cell_type": "code",
   "execution_count": 27,
   "id": "c56405b7-29ee-4ce9-b486-1cc649e16d58",
   "metadata": {
    "tags": []
   },
   "outputs": [],
   "source": [
    "model.means_ = np.array([[0,0],[3,-3],[5,10]])"
   ]
  },
  {
   "cell_type": "code",
   "execution_count": 28,
   "id": "6e7cf89b-9d9f-42ad-9eb1-0bb12aa259e7",
   "metadata": {
    "tags": []
   },
   "outputs": [],
   "source": [
    "model.covars_ = np.tile(np.identity(2), (3,1,1))"
   ]
  },
  {
   "cell_type": "code",
   "execution_count": 29,
   "id": "27819525-4999-4f95-9720-49e4f1ea245c",
   "metadata": {
    "tags": []
   },
   "outputs": [],
   "source": [
    "X, Z = model.sample(100)"
   ]
  },
  {
   "cell_type": "code",
   "execution_count": 12,
   "id": "73f86796-9a53-463d-ae26-26577036c1c4",
   "metadata": {
    "tags": []
   },
   "outputs": [],
   "source": [
    "lr = hmm.GaussianHMM(n_components=3, covariance_type=\"diag\",\n",
    "                     init_params=\"cm\", params=\"cmt\")"
   ]
  },
  {
   "cell_type": "code",
   "execution_count": 13,
   "id": "2496491c-95b1-4019-99cf-3f59356ff25e",
   "metadata": {
    "tags": []
   },
   "outputs": [],
   "source": [
    "lr.startprob_ = np.array([1.0, 0.0, 0.0])"
   ]
  },
  {
   "cell_type": "code",
   "execution_count": 14,
   "id": "45e2376f-f407-4578-9052-c3a25ae44cff",
   "metadata": {
    "tags": []
   },
   "outputs": [],
   "source": [
    "lr.transmat_ = np.array([[0.5, 0.5, 0.0],\n",
    "                         [0.0, 0.5, 0.5],\n",
    "                         [0.0, 0.0, 1.0]])"
   ]
  },
  {
   "cell_type": "markdown",
   "id": "8a999457-858e-48b7-8a15-0e4fc1270c08",
   "metadata": {},
   "source": [
    "- Fixing parameters"
   ]
  },
  {
   "cell_type": "code",
   "execution_count": 16,
   "id": "3558bd14-f674-4ecc-a3d9-780e92f9ce07",
   "metadata": {
    "tags": []
   },
   "outputs": [],
   "source": [
    "model = hmm.GaussianHMM(n_components=3, n_iter=100, init_params=\"mcs\")\n",
    "model.transmat_ = np.array([[0.7, 0.2, 0.1],\n",
    "                            [0.3, 0.5, 0.2],\n",
    "                            [0.3, 0.3, 0.4]])"
   ]
  },
  {
   "cell_type": "markdown",
   "id": "72e6b16c-a976-430c-b803-9c8957c08850",
   "metadata": {},
   "source": [
    "- Training HMM parameters and inferring the hidden states"
   ]
  },
  {
   "cell_type": "code",
   "execution_count": 38,
   "id": "9947842b-c693-4d7a-9d76-38f9dbeae4b1",
   "metadata": {
    "tags": []
   },
   "outputs": [],
   "source": [
    "remodel = hmm.GaussianHMM(n_components=3, covariance_type=\"full\", n_iter=1000)\n",
    "remodel.fit(X)\n",
    "Z2 = remodel.predict(X)"
   ]
  },
  {
   "cell_type": "code",
   "execution_count": 46,
   "id": "dda17dec-a319-4e1b-9d93-6fe2be481e96",
   "metadata": {
    "tags": []
   },
   "outputs": [
    {
     "data": {
      "text/plain": [
       "0.81"
      ]
     },
     "execution_count": 46,
     "metadata": {},
     "output_type": "execute_result"
    }
   ],
   "source": [
    "(Z2==Z).sum()/len(Z)"
   ]
  },
  {
   "cell_type": "code",
   "execution_count": 45,
   "id": "73351868-8508-4720-b43b-6d320d433508",
   "metadata": {
    "tags": []
   },
   "outputs": [
    {
     "data": {
      "text/plain": [
       "array([[9.23599049e-01, 4.77474640e-04, 7.59234766e-02],\n",
       "       [1.52620393e-01, 7.53643125e-01, 9.37364820e-02],\n",
       "       [3.29080124e-01, 3.07283512e-01, 3.63636364e-01]])"
      ]
     },
     "execution_count": 45,
     "metadata": {},
     "output_type": "execute_result"
    }
   ],
   "source": [
    "remodel.transmat_"
   ]
  },
  {
   "cell_type": "code",
   "execution_count": 42,
   "id": "8e09ed24-8a2c-4df1-bb62-b54bfda0654a",
   "metadata": {
    "tags": []
   },
   "outputs": [
    {
     "data": {
      "text/plain": [
       "array([[0.7, 0.2, 0.1],\n",
       "       [0.3, 0.5, 0.2],\n",
       "       [0.3, 0.3, 0.4]])"
      ]
     },
     "execution_count": 42,
     "metadata": {},
     "output_type": "execute_result"
    }
   ],
   "source": [
    "model.transmat_"
   ]
  },
  {
   "cell_type": "markdown",
   "id": "700f623a-dfd5-4c97-87fb-ddeb94e1a35f",
   "metadata": {},
   "source": [
    "- Monitoring convergence"
   ]
  },
  {
   "cell_type": "code",
   "execution_count": 36,
   "id": "c4ef59bb-bc27-4c6b-9ff8-b7edf5e7befc",
   "metadata": {
    "tags": []
   },
   "outputs": [
    {
     "data": {
      "text/plain": [
       "ConvergenceMonitor(\n",
       "    history=[-664.5662350121705, -439.7897867406189, -429.6481692598469, -418.54422777970524, -408.5574161037446, -400.38940733276667, -394.90771144633027, -391.1513021967038, -388.511544288925, -385.594397798375, -376.39385063487333, -369.7560560899268, -368.88038133929746, -368.67583590214895, -368.58428363001707, -368.50676581790754, -368.4260171189118, -368.34219078407074, -368.26281394685213, -368.19572272370556, -368.14491960997873, -368.11005932072595, -368.08804589650674, -368.07502548357934, -368.06768838511937],\n",
       "    iter=25,\n",
       "    n_iter=1000,\n",
       "    tol=0.01,\n",
       "    verbose=False,\n",
       ")"
      ]
     },
     "execution_count": 36,
     "metadata": {},
     "output_type": "execute_result"
    }
   ],
   "source": [
    "remodel.monitor_"
   ]
  },
  {
   "cell_type": "code",
   "execution_count": 37,
   "id": "a6031827-f47d-43d2-a7e4-96160d288b3a",
   "metadata": {
    "tags": []
   },
   "outputs": [
    {
     "data": {
      "text/plain": [
       "True"
      ]
     },
     "execution_count": 37,
     "metadata": {},
     "output_type": "execute_result"
    }
   ],
   "source": [
    "remodel.monitor_.converged"
   ]
  },
  {
   "cell_type": "markdown",
   "id": "a80ff190-a041-4c9d-ae5e-82f99b9a0b79",
   "metadata": {},
   "source": [
    "- Working with multiple sequences"
   ]
  },
  {
   "cell_type": "code",
   "execution_count": 47,
   "id": "90edd136-35b0-4a1f-856b-aff68e14fc70",
   "metadata": {
    "tags": []
   },
   "outputs": [],
   "source": [
    "X1 = [[0.5], [1.0], [-1.0], [0.42], [0.24]]"
   ]
  },
  {
   "cell_type": "code",
   "execution_count": 48,
   "id": "200af1dc-1d82-4910-8dd0-de8f3ad7f089",
   "metadata": {
    "tags": []
   },
   "outputs": [],
   "source": [
    "X2 = [[2.4], [4.2], [0.5], [-0.24]]"
   ]
  },
  {
   "cell_type": "code",
   "execution_count": 49,
   "id": "af2b0422-8ae1-4227-8faf-c31daf369645",
   "metadata": {
    "tags": []
   },
   "outputs": [],
   "source": [
    "X = np.concatenate([X1, X2])"
   ]
  },
  {
   "cell_type": "code",
   "execution_count": 50,
   "id": "3443ff7c-e1f4-4c76-a85f-0a4facfcfc0f",
   "metadata": {
    "tags": []
   },
   "outputs": [],
   "source": [
    "lengths = [len(X1), len(X2)]"
   ]
  },
  {
   "cell_type": "code",
   "execution_count": 53,
   "id": "55962214-698c-40db-afce-d930647f2855",
   "metadata": {
    "tags": []
   },
   "outputs": [
    {
     "name": "stderr",
     "output_type": "stream",
     "text": [
      "Fitting a model with 14 free scalar parameters with only 9 data points will result in a degenerate solution.\n"
     ]
    },
    {
     "data": {
      "text/html": [
       "<style>#sk-container-id-1 {color: black;background-color: white;}#sk-container-id-1 pre{padding: 0;}#sk-container-id-1 div.sk-toggleable {background-color: white;}#sk-container-id-1 label.sk-toggleable__label {cursor: pointer;display: block;width: 100%;margin-bottom: 0;padding: 0.3em;box-sizing: border-box;text-align: center;}#sk-container-id-1 label.sk-toggleable__label-arrow:before {content: \"▸\";float: left;margin-right: 0.25em;color: #696969;}#sk-container-id-1 label.sk-toggleable__label-arrow:hover:before {color: black;}#sk-container-id-1 div.sk-estimator:hover label.sk-toggleable__label-arrow:before {color: black;}#sk-container-id-1 div.sk-toggleable__content {max-height: 0;max-width: 0;overflow: hidden;text-align: left;background-color: #f0f8ff;}#sk-container-id-1 div.sk-toggleable__content pre {margin: 0.2em;color: black;border-radius: 0.25em;background-color: #f0f8ff;}#sk-container-id-1 input.sk-toggleable__control:checked~div.sk-toggleable__content {max-height: 200px;max-width: 100%;overflow: auto;}#sk-container-id-1 input.sk-toggleable__control:checked~label.sk-toggleable__label-arrow:before {content: \"▾\";}#sk-container-id-1 div.sk-estimator input.sk-toggleable__control:checked~label.sk-toggleable__label {background-color: #d4ebff;}#sk-container-id-1 div.sk-label input.sk-toggleable__control:checked~label.sk-toggleable__label {background-color: #d4ebff;}#sk-container-id-1 input.sk-hidden--visually {border: 0;clip: rect(1px 1px 1px 1px);clip: rect(1px, 1px, 1px, 1px);height: 1px;margin: -1px;overflow: hidden;padding: 0;position: absolute;width: 1px;}#sk-container-id-1 div.sk-estimator {font-family: monospace;background-color: #f0f8ff;border: 1px dotted black;border-radius: 0.25em;box-sizing: border-box;margin-bottom: 0.5em;}#sk-container-id-1 div.sk-estimator:hover {background-color: #d4ebff;}#sk-container-id-1 div.sk-parallel-item::after {content: \"\";width: 100%;border-bottom: 1px solid gray;flex-grow: 1;}#sk-container-id-1 div.sk-label:hover label.sk-toggleable__label {background-color: #d4ebff;}#sk-container-id-1 div.sk-serial::before {content: \"\";position: absolute;border-left: 1px solid gray;box-sizing: border-box;top: 0;bottom: 0;left: 50%;z-index: 0;}#sk-container-id-1 div.sk-serial {display: flex;flex-direction: column;align-items: center;background-color: white;padding-right: 0.2em;padding-left: 0.2em;position: relative;}#sk-container-id-1 div.sk-item {position: relative;z-index: 1;}#sk-container-id-1 div.sk-parallel {display: flex;align-items: stretch;justify-content: center;background-color: white;position: relative;}#sk-container-id-1 div.sk-item::before, #sk-container-id-1 div.sk-parallel-item::before {content: \"\";position: absolute;border-left: 1px solid gray;box-sizing: border-box;top: 0;bottom: 0;left: 50%;z-index: -1;}#sk-container-id-1 div.sk-parallel-item {display: flex;flex-direction: column;z-index: 1;position: relative;background-color: white;}#sk-container-id-1 div.sk-parallel-item:first-child::after {align-self: flex-end;width: 50%;}#sk-container-id-1 div.sk-parallel-item:last-child::after {align-self: flex-start;width: 50%;}#sk-container-id-1 div.sk-parallel-item:only-child::after {width: 0;}#sk-container-id-1 div.sk-dashed-wrapped {border: 1px dashed gray;margin: 0 0.4em 0.5em 0.4em;box-sizing: border-box;padding-bottom: 0.4em;background-color: white;}#sk-container-id-1 div.sk-label label {font-family: monospace;font-weight: bold;display: inline-block;line-height: 1.2em;}#sk-container-id-1 div.sk-label-container {text-align: center;}#sk-container-id-1 div.sk-container {/* jupyter's `normalize.less` sets `[hidden] { display: none; }` but bootstrap.min.css set `[hidden] { display: none !important; }` so we also need the `!important` here to be able to override the default hidden behavior on the sphinx rendered scikit-learn.org. See: https://github.com/scikit-learn/scikit-learn/issues/21755 */display: inline-block !important;position: relative;}#sk-container-id-1 div.sk-text-repr-fallback {display: none;}</style><div id=\"sk-container-id-1\" class=\"sk-top-container\"><div class=\"sk-text-repr-fallback\"><pre>GaussianHMM(n_components=3)</pre><b>In a Jupyter environment, please rerun this cell to show the HTML representation or trust the notebook. <br />On GitHub, the HTML representation is unable to render, please try loading this page with nbviewer.org.</b></div><div class=\"sk-container\" hidden><div class=\"sk-item\"><div class=\"sk-estimator sk-toggleable\"><input class=\"sk-toggleable__control sk-hidden--visually\" id=\"sk-estimator-id-1\" type=\"checkbox\" checked><label for=\"sk-estimator-id-1\" class=\"sk-toggleable__label sk-toggleable__label-arrow\">GaussianHMM</label><div class=\"sk-toggleable__content\"><pre>GaussianHMM(n_components=3)</pre></div></div></div></div></div>"
      ],
      "text/plain": [
       "GaussianHMM(n_components=3)"
      ]
     },
     "execution_count": 53,
     "metadata": {},
     "output_type": "execute_result"
    }
   ],
   "source": [
    "hmm.GaussianHMM(n_components=3).fit(X, lengths)"
   ]
  },
  {
   "cell_type": "markdown",
   "id": "65d6fd15-c503-44de-83c8-54cb618e11a5",
   "metadata": {},
   "source": [
    "## Problem 2 - The Dishonest Casino\n",
    "\n",
    "First the data will be loaded"
   ]
  },
  {
   "cell_type": "code",
   "execution_count": 665,
   "id": "ca78587c-0c08-43f7-97d9-5b99201d24e8",
   "metadata": {
    "tags": []
   },
   "outputs": [],
   "source": [
    "import numpy as np\n",
    "import pandas as pd\n",
    "import matplotlib.pyplot as plt\n",
    "import seaborn as sns\n",
    "from hmmlearn import hmm\n",
    "from sklearn.preprocessing import LabelEncoder"
   ]
  },
  {
   "cell_type": "code",
   "execution_count": 666,
   "id": "b2e6f84e-e4fa-4eba-91fa-a989b87e33f9",
   "metadata": {
    "tags": []
   },
   "outputs": [],
   "source": [
    "with open(\"rolls.txt\", \"r\") as f:\n",
    "    X = list(\n",
    "        map(lambda x: int(x.strip(\"\\n\")), f.readlines())\n",
    "    )\n",
    "    X = np.array(X).reshape(-1,1)-1\n",
    "    f.close()\n",
    "\n",
    "with open(\"dice.txt\", \"r\") as f:\n",
    "    y = list(map(lambda x: x.strip(\"\\n\"), f.readlines()))\n",
    "    #y = np.array(y).reshape(-1,1)\n",
    "    enc = LabelEncoder().fit(y)\n",
    "    y = enc.transform(y).reshape(-1,1)"
   ]
  },
  {
   "cell_type": "code",
   "execution_count": 667,
   "id": "d35fba9b-3f3d-4e65-89af-912bbb49d4a0",
   "metadata": {
    "tags": []
   },
   "outputs": [],
   "source": [
    "def train_test_split( arrays: list, test_size):\n",
    "    out = []\n",
    "    for arr in arrays:\n",
    "        arr_train, arr_test = arr[:test_size], arr[test_size:]\n",
    "        out.append(arr_train)\n",
    "        out.append(arr_test)\n",
    "    return out"
   ]
  },
  {
   "cell_type": "code",
   "execution_count": 668,
   "id": "1629fd0f-072d-457d-a8bd-355d1ec6cc6b",
   "metadata": {
    "tags": []
   },
   "outputs": [],
   "source": [
    "X_train, X_test, y_train, y_test = train_test_split((X, y), -10)"
   ]
  },
  {
   "cell_type": "markdown",
   "id": "a93d5a88-67f2-400c-b89a-74e5a4a08741",
   "metadata": {},
   "source": [
    "\n",
    "### a) construct the model assuming all parameters known."
   ]
  },
  {
   "cell_type": "markdown",
   "id": "9c99bf91-ff3b-427a-a0db-795347039602",
   "metadata": {},
   "source": [
    "- Creation of model with all known parameters"
   ]
  },
  {
   "cell_type": "code",
   "execution_count": 669,
   "id": "c481bc0b-f698-434a-a726-f2c51bdb815b",
   "metadata": {
    "tags": []
   },
   "outputs": [],
   "source": [
    "model = hmm.CategoricalHMM(n_components=2, init_params=\"mcs\")\n",
    "model.n_features=6\n",
    "model.transmat_ = np.array([[0.95, 0.05],\n",
    "                            [0.1, 0.9]])\n",
    "model.emissionprob_ = np.array([[1/6]*6,\n",
    "                                [1/10]*5 + [5/10]])\n",
    "model.startprob_ = np.array([1.0, 0.0])"
   ]
  },
  {
   "cell_type": "markdown",
   "id": "06c572bc-1586-49a6-a58a-f7f64a892c87",
   "metadata": {},
   "source": [
    "- Creation of model with unknown transition probability matrix"
   ]
  },
  {
   "cell_type": "code",
   "execution_count": 670,
   "id": "83d00244-318b-4ee6-9aad-42342250685b",
   "metadata": {
    "tags": []
   },
   "outputs": [],
   "source": [
    "remodel = hmm.CategoricalHMM(n_components=2, init_params=\"mcts\", n_iter=10000000)\n",
    "remodel.n_features=6\n",
    "\n",
    "remodel.emissionprob_ = np.array([[1/6]*6,\n",
    "                                [1/10]*5 + [5/10]])\n",
    "#remodel.startprob_ = np.array([1.0, 0.0])"
   ]
  },
  {
   "cell_type": "code",
   "execution_count": 671,
   "id": "e39edeca-bfac-40ef-8900-9879d2ba986e",
   "metadata": {
    "tags": []
   },
   "outputs": [
    {
     "data": {
      "text/plain": [
       "True"
      ]
     },
     "execution_count": 671,
     "metadata": {},
     "output_type": "execute_result"
    }
   ],
   "source": [
    "remodel.fit(X_train)\n",
    "remodel.monitor_.converged"
   ]
  },
  {
   "cell_type": "code",
   "execution_count": 672,
   "id": "a33a444f-2962-4091-a3a7-bc5d3d730835",
   "metadata": {
    "tags": []
   },
   "outputs": [
    {
     "data": {
      "text/plain": [
       "array([1.00000000e+00, 7.45617402e-11])"
      ]
     },
     "execution_count": 672,
     "metadata": {},
     "output_type": "execute_result"
    }
   ],
   "source": [
    "remodel.startprob_"
   ]
  },
  {
   "cell_type": "code",
   "execution_count": 673,
   "id": "4fd7fc7e-582b-4e61-b7d4-86103af75224",
   "metadata": {
    "tags": []
   },
   "outputs": [
    {
     "data": {
      "text/plain": [
       "(-18.02761996559565, -18.228865102347154)"
      ]
     },
     "execution_count": 673,
     "metadata": {},
     "output_type": "execute_result"
    }
   ],
   "source": [
    "remodel.score(X_test), model.score(X_test)"
   ]
  },
  {
   "cell_type": "markdown",
   "id": "2f2c2b77-312d-4483-ad6e-f375eb3dba7c",
   "metadata": {},
   "source": [
    "The scores are similar"
   ]
  },
  {
   "cell_type": "markdown",
   "id": "ab75d537-e0ed-4793-b17c-3049b02742d1",
   "metadata": {},
   "source": [
    "- Comparison of real and estimated transition matrix"
   ]
  },
  {
   "cell_type": "code",
   "execution_count": 674,
   "id": "11094f08-d806-44a6-bddb-88225709338a",
   "metadata": {
    "tags": []
   },
   "outputs": [
    {
     "data": {
      "text/plain": [
       "array([[0.97123628, 0.02876372],\n",
       "       [0.07616392, 0.92383608]])"
      ]
     },
     "execution_count": 674,
     "metadata": {},
     "output_type": "execute_result"
    }
   ],
   "source": [
    "remodel.transmat_"
   ]
  },
  {
   "cell_type": "code",
   "execution_count": 675,
   "id": "ab98fcab-69c5-420b-8072-c7e22b31df55",
   "metadata": {
    "tags": []
   },
   "outputs": [
    {
     "data": {
      "text/plain": [
       "array([[0.95, 0.05],\n",
       "       [0.1 , 0.9 ]])"
      ]
     },
     "execution_count": 675,
     "metadata": {},
     "output_type": "execute_result"
    }
   ],
   "source": [
    "model.transmat_"
   ]
  },
  {
   "cell_type": "markdown",
   "id": "c997af98-a58b-47a9-9dc4-26ef6dbc0d85",
   "metadata": {},
   "source": [
    "The transition matrix made good convergence towards the true matrix when the number of iterations got higher. <br>\n",
    "When the number of iterations was small it probably depended a lot in the initial values. <br>\n",
    "By setting the iterations higher a good enough transition matrix was created more often.\n",
    "\n",
    "- Comparison of the generated dice series **VS** the original dice series"
   ]
  },
  {
   "cell_type": "code",
   "execution_count": 676,
   "id": "595b0cdf-fb4c-475d-8ec8-7af96eea8fb7",
   "metadata": {
    "tags": []
   },
   "outputs": [],
   "source": [
    "roll_series_generated, dice_state = remodel.sample(10)"
   ]
  },
  {
   "cell_type": "code",
   "execution_count": 677,
   "id": "4ab6f6fb-3de1-4701-85d9-22e0bc3af9c3",
   "metadata": {
    "tags": []
   },
   "outputs": [],
   "source": [
    "def bar(x,y,ax, xlabel=\"\", ylabel=\"\", title=\"\", label=\"\", legend=False):\n",
    "    ax.bar(x,y, ec='k', label=label)\n",
    "    ax.set_xlabel(xlabel)\n",
    "    ax.set_ylabel(ylabel)\n",
    "    ax.set_title(title)\n",
    "    if legend:\n",
    "        ax.legend()"
   ]
  },
  {
   "cell_type": "code",
   "execution_count": 678,
   "id": "60ac2e5c-f04a-4336-bfc5-e03162e02df5",
   "metadata": {
    "tags": []
   },
   "outputs": [],
   "source": [
    "generated_dict = dict(\n",
    "    sorted(\n",
    "        zip(\n",
    "            *np.unique(roll_series_generated, return_counts=True)), \n",
    "            key=lambda x: x[0]\n",
    "    )\n",
    ")"
   ]
  },
  {
   "cell_type": "code",
   "execution_count": 679,
   "id": "1e20d5b3-99ab-43ef-9ef4-f2a29f3c662a",
   "metadata": {
    "tags": []
   },
   "outputs": [],
   "source": [
    "true_dict = dict(\n",
    "    sorted(\n",
    "        zip(*np.unique(X_test, return_counts=True)),\n",
    "        key=lambda x: x[0]\n",
    "    )\n",
    ")"
   ]
  },
  {
   "cell_type": "code",
   "execution_count": 680,
   "id": "22f5dde9-0437-4320-af3a-90b5231da7c8",
   "metadata": {
    "tags": []
   },
   "outputs": [
    {
     "data": {
      "image/png": "[encoded data removed]",
      "text/plain": [
       "<Figure size 1200x400 with 2 Axes>"
      ]
     },
     "metadata": {},
     "output_type": "display_data"
    }
   ],
   "source": [
    "f, ax = plt.subplots(1,2,figsize=(12,4))\n",
    "\n",
    "bar(generated_dict.keys(), generated_dict.values(), ax[0], \"Roll\", \"Counts\", \"Generated Series\")\n",
    "bar(true_dict.keys(), true_dict.values(), ax[1], \"Roll\", \"Counts\", \"Original Series\")"
   ]
  },
  {
   "cell_type": "code",
   "execution_count": 681,
   "id": "eb0b6621-a459-4f36-91fd-3b855fc7770d",
   "metadata": {
    "tags": []
   },
   "outputs": [
    {
     "name": "stdout",
     "output_type": "stream",
     "text": [
      "[[0 0]\n",
      " [0 0]\n",
      " [0 0]\n",
      " [0 0]\n",
      " [0 0]\n",
      " [0 0]\n",
      " [0 0]\n",
      " [0 0]\n",
      " [0 0]\n",
      " [0 0]]\n"
     ]
    }
   ],
   "source": [
    "print(np.concatenate((dice_state.reshape(-1,1), y_test), axis=1))"
   ]
  },
  {
   "cell_type": "markdown",
   "id": "854fbf98-375c-4cfe-b7c9-dc4f0b8b7bba",
   "metadata": {},
   "source": [
    "We can see that the frequencies of the Validation set are relatively uniform, and the generated series are very similar. <br>\n",
    "\n",
    "\n",
    "[comment]: <> (The frequency of the generated sample is not, has it is more biased towards the value 5, which maps into the dice roll of 6.)\n",
    "\n",
    "Besides that we can see that the state did not change, just like in the original set. \n",
    "[comment]: <> (with a lot of frequency, in contrast to the original dice historical, which explains why the frequency of the generated samples are not uniformly distributed.)\n",
    "\n",
    "----\n",
    "\n",
    "### c) Train HMM’s with half of the data points and observe the log-likelihood with the remaining half. \n",
    "- Compare the estimated parameters (transition and emission matrices) with the original model from question a);\n",
    "- Visualize the generated dice series of the last half of data against the given one. <br>\n",
    "(Note: Use the dataset provided in files rolls.txt and dice.txt provided on Moodle);"
   ]
  },
  {
   "cell_type": "code",
   "execution_count": 682,
   "id": "1f0f2805-37a4-4f07-af70-d5876c429850",
   "metadata": {
    "tags": []
   },
   "outputs": [],
   "source": [
    "N = X.shape[0]//2"
   ]
  },
  {
   "cell_type": "code",
   "execution_count": 683,
   "id": "d2b3b35e-2a68-4d62-a172-b41e69e28e95",
   "metadata": {
    "tags": []
   },
   "outputs": [],
   "source": [
    "X_train, X_test, y_train, y_test = train_test_split((X, y), N)"
   ]
  },
  {
   "cell_type": "markdown",
   "id": "b7b83a88-a6bd-49ba-a9ae-80a555a1e7c7",
   "metadata": {},
   "source": [
    "####    1. Assume both transition and emission matrices are unknown"
   ]
  },
  {
   "cell_type": "code",
   "execution_count": 684,
   "id": "8d8bdba7-ce27-40a0-8028-468bc4b2adfa",
   "metadata": {
    "tags": []
   },
   "outputs": [],
   "source": [
    "def super_bar(x, yy, labels, ax, xlabel=\"\", ylabel=\"\", title=\"\"):\n",
    "    temp = pd.DataFrame(\n",
    "        index=x, \n",
    "        data=dict(zip(labels,yy))\n",
    "    )\n",
    "    temp.plot.bar( ax=ax, xlabel=xlabel, ylabel=ylabel, ec=\"k\")\n",
    "    ax.set_title(title)\n",
    "    #print(temp)"
   ]
  },
  {
   "cell_type": "code",
   "execution_count": 688,
   "id": "7405dce7-4740-4526-938b-4e9fa464fc80",
   "metadata": {
    "tags": []
   },
   "outputs": [
    {
     "data": {
      "text/plain": [
       "True"
      ]
     },
     "execution_count": 688,
     "metadata": {},
     "output_type": "execute_result"
    }
   ],
   "source": [
    "remodel = hmm.CategoricalHMM(n_components=2, n_iter=10000000, init_params=\"mtecs\")\n",
    "remodel.n_features=6\n",
    "#remodel.startprob_ = np.array([1.0,0])\n",
    "remodel.fit(X_train)\n",
    "remodel.monitor_.converged"
   ]
  },
  {
   "cell_type": "code",
   "execution_count": 689,
   "id": "885919cc-cbbe-4968-a82b-5c10741c0722",
   "metadata": {
    "tags": []
   },
   "outputs": [
    {
     "data": {
      "text/plain": [
       "(-967.2063285343833, -961.4177962080355)"
      ]
     },
     "execution_count": 689,
     "metadata": {},
     "output_type": "execute_result"
    }
   ],
   "source": [
    "remodel.score(X_test), model.score(X_test)"
   ]
  },
  {
   "cell_type": "markdown",
   "id": "5f53e2e6-c194-4cd5-80d3-57b35698fa5f",
   "metadata": {},
   "source": [
    "Like before, the log-likelihood scores are not very distinct from each other. <br>\n",
    "The original model performed better"
   ]
  },
  {
   "cell_type": "code",
   "execution_count": 690,
   "id": "ef084940-bbd1-420e-8c07-25d84fcb88f2",
   "metadata": {
    "tags": []
   },
   "outputs": [
    {
     "data": {
      "text/plain": [
       "array([[0.9 , 0.1 ],\n",
       "       [0.25, 0.75]])"
      ]
     },
     "execution_count": 690,
     "metadata": {},
     "output_type": "execute_result"
    }
   ],
   "source": [
    "np.round(remodel.transmat_, 2)"
   ]
  },
  {
   "cell_type": "code",
   "execution_count": 691,
   "id": "d6698ca2-3422-4ab5-9da4-77562c6accf6",
   "metadata": {
    "tags": []
   },
   "outputs": [
    {
     "data": {
      "text/plain": [
       "array([[0.95, 0.05],\n",
       "       [0.1 , 0.9 ]])"
      ]
     },
     "execution_count": 691,
     "metadata": {},
     "output_type": "execute_result"
    }
   ],
   "source": [
    "model.transmat_"
   ]
  },
  {
   "cell_type": "markdown",
   "id": "0364b991-7d2e-4a69-8a31-75e607962245",
   "metadata": {},
   "source": [
    "The transition matrix estimated approachedd the original matrix with less frequency. The number of iterations was increased to increase the number of times this occured. <br>"
   ]
  },
  {
   "cell_type": "code",
   "execution_count": 692,
   "id": "1db2e903-16c0-46d9-9f3e-6718ba280843",
   "metadata": {
    "tags": []
   },
   "outputs": [],
   "source": [
    "model_probs = np.round(remodel.emissionprob_, decimals=2)"
   ]
  },
  {
   "cell_type": "code",
   "execution_count": 693,
   "id": "dfdcaf99-85ee-4647-a584-bef394ab75c2",
   "metadata": {
    "tags": []
   },
   "outputs": [],
   "source": [
    "true_probs = np.round(model.emissionprob_, decimals=2)"
   ]
  },
  {
   "cell_type": "code",
   "execution_count": 694,
   "id": "7cf5b987-3707-49cc-89df-0291b813ddcb",
   "metadata": {
    "tags": []
   },
   "outputs": [
    {
     "data": {
      "image/png": "[encoded data removed]",
      "text/plain": [
       "<Figure size 1200x400 with 2 Axes>"
      ]
     },
     "metadata": {},
     "output_type": "display_data"
    }
   ],
   "source": [
    "f, ax = plt.subplots(1,2, figsize=(12,4))\n",
    "\n",
    "super_bar(range(1,7), [model_probs[0],true_probs[0]], [\"Estimated Probability\", \"True Probability\"], ax[0], xlabel=\"Roll\", ylabel=\"Probability\", title=\"Fair Dice\")\n",
    "super_bar(range(1,7), [model_probs[1],true_probs[1]], [\"Estimated Probability\", \"True Probability\"], ax[1], xlabel=\"Roll\", ylabel=\"Probability\", title=\"Loaded Dice\")\n",
    "\n"
   ]
  },
  {
   "cell_type": "markdown",
   "id": "327b5af8-d0f1-40c3-8286-31ec30a5d758",
   "metadata": {},
   "source": [
    "When the states are accuratly estimated, we see that the emissions are also related. When this does not happen, the emissions seem to be accuratly predicted, but reversed. This is, the probabilities of the Loaded Dice are estimated for the Fair Dice, and the ones from the Fair Dice are estimated for the Loaded Dice\n",
    "\n",
    "[comment]: <> (Regarding the emission probabilities of each roll, the model correctly estimated that the second state is biased towards the roll of 6.<br> We can't tell why the model estimated that the probability of the emission of rolling a 2 in state 0 is so small.)"
   ]
  },
  {
   "cell_type": "code",
   "execution_count": 695,
   "id": "674c0e8c-85a4-42dc-97da-21326f37f37e",
   "metadata": {
    "tags": []
   },
   "outputs": [],
   "source": [
    "def steps(x,y, ax, xlabel=\"\", ylabel=\"\", title=\"\"):\n",
    "    ax.plot(x,y, drawstyle=\"steps\")\n",
    "    ax.set_xlabel(xlabel)\n",
    "    ax.set_ylabel(ylabel)\n",
    "    ax.set_title(title)\n"
   ]
  },
  {
   "cell_type": "code",
   "execution_count": 696,
   "id": "fce8a483-1d8f-4993-bac2-3a2ca1c71a9e",
   "metadata": {
    "tags": []
   },
   "outputs": [
    {
     "data": {
      "image/png": "[encoded data removed]",
      "text/plain": [
       "<Figure size 1200x400 with 2 Axes>"
      ]
     },
     "metadata": {},
     "output_type": "display_data"
    }
   ],
   "source": [
    "f, ax = plt.subplots(1,2, figsize=(12,4))\n",
    "\n",
    "steps(range(N), y_test, ax[0], \"Iteration\", \"Dice\", \"True Dice Series\")\n",
    "steps(range(N), remodel.predict(X_test), ax[1], \"Iteration\", \"Dice\", \"Generated Dice Series\")\n",
    "\n",
    "ax[0].set_yticks([0,1])\n",
    "ax[0].set_yticklabels([\"Fair\", \"Loaded\"]);\n",
    "\n",
    "ax[1].set_yticks([0,1])\n",
    "ax[1].set_yticklabels([\"Fair\", \"Loaded\"]);"
   ]
  },
  {
   "cell_type": "code",
   "execution_count": 701,
   "id": "bd2576a1-ccfa-4468-9613-6d79ffba6784",
   "metadata": {
    "tags": []
   },
   "outputs": [
    {
     "data": {
      "text/plain": [
       "array([[ True,  True,  True, ...,  True,  True,  True],\n",
       "       [ True,  True,  True, ...,  True,  True,  True],\n",
       "       [ True,  True,  True, ...,  True,  True,  True],\n",
       "       ...,\n",
       "       [ True,  True,  True, ...,  True,  True,  True],\n",
       "       [ True,  True,  True, ...,  True,  True,  True],\n",
       "       [ True,  True,  True, ...,  True,  True,  True]])"
      ]
     },
     "execution_count": 701,
     "metadata": {},
     "output_type": "execute_result"
    }
   ],
   "source": [
    "(y_test==remodel.predict(X_test))"
   ]
  },
  {
   "cell_type": "code",
   "execution_count": 706,
   "id": "75e642bc-6ebb-4543-a76d-4bb6575a1646",
   "metadata": {
    "tags": []
   },
   "outputs": [
    {
     "data": {
      "text/plain": [
       "0.5945454545454546"
      ]
     },
     "execution_count": 706,
     "metadata": {},
     "output_type": "execute_result"
    }
   ],
   "source": [
    "(y_test.ravel() == remodel.predict(X_test)).sum() / y_test.shape[0]"
   ]
  },
  {
   "cell_type": "markdown",
   "id": "af3a1d9c-cc10-46dd-8062-6b90484ea151",
   "metadata": {},
   "source": [
    "Accuracy not good enough"
   ]
  },
  {
   "cell_type": "markdown",
   "id": "6acfa402-56e2-4616-8870-37e7b5c8ccfa",
   "metadata": {},
   "source": [
    "#### 2. Assume all the parameters unknown, including the number of states \n",
    "(suggestion: try with the number of states from 1 to 4 and compare the resulting log-likehoods)."
   ]
  },
  {
   "cell_type": "code",
   "execution_count": 707,
   "id": "cda7a524-7f7f-40d5-8f9e-d12d8b9981ef",
   "metadata": {
    "tags": []
   },
   "outputs": [
    {
     "name": "stdout",
     "output_type": "stream",
     "text": [
      "True\n",
      "Transition Matrices:\n",
      "[[1.]]\n",
      "\n",
      "---------------\n",
      "Emission Matrix:\n",
      "[[0.15 0.12 0.14 0.14 0.15 0.31]]\n",
      "\n",
      "###############\n",
      "###############\n",
      "\n",
      "True\n",
      "Transition Matrices:\n",
      "[[0.33 0.67]\n",
      " [0.58 0.42]]\n",
      "\n",
      "---------------\n",
      "Emission Matrix:\n",
      "[[0.22 0.21 0.24 0.01 0.14 0.18]\n",
      " [0.09 0.04 0.05 0.24 0.16 0.42]]\n",
      "\n",
      "###############\n",
      "###############\n",
      "\n",
      "True\n",
      "Transition Matrices:\n",
      "[[0.94 0.06 0.  ]\n",
      " [0.   0.01 0.99]\n",
      " [0.22 0.   0.78]]\n",
      "\n",
      "---------------\n",
      "Emission Matrix:\n",
      "[[0.17 0.1  0.1  0.09 0.19 0.35]\n",
      " [0.02 0.   0.43 0.37 0.1  0.08]\n",
      " [0.1  0.23 0.23 0.25 0.01 0.18]]\n",
      "\n",
      "###############\n",
      "###############\n",
      "\n",
      "True\n",
      "Transition Matrices:\n",
      "[[0.01 0.   0.   0.99]\n",
      " [0.   0.   0.58 0.42]\n",
      " [0.   0.18 0.   0.82]\n",
      " [0.59 0.41 0.   0.  ]]\n",
      "\n",
      "---------------\n",
      "Emission Matrix:\n",
      "[[0.25 0.   0.22 0.18 0.18 0.18]\n",
      " [0.   0.38 0.23 0.   0.   0.39]\n",
      " [0.   0.31 0.05 0.   0.   0.64]\n",
      " [0.19 0.02 0.08 0.21 0.24 0.26]]\n",
      "\n",
      "###############\n",
      "###############\n",
      "\n"
     ]
    }
   ],
   "source": [
    "scores = []\n",
    "for i in range(1,5):\n",
    "    remodel = hmm.CategoricalHMM(n_components=i, n_iter=10000000, init_params=\"mtec\")\n",
    "    remodel.n_features=6\n",
    "    remodel.startprob_ = np.array([1.0]+[0]*(i-1))\n",
    "    remodel.fit(X_train)\n",
    "    print(remodel.monitor_.converged)\n",
    "    \n",
    "    scores.append(remodel.score(X_test))\n",
    "    \n",
    "    print(\"Transition Matrices:\")\n",
    "    print(np.round(remodel.transmat_,2))\n",
    "    \n",
    "    print()\n",
    "    print(\"-\"*15)\n",
    "    \n",
    "    print(\"Emission Matrix:\")\n",
    "    print(np.round(remodel.emissionprob_, 2))\n",
    "    \n",
    "    print()\n",
    "    print(\"#\"*15)\n",
    "    print(\"#\"*15+\"\\n\")\n"
   ]
  },
  {
   "cell_type": "code",
   "execution_count": 708,
   "id": "5d0f28ec-80a2-437d-be6b-6538f5717afb",
   "metadata": {
    "tags": []
   },
   "outputs": [
    {
     "data": {
      "text/plain": [
       "[-969.3308570167918,\n",
       " -967.9725340475478,\n",
       " -968.7931188039437,\n",
       " -990.2246054809191]"
      ]
     },
     "execution_count": 708,
     "metadata": {},
     "output_type": "execute_result"
    }
   ],
   "source": [
    "scores"
   ]
  },
  {
   "cell_type": "markdown",
   "id": "f0ad03e9-96cc-4d38-9f9f-3f477052dbef",
   "metadata": {},
   "source": [
    "The model with the highest score was not always the one with 2 components. <br>\n",
    "\n",
    "Besides that, the scores were all relatively close with each other."
   ]
  },
  {
   "cell_type": "markdown",
   "id": "92ec2cf9-a622-4c03-9eb7-5acb4cb6bb7a",
   "metadata": {},
   "source": [
    "### d) Generate 30000 samples from the model of question a). Repeat question c) using this new dataset. \n",
    "(Note: you don’t need to visualize the dice states.)"
   ]
  },
  {
   "cell_type": "code",
   "execution_count": 709,
   "id": "c448acbc-6ec2-4701-be9f-67f0f6a90177",
   "metadata": {
    "tags": []
   },
   "outputs": [],
   "source": [
    "new_X, new_y = model.sample(30000)"
   ]
  },
  {
   "cell_type": "markdown",
   "id": "0e662253-5319-4a75-905a-8e4cca61978f",
   "metadata": {},
   "source": [
    "- #### Repeat question c)"
   ]
  },
  {
   "cell_type": "code",
   "execution_count": 710,
   "id": "43e42cdc-8358-408e-8070-9af2f4f1ba42",
   "metadata": {
    "tags": []
   },
   "outputs": [],
   "source": [
    "N = new_X.shape[0]//2"
   ]
  },
  {
   "cell_type": "code",
   "execution_count": 711,
   "id": "93b6d6c7-3565-4047-8627-9947cb0a8879",
   "metadata": {
    "tags": []
   },
   "outputs": [],
   "source": [
    "X_train, X_test, y_train, y_test = train_test_split((new_X, new_y), N)"
   ]
  },
  {
   "cell_type": "markdown",
   "id": "fed8bb02-3570-4fff-89f2-155edd150dbb",
   "metadata": {},
   "source": [
    "#### 1. With transition and emission matrices unknown"
   ]
  },
  {
   "cell_type": "code",
   "execution_count": 712,
   "id": "28593cd5-d914-4854-a38b-3a76a0af41b7",
   "metadata": {
    "tags": []
   },
   "outputs": [
    {
     "data": {
      "text/plain": [
       "True"
      ]
     },
     "execution_count": 712,
     "metadata": {},
     "output_type": "execute_result"
    }
   ],
   "source": [
    "remodel = hmm.CategoricalHMM(n_components=2, init_params=\"mctes\", n_iter=10000000)\n",
    "remodel.n_features=6\n",
    "#remodel.startprob_ = np.array([1.0,0])\n",
    "remodel.fit(X_train)\n",
    "remodel.monitor_.converged"
   ]
  },
  {
   "cell_type": "code",
   "execution_count": 713,
   "id": "bf4a9dd0-7e4c-4285-9adb-f5162213d2d6",
   "metadata": {
    "tags": []
   },
   "outputs": [
    {
     "data": {
      "text/plain": [
       "(-26149.117007763558, -26144.916674920816)"
      ]
     },
     "execution_count": 713,
     "metadata": {},
     "output_type": "execute_result"
    }
   ],
   "source": [
    "remodel.score(X_test), model.score(X_test)"
   ]
  },
  {
   "cell_type": "code",
   "execution_count": 714,
   "id": "a6487109-65fe-42a3-8140-00e1d2e474b3",
   "metadata": {
    "tags": []
   },
   "outputs": [
    {
     "data": {
      "text/plain": [
       "array([[0.95980221, 0.04019779],\n",
       "       [0.10040191, 0.89959809]])"
      ]
     },
     "execution_count": 714,
     "metadata": {},
     "output_type": "execute_result"
    }
   ],
   "source": [
    "remodel.transmat_"
   ]
  },
  {
   "cell_type": "code",
   "execution_count": 715,
   "id": "f11f2dde-6d88-4136-84fc-9e300ba58b3a",
   "metadata": {
    "tags": []
   },
   "outputs": [
    {
     "data": {
      "image/png": "[encoded data removed]",
      "text/plain": [
       "<Figure size 1200x400 with 2 Axes>"
      ]
     },
     "metadata": {},
     "output_type": "display_data"
    }
   ],
   "source": [
    "model_probs = np.round(remodel.emissionprob_, decimals=2)\n",
    "true_probs = np.round(model.emissionprob_, decimals=2)\n",
    "\n",
    "f, ax = plt.subplots(1,2, figsize=(12,4))\n",
    "\n",
    "super_bar(range(1,7), [model_probs[0],true_probs[0]], [\"Estimated Probability\", \"True Probability\"], ax[0], xlabel=\"Roll\", ylabel=\"Probability\", title=\"Fair Dice\")\n",
    "super_bar(range(1,7), [model_probs[1],true_probs[1]], [\"Estimated Probability\", \"True Probability\"], ax[1], xlabel=\"Roll\", ylabel=\"Probability\", title=\"Loaded Dice\")\n",
    "\n"
   ]
  },
  {
   "cell_type": "markdown",
   "id": "38067aa7-e2fd-471e-a709-606eea21a529",
   "metadata": {},
   "source": [
    "It seems that the model converges more often to the right transition probabilities than with the \"roll.txt\" dataset. <br>\n",
    "Since the sample size is bigger it can infer the probabilities better.\n",
    "\n",
    "When the transitions probabilities are well estimated, the emission probabilities are usually accurate."
   ]
  },
  {
   "cell_type": "code",
   "execution_count": 716,
   "id": "ce789ee0-0d92-467c-b179-9b1d6cedb536",
   "metadata": {
    "tags": []
   },
   "outputs": [],
   "source": [
    "true_dice = dict(zip(*np.unique(y_test, return_counts=True)))"
   ]
  },
  {
   "cell_type": "code",
   "execution_count": 717,
   "id": "8c0d6ee1-9bf2-4407-ac7b-cf20d6887cf2",
   "metadata": {
    "tags": []
   },
   "outputs": [],
   "source": [
    "estimated_dice = dict(zip(*np.unique(remodel.predict(X_test), return_counts=True)))"
   ]
  },
  {
   "cell_type": "code",
   "execution_count": 718,
   "id": "a0b61346-8036-42b7-b944-853674acc4fb",
   "metadata": {
    "tags": []
   },
   "outputs": [
    {
     "data": {
      "text/plain": [
       "[Text(0, 0, 'Fair'), Text(1, 0, 'Loaded')]"
      ]
     },
     "execution_count": 718,
     "metadata": {},
     "output_type": "execute_result"
    },
    {
     "data": {
      "image/png": "[encoded data removed]",
      "text/plain": [
       "<Figure size 1200x400 with 2 Axes>"
      ]
     },
     "metadata": {},
     "output_type": "display_data"
    }
   ],
   "source": [
    "f, ax = plt.subplots(1,2, figsize=(12,4))\n",
    "\n",
    "bar(true_dice.keys(), true_dice.values(), ax[0], \"Dice Type\", \"Number of times in the State\", \"True Labels\")\n",
    "ax[0].set_xticks([0,1])\n",
    "ax[0].set_xticklabels([\"Fair\", \"Loaded\"])\n",
    "\n",
    "bar(estimated_dice.keys(), estimated_dice.values(), ax[1], \"Dice Type\", \"Number of times in the State\", \"Predicted Labels\")\n",
    "ax[1].set_xticks([0,1])\n",
    "ax[1].set_xticklabels([\"Fair\", \"Loaded\"])"
   ]
  },
  {
   "cell_type": "code",
   "execution_count": 719,
   "id": "92764435-30bd-4ddf-878f-42da0abb6a57",
   "metadata": {
    "tags": []
   },
   "outputs": [
    {
     "data": {
      "text/plain": [
       "0.7752666666666667"
      ]
     },
     "execution_count": 719,
     "metadata": {},
     "output_type": "execute_result"
    }
   ],
   "source": [
    "(y_test==remodel.predict(X_test)).sum() / y_test.shape[0]"
   ]
  },
  {
   "cell_type": "markdown",
   "id": "c594c544-5f67-4017-9cb5-86566d0cb33c",
   "metadata": {},
   "source": [
    "It seems as the proportions of each state is similar in the validation set and in the prediction set.\n",
    "\n",
    "The accuracy is way better than with the \"rolls.txt\" dataset"
   ]
  },
  {
   "cell_type": "markdown",
   "id": "4644438d-f505-440f-a593-98f0f78f8f37",
   "metadata": {
    "tags": []
   },
   "source": [
    "#### 2. With all parameters unknown"
   ]
  },
  {
   "cell_type": "code",
   "execution_count": 722,
   "id": "6edf7336-b0e7-4760-a3b6-9041871acf0c",
   "metadata": {
    "tags": []
   },
   "outputs": [
    {
     "name": "stdout",
     "output_type": "stream",
     "text": [
      "True\n",
      "Transition Matrices:\n",
      "[[1.]]\n",
      "\n",
      "---------------\n",
      "Emission Matrix:\n",
      "[[0.15 0.14 0.15 0.15 0.14 0.27]]\n",
      "\n",
      "###############\n",
      "###############\n",
      "\n",
      "True\n",
      "Transition Matrices:\n",
      "[[0.9  0.1 ]\n",
      " [0.04 0.96]]\n",
      "\n",
      "---------------\n",
      "Emission Matrix:\n",
      "[[0.09 0.1  0.11 0.1  0.09 0.52]\n",
      " [0.17 0.16 0.17 0.17 0.16 0.17]]\n",
      "\n",
      "###############\n",
      "###############\n",
      "\n",
      "True\n",
      "Transition Matrices:\n",
      "[[0.8  0.2  0.01]\n",
      " [0.31 0.37 0.32]\n",
      " [0.   0.08 0.92]]\n",
      "\n",
      "---------------\n",
      "Emission Matrix:\n",
      "[[0.07 0.09 0.1  0.1  0.09 0.56]\n",
      " [0.15 0.15 0.17 0.12 0.13 0.28]\n",
      " [0.17 0.16 0.17 0.17 0.16 0.17]]\n",
      "\n",
      "###############\n",
      "###############\n",
      "\n",
      "True\n",
      "Transition Matrices:\n",
      "[[0.41 0.04 0.04 0.51]\n",
      " [0.01 0.72 0.12 0.14]\n",
      " [0.   0.01 0.96 0.02]\n",
      " [0.12 0.84 0.   0.03]]\n",
      "\n",
      "---------------\n",
      "Emission Matrix:\n",
      "[[0.1  0.01 0.27 0.01 0.31 0.3 ]\n",
      " [0.03 0.1  0.08 0.12 0.07 0.6 ]\n",
      " [0.17 0.16 0.17 0.17 0.16 0.17]\n",
      " [0.3  0.08 0.2  0.03 0.15 0.24]]\n",
      "\n",
      "###############\n",
      "###############\n",
      "\n"
     ]
    }
   ],
   "source": [
    "scores = []\n",
    "for i in range(1,5):\n",
    "    remodel = hmm.CategoricalHMM(n_components=i, n_iter=10000000, init_params=\"mcste\")\n",
    "    remodel.n_features=6\n",
    "    #remodel.startprob_ = np.array([1.0]+[0]*(i-1))\n",
    "    remodel.fit(X_train)\n",
    "    print(remodel.monitor_.converged)\n",
    "    \n",
    "    scores.append(remodel.score(X_test))\n",
    "    \n",
    "    print(\"Transition Matrices:\")\n",
    "    print(np.round(remodel.transmat_,2))\n",
    "    \n",
    "    print()\n",
    "    print(\"-\"*15)\n",
    "    \n",
    "    print(\"Emission Matrix:\")\n",
    "    print(np.round(remodel.emissionprob_, 2))\n",
    "    \n",
    "    print()\n",
    "    print(\"#\"*15)\n",
    "    print(\"#\"*15+\"\\n\")"
   ]
  },
  {
   "cell_type": "code",
   "execution_count": 723,
   "id": "545e310b-07e1-43c7-b2b0-b56e8ddebc85",
   "metadata": {
    "tags": []
   },
   "outputs": [
    {
     "data": {
      "text/plain": [
       "[-26325.85086085645,\n",
       " -26149.12231258734,\n",
       " -26149.724796801063,\n",
       " -26156.346469827327]"
      ]
     },
     "execution_count": 723,
     "metadata": {},
     "output_type": "execute_result"
    }
   ],
   "source": [
    "scores"
   ]
  },
  {
   "cell_type": "markdown",
   "id": "030043c7-389a-4c08-8f11-6fb4d7fe4028",
   "metadata": {},
   "source": [
    "Likewise the model with the best score was not always the one that should be (the one with 2 components). Both the one with 3 and the one with 4 components also had decent scores"
   ]
  },
  {
   "cell_type": "code",
   "execution_count": null,
   "id": "90e002c9-5ebd-4d70-9864-0bf7ddffb67d",
   "metadata": {},
   "outputs": [],
   "source": []
  }
 ],
 "metadata": {
  "kernelspec": {
   "display_name": "Python 3 (ipykernel)",
   "language": "python",
   "name": "python3"
  },
  "language_info": {
   "codemirror_mode": {
    "name": "ipython",
    "version": 3
   },
   "file_extension": ".py",
   "mimetype": "text/x-python",
   "name": "python",
   "nbconvert_exporter": "python",
   "pygments_lexer": "ipython3",
   "version": "3.9.7"
  }
 },
 "nbformat": 4,
 "nbformat_minor": 5
}
