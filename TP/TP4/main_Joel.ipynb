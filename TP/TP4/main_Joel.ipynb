{
 "cells": [
  {
   "cell_type": "markdown",
   "id": "20eb7a29-aa72-4582-91b1-49243fd4f720",
   "metadata": {
    "tags": []
   },
   "source": [
    "# Hidden Markov Models\n",
    "\n",
    "## Problem 1\n",
    "- Building HMM and generating samples"
   ]
  },
  {
   "cell_type": "code",
   "execution_count": 1,
   "id": "4673b62a-9f1e-4ed7-afce-088a4f2d2482",
   "metadata": {
    "tags": []
   },
   "outputs": [],
   "source": [
    "import numpy as np\n",
    "from hmmlearn import hmm\n",
    "np.random.seed(42)"
   ]
  },
  {
   "cell_type": "code",
   "execution_count": 24,
   "id": "18f93a29-06a9-478b-aac4-28f7b5f7a5b5",
   "metadata": {
    "tags": []
   },
   "outputs": [],
   "source": [
    "model = hmm.GaussianHMM(n_components=3, covariance_type=\"full\")"
   ]
  },
  {
   "cell_type": "code",
   "execution_count": 25,
   "id": "2109380f-6e5a-4fdb-9ee0-29e0c6e473ba",
   "metadata": {
    "tags": []
   },
   "outputs": [],
   "source": [
    "model.startprob_ = np.array([0.6, 0.3, 0.1])"
   ]
  },
  {
   "cell_type": "code",
   "execution_count": 26,
   "id": "41f15fec-d083-4b80-b9e3-374d53e3da7f",
   "metadata": {
    "tags": []
   },
   "outputs": [],
   "source": [
    "model.transmat_ = np.array([[0.7,0.2,0.1],\n",
    "                            [0.3,0.5,0.2],\n",
    "                            [0.3,0.3,0.4]])"
   ]
  },
  {
   "cell_type": "code",
   "execution_count": 27,
   "id": "c56405b7-29ee-4ce9-b486-1cc649e16d58",
   "metadata": {
    "tags": []
   },
   "outputs": [],
   "source": [
    "model.means_ = np.array([[0,0],[3,-3],[5,10]])"
   ]
  },
  {
   "cell_type": "code",
   "execution_count": 28,
   "id": "6e7cf89b-9d9f-42ad-9eb1-0bb12aa259e7",
   "metadata": {
    "tags": []
   },
   "outputs": [],
   "source": [
    "model.covars_ = np.tile(np.identity(2), (3,1,1))"
   ]
  },
  {
   "cell_type": "code",
   "execution_count": 29,
   "id": "27819525-4999-4f95-9720-49e4f1ea245c",
   "metadata": {
    "tags": []
   },
   "outputs": [],
   "source": [
    "X, Z = model.sample(100)"
   ]
  },
  {
   "cell_type": "code",
   "execution_count": 12,
   "id": "73f86796-9a53-463d-ae26-26577036c1c4",
   "metadata": {
    "tags": []
   },
   "outputs": [],
   "source": [
    "lr = hmm.GaussianHMM(n_components=3, covariance_type=\"diag\",\n",
    "                     init_params=\"cm\", params=\"cmt\")"
   ]
  },
  {
   "cell_type": "code",
   "execution_count": 13,
   "id": "2496491c-95b1-4019-99cf-3f59356ff25e",
   "metadata": {
    "tags": []
   },
   "outputs": [],
   "source": [
    "lr.startprob_ = np.array([1.0, 0.0, 0.0])"
   ]
  },
  {
   "cell_type": "code",
   "execution_count": 14,
   "id": "45e2376f-f407-4578-9052-c3a25ae44cff",
   "metadata": {
    "tags": []
   },
   "outputs": [],
   "source": [
    "lr.transmat_ = np.array([[0.5, 0.5, 0.0],\n",
    "                         [0.0, 0.5, 0.5],\n",
    "                         [0.0, 0.0, 1.0]])"
   ]
  },
  {
   "cell_type": "markdown",
   "id": "8a999457-858e-48b7-8a15-0e4fc1270c08",
   "metadata": {},
   "source": [
    "- Fixing parameters"
   ]
  },
  {
   "cell_type": "code",
   "execution_count": 16,
   "id": "3558bd14-f674-4ecc-a3d9-780e92f9ce07",
   "metadata": {
    "tags": []
   },
   "outputs": [],
   "source": [
    "model = hmm.GaussianHMM(n_components=3, n_iter=100, init_params=\"mcs\")\n",
    "model.transmat_ = np.array([[0.7, 0.2, 0.1],\n",
    "                            [0.3, 0.5, 0.2],\n",
    "                            [0.3, 0.3, 0.4]])"
   ]
  },
  {
   "cell_type": "markdown",
   "id": "72e6b16c-a976-430c-b803-9c8957c08850",
   "metadata": {},
   "source": [
    "- Training HMM parameters and inferring the hidden states"
   ]
  },
  {
   "cell_type": "code",
   "execution_count": 38,
   "id": "9947842b-c693-4d7a-9d76-38f9dbeae4b1",
   "metadata": {
    "tags": []
   },
   "outputs": [],
   "source": [
    "remodel = hmm.GaussianHMM(n_components=3, covariance_type=\"full\", n_iter=1000)\n",
    "remodel.fit(X)\n",
    "Z2 = remodel.predict(X)"
   ]
  },
  {
   "cell_type": "code",
   "execution_count": 46,
   "id": "dda17dec-a319-4e1b-9d93-6fe2be481e96",
   "metadata": {
    "tags": []
   },
   "outputs": [
    {
     "data": {
      "text/plain": [
       "0.81"
      ]
     },
     "execution_count": 46,
     "metadata": {},
     "output_type": "execute_result"
    }
   ],
   "source": [
    "(Z2==Z).sum()/len(Z)"
   ]
  },
  {
   "cell_type": "code",
   "execution_count": 45,
   "id": "73351868-8508-4720-b43b-6d320d433508",
   "metadata": {
    "tags": []
   },
   "outputs": [
    {
     "data": {
      "text/plain": [
       "array([[9.23599049e-01, 4.77474640e-04, 7.59234766e-02],\n",
       "       [1.52620393e-01, 7.53643125e-01, 9.37364820e-02],\n",
       "       [3.29080124e-01, 3.07283512e-01, 3.63636364e-01]])"
      ]
     },
     "execution_count": 45,
     "metadata": {},
     "output_type": "execute_result"
    }
   ],
   "source": [
    "remodel.transmat_"
   ]
  },
  {
   "cell_type": "code",
   "execution_count": 42,
   "id": "8e09ed24-8a2c-4df1-bb62-b54bfda0654a",
   "metadata": {
    "tags": []
   },
   "outputs": [
    {
     "data": {
      "text/plain": [
       "array([[0.7, 0.2, 0.1],\n",
       "       [0.3, 0.5, 0.2],\n",
       "       [0.3, 0.3, 0.4]])"
      ]
     },
     "execution_count": 42,
     "metadata": {},
     "output_type": "execute_result"
    }
   ],
   "source": [
    "model.transmat_"
   ]
  },
  {
   "cell_type": "markdown",
   "id": "700f623a-dfd5-4c97-87fb-ddeb94e1a35f",
   "metadata": {},
   "source": [
    "- Monitoring convergence"
   ]
  },
  {
   "cell_type": "code",
   "execution_count": 36,
   "id": "c4ef59bb-bc27-4c6b-9ff8-b7edf5e7befc",
   "metadata": {
    "tags": []
   },
   "outputs": [
    {
     "data": {
      "text/plain": [
       "ConvergenceMonitor(\n",
       "    history=[-664.5662350121705, -439.7897867406189, -429.6481692598469, -418.54422777970524, -408.5574161037446, -400.38940733276667, -394.90771144633027, -391.1513021967038, -388.511544288925, -385.594397798375, -376.39385063487333, -369.7560560899268, -368.88038133929746, -368.67583590214895, -368.58428363001707, -368.50676581790754, -368.4260171189118, -368.34219078407074, -368.26281394685213, -368.19572272370556, -368.14491960997873, -368.11005932072595, -368.08804589650674, -368.07502548357934, -368.06768838511937],\n",
       "    iter=25,\n",
       "    n_iter=1000,\n",
       "    tol=0.01,\n",
       "    verbose=False,\n",
       ")"
      ]
     },
     "execution_count": 36,
     "metadata": {},
     "output_type": "execute_result"
    }
   ],
   "source": [
    "remodel.monitor_"
   ]
  },
  {
   "cell_type": "code",
   "execution_count": 37,
   "id": "a6031827-f47d-43d2-a7e4-96160d288b3a",
   "metadata": {
    "tags": []
   },
   "outputs": [
    {
     "data": {
      "text/plain": [
       "True"
      ]
     },
     "execution_count": 37,
     "metadata": {},
     "output_type": "execute_result"
    }
   ],
   "source": [
    "remodel.monitor_.converged"
   ]
  },
  {
   "cell_type": "markdown",
   "id": "a80ff190-a041-4c9d-ae5e-82f99b9a0b79",
   "metadata": {},
   "source": [
    "- Working with multiple sequences"
   ]
  },
  {
   "cell_type": "code",
   "execution_count": 47,
   "id": "90edd136-35b0-4a1f-856b-aff68e14fc70",
   "metadata": {
    "tags": []
   },
   "outputs": [],
   "source": [
    "X1 = [[0.5], [1.0], [-1.0], [0.42], [0.24]]"
   ]
  },
  {
   "cell_type": "code",
   "execution_count": 48,
   "id": "200af1dc-1d82-4910-8dd0-de8f3ad7f089",
   "metadata": {
    "tags": []
   },
   "outputs": [],
   "source": [
    "X2 = [[2.4], [4.2], [0.5], [-0.24]]"
   ]
  },
  {
   "cell_type": "code",
   "execution_count": 49,
   "id": "af2b0422-8ae1-4227-8faf-c31daf369645",
   "metadata": {
    "tags": []
   },
   "outputs": [],
   "source": [
    "X = np.concatenate([X1, X2])"
   ]
  },
  {
   "cell_type": "code",
   "execution_count": 50,
   "id": "3443ff7c-e1f4-4c76-a85f-0a4facfcfc0f",
   "metadata": {
    "tags": []
   },
   "outputs": [],
   "source": [
    "lengths = [len(X1), len(X2)]"
   ]
  },
  {
   "cell_type": "code",
   "execution_count": 53,
   "id": "55962214-698c-40db-afce-d930647f2855",
   "metadata": {
    "tags": []
   },
   "outputs": [
    {
     "name": "stderr",
     "output_type": "stream",
     "text": [
      "Fitting a model with 14 free scalar parameters with only 9 data points will result in a degenerate solution.\n"
     ]
    },
    {
     "data": {
      "text/html": [
       "<style>#sk-container-id-1 {color: black;background-color: white;}#sk-container-id-1 pre{padding: 0;}#sk-container-id-1 div.sk-toggleable {background-color: white;}#sk-container-id-1 label.sk-toggleable__label {cursor: pointer;display: block;width: 100%;margin-bottom: 0;padding: 0.3em;box-sizing: border-box;text-align: center;}#sk-container-id-1 label.sk-toggleable__label-arrow:before {content: \"▸\";float: left;margin-right: 0.25em;color: #696969;}#sk-container-id-1 label.sk-toggleable__label-arrow:hover:before {color: black;}#sk-container-id-1 div.sk-estimator:hover label.sk-toggleable__label-arrow:before {color: black;}#sk-container-id-1 div.sk-toggleable__content {max-height: 0;max-width: 0;overflow: hidden;text-align: left;background-color: #f0f8ff;}#sk-container-id-1 div.sk-toggleable__content pre {margin: 0.2em;color: black;border-radius: 0.25em;background-color: #f0f8ff;}#sk-container-id-1 input.sk-toggleable__control:checked~div.sk-toggleable__content {max-height: 200px;max-width: 100%;overflow: auto;}#sk-container-id-1 input.sk-toggleable__control:checked~label.sk-toggleable__label-arrow:before {content: \"▾\";}#sk-container-id-1 div.sk-estimator input.sk-toggleable__control:checked~label.sk-toggleable__label {background-color: #d4ebff;}#sk-container-id-1 div.sk-label input.sk-toggleable__control:checked~label.sk-toggleable__label {background-color: #d4ebff;}#sk-container-id-1 input.sk-hidden--visually {border: 0;clip: rect(1px 1px 1px 1px);clip: rect(1px, 1px, 1px, 1px);height: 1px;margin: -1px;overflow: hidden;padding: 0;position: absolute;width: 1px;}#sk-container-id-1 div.sk-estimator {font-family: monospace;background-color: #f0f8ff;border: 1px dotted black;border-radius: 0.25em;box-sizing: border-box;margin-bottom: 0.5em;}#sk-container-id-1 div.sk-estimator:hover {background-color: #d4ebff;}#sk-container-id-1 div.sk-parallel-item::after {content: \"\";width: 100%;border-bottom: 1px solid gray;flex-grow: 1;}#sk-container-id-1 div.sk-label:hover label.sk-toggleable__label {background-color: #d4ebff;}#sk-container-id-1 div.sk-serial::before {content: \"\";position: absolute;border-left: 1px solid gray;box-sizing: border-box;top: 0;bottom: 0;left: 50%;z-index: 0;}#sk-container-id-1 div.sk-serial {display: flex;flex-direction: column;align-items: center;background-color: white;padding-right: 0.2em;padding-left: 0.2em;position: relative;}#sk-container-id-1 div.sk-item {position: relative;z-index: 1;}#sk-container-id-1 div.sk-parallel {display: flex;align-items: stretch;justify-content: center;background-color: white;position: relative;}#sk-container-id-1 div.sk-item::before, #sk-container-id-1 div.sk-parallel-item::before {content: \"\";position: absolute;border-left: 1px solid gray;box-sizing: border-box;top: 0;bottom: 0;left: 50%;z-index: -1;}#sk-container-id-1 div.sk-parallel-item {display: flex;flex-direction: column;z-index: 1;position: relative;background-color: white;}#sk-container-id-1 div.sk-parallel-item:first-child::after {align-self: flex-end;width: 50%;}#sk-container-id-1 div.sk-parallel-item:last-child::after {align-self: flex-start;width: 50%;}#sk-container-id-1 div.sk-parallel-item:only-child::after {width: 0;}#sk-container-id-1 div.sk-dashed-wrapped {border: 1px dashed gray;margin: 0 0.4em 0.5em 0.4em;box-sizing: border-box;padding-bottom: 0.4em;background-color: white;}#sk-container-id-1 div.sk-label label {font-family: monospace;font-weight: bold;display: inline-block;line-height: 1.2em;}#sk-container-id-1 div.sk-label-container {text-align: center;}#sk-container-id-1 div.sk-container {/* jupyter's `normalize.less` sets `[hidden] { display: none; }` but bootstrap.min.css set `[hidden] { display: none !important; }` so we also need the `!important` here to be able to override the default hidden behavior on the sphinx rendered scikit-learn.org. See: https://github.com/scikit-learn/scikit-learn/issues/21755 */display: inline-block !important;position: relative;}#sk-container-id-1 div.sk-text-repr-fallback {display: none;}</style><div id=\"sk-container-id-1\" class=\"sk-top-container\"><div class=\"sk-text-repr-fallback\"><pre>GaussianHMM(n_components=3)</pre><b>In a Jupyter environment, please rerun this cell to show the HTML representation or trust the notebook. <br />On GitHub, the HTML representation is unable to render, please try loading this page with nbviewer.org.</b></div><div class=\"sk-container\" hidden><div class=\"sk-item\"><div class=\"sk-estimator sk-toggleable\"><input class=\"sk-toggleable__control sk-hidden--visually\" id=\"sk-estimator-id-1\" type=\"checkbox\" checked><label for=\"sk-estimator-id-1\" class=\"sk-toggleable__label sk-toggleable__label-arrow\">GaussianHMM</label><div class=\"sk-toggleable__content\"><pre>GaussianHMM(n_components=3)</pre></div></div></div></div></div>"
      ],
      "text/plain": [
       "GaussianHMM(n_components=3)"
      ]
     },
     "execution_count": 53,
     "metadata": {},
     "output_type": "execute_result"
    }
   ],
   "source": [
    "hmm.GaussianHMM(n_components=3).fit(X, lengths)"
   ]
  },
  {
   "cell_type": "markdown",
   "id": "65d6fd15-c503-44de-83c8-54cb618e11a5",
   "metadata": {},
   "source": [
    "## Problem 2 - The Dishonest Casino\n",
    "\n",
    "First the data will be loaded"
   ]
  },
  {
   "cell_type": "code",
   "execution_count": 153,
   "id": "ca78587c-0c08-43f7-97d9-5b99201d24e8",
   "metadata": {
    "tags": []
   },
   "outputs": [],
   "source": [
    "import numpy as np\n",
    "from hmmlearn import hmm\n",
    "from sklearn.preprocessing import LabelEncoder"
   ]
  },
  {
   "cell_type": "code",
   "execution_count": 154,
   "id": "b2e6f84e-e4fa-4eba-91fa-a989b87e33f9",
   "metadata": {
    "tags": []
   },
   "outputs": [],
   "source": [
    "with open(\"rolls.txt\", \"r\") as f:\n",
    "    X = list(\n",
    "        map(lambda x: int(x.strip(\"\\n\")), f.readlines())\n",
    "    )\n",
    "    X = np.array(X).reshape(-1,1)-1\n",
    "    f.close()\n",
    "\n",
    "with open(\"dice.txt\", \"r\") as f:\n",
    "    y = list(map(lambda x: x.strip(\"\\n\"), f.readlines()))\n",
    "    #y = np.array(y).reshape(-1,1)\n",
    "    enc = LabelEncoder().fit(y)\n",
    "    y = enc.transform(y).reshape(-1,1)"
   ]
  },
  {
   "cell_type": "code",
   "execution_count": 256,
   "id": "d35fba9b-3f3d-4e65-89af-912bbb49d4a0",
   "metadata": {
    "tags": []
   },
   "outputs": [],
   "source": [
    "def train_test_split( arrays: list, test_size):\n",
    "    out = []\n",
    "    for arr in arrays:\n",
    "        arr_train, arr_test = arr[:test_size], arr[test_size:]\n",
    "        out.append(arr_train)\n",
    "        out.append(arr_test)\n",
    "    return out"
   ]
  },
  {
   "cell_type": "markdown",
   "id": "a93d5a88-67f2-400c-b89a-74e5a4a08741",
   "metadata": {},
   "source": [
    "\n",
    "### a) construct the model assuming all parameters known."
   ]
  },
  {
   "cell_type": "code",
   "execution_count": 260,
   "id": "7733bf16-c41d-4437-ad71-db9250214e25",
   "metadata": {
    "tags": []
   },
   "outputs": [],
   "source": [
    "X_train, X_test, y_train, y_test = train_test_split((X, y), -10)"
   ]
  },
  {
   "cell_type": "markdown",
   "id": "9c99bf91-ff3b-427a-a0db-795347039602",
   "metadata": {},
   "source": [
    "- Creation of model with all known parameters"
   ]
  },
  {
   "cell_type": "code",
   "execution_count": 261,
   "id": "c481bc0b-f698-434a-a726-f2c51bdb815b",
   "metadata": {
    "tags": []
   },
   "outputs": [],
   "source": [
    "model = hmm.CategoricalHMM(n_components=2, init_params=\"mc\")\n",
    "model.n_features=6\n",
    "model.transmat_ = np.array([[0.95, 0.05],\n",
    "                            [0.1, 0.9]])\n",
    "model.emissionprob_ = np.array([[1/6]*6,\n",
    "                                [1/10]*5 + [5/10]])\n",
    "model.startprob_ = np.array([1.0, 0.0])"
   ]
  },
  {
   "cell_type": "code",
   "execution_count": 262,
   "id": "bff402db-abcf-474d-8c3b-b1e87437c052",
   "metadata": {
    "tags": []
   },
   "outputs": [
    {
     "data": {
      "text/plain": [
       "-18.228865102347154"
      ]
     },
     "execution_count": 262,
     "metadata": {},
     "output_type": "execute_result"
    }
   ],
   "source": [
    "model.score(X_test)"
   ]
  },
  {
   "cell_type": "markdown",
   "id": "06c572bc-1586-49a6-a58a-f7f64a892c87",
   "metadata": {},
   "source": [
    "- Creation of model with unknown transition probability matrix"
   ]
  },
  {
   "cell_type": "code",
   "execution_count": 284,
   "id": "83d00244-318b-4ee6-9aad-42342250685b",
   "metadata": {
    "tags": []
   },
   "outputs": [],
   "source": [
    "remodel = hmm.CategoricalHMM(n_components=2, init_params=\"mt\", random_state=22)\n",
    "remodel.n_features=6\n",
    "\n",
    "remodel.emissionprob_ = np.array([[1/6]*6,\n",
    "                                [1/10]*5 + [5/10]])\n",
    "remodel.startprob_ = np.array([1.0, 0.0])"
   ]
  },
  {
   "cell_type": "code",
   "execution_count": 285,
   "id": "e39edeca-bfac-40ef-8900-9879d2ba986e",
   "metadata": {
    "tags": []
   },
   "outputs": [
    {
     "data": {
      "text/plain": [
       "True"
      ]
     },
     "execution_count": 285,
     "metadata": {},
     "output_type": "execute_result"
    }
   ],
   "source": [
    "remodel.fit(X_train)\n",
    "remodel.monitor_.converged"
   ]
  },
  {
   "cell_type": "markdown",
   "id": "ab75d537-e0ed-4793-b17c-3049b02742d1",
   "metadata": {},
   "source": [
    "- Comparison of real and estimated transition matrix"
   ]
  },
  {
   "cell_type": "code",
   "execution_count": 289,
   "id": "11094f08-d806-44a6-bddb-88225709338a",
   "metadata": {
    "tags": []
   },
   "outputs": [
    {
     "data": {
      "text/plain": [
       "array([[0.24528262, 0.75471738],\n",
       "       [0.30274841, 0.69725159]])"
      ]
     },
     "execution_count": 289,
     "metadata": {},
     "output_type": "execute_result"
    }
   ],
   "source": [
    "remodel.transmat_"
   ]
  },
  {
   "cell_type": "code",
   "execution_count": 242,
   "id": "ab98fcab-69c5-420b-8072-c7e22b31df55",
   "metadata": {
    "tags": []
   },
   "outputs": [
    {
     "data": {
      "text/plain": [
       "array([[0.95, 0.05],\n",
       "       [0.1 , 0.9 ]])"
      ]
     },
     "execution_count": 242,
     "metadata": {},
     "output_type": "execute_result"
    }
   ],
   "source": [
    "model.transmat_"
   ]
  },
  {
   "cell_type": "markdown",
   "id": "c997af98-a58b-47a9-9dc4-26ef6dbc0d85",
   "metadata": {},
   "source": [
    "The model score was similar to the model that had all parameters kown.<br>\n",
    "However, the transition matrix obtained was not like the original.<br>\n",
    "\n",
    "- Comparison of the generated dice series **VS** the original dice series"
   ]
  },
  {
   "cell_type": "code",
   "execution_count": 307,
   "id": "595b0cdf-fb4c-475d-8ec8-7af96eea8fb7",
   "metadata": {
    "tags": []
   },
   "outputs": [],
   "source": [
    "dice_series_generated, dice_state = remodel.sample(10, random_state=22)"
   ]
  },
  {
   "cell_type": "code",
   "execution_count": 309,
   "id": "60ac2e5c-f04a-4336-bfc5-e03162e02df5",
   "metadata": {
    "tags": []
   },
   "outputs": [
    {
     "data": {
      "text/plain": [
       "{0: 1, 1: 1, 2: 2, 3: 1, 4: 1, 5: 4}"
      ]
     },
     "execution_count": 309,
     "metadata": {},
     "output_type": "execute_result"
    }
   ],
   "source": [
    "dict(zip(*np.unique(dice_series_generated, return_counts=True)))"
   ]
  },
  {
   "cell_type": "code",
   "execution_count": 310,
   "id": "1e20d5b3-99ab-43ef-9ef4-f2a29f3c662a",
   "metadata": {
    "tags": []
   },
   "outputs": [
    {
     "data": {
      "text/plain": [
       "{0: 1, 1: 1, 2: 4, 3: 1, 4: 2, 5: 1}"
      ]
     },
     "execution_count": 310,
     "metadata": {},
     "output_type": "execute_result"
    }
   ],
   "source": [
    "dict(zip(*np.unique(X_test, return_counts=True)))"
   ]
  },
  {
   "cell_type": "code",
   "execution_count": 311,
   "id": "eb0b6621-a459-4f36-91fd-3b855fc7770d",
   "metadata": {
    "tags": []
   },
   "outputs": [
    {
     "name": "stdout",
     "output_type": "stream",
     "text": [
      "[[0 0]\n",
      " [1 0]\n",
      " [0 0]\n",
      " [1 0]\n",
      " [0 0]\n",
      " [0 0]\n",
      " [1 0]\n",
      " [0 0]\n",
      " [1 0]\n",
      " [1 0]]\n"
     ]
    }
   ],
   "source": [
    "print(np.concatenate((dice_state.reshape(-1,1), y_test), axis=1))"
   ]
  },
  {
   "cell_type": "markdown",
   "id": "854fbf98-375c-4cfe-b7c9-dc4f0b8b7bba",
   "metadata": {},
   "source": [
    "We can see that the frequencies of the Validation set are uniform. <br>\n",
    "The frequency of the generated sample is not, has it is more biased towards the value 5, which maps into the dice roll of 6. \n",
    "\n",
    "Besides that we can see that the state changed with a lot of frequency, in contrast to the original dice historical, which explains why the frequency of the generated samples are not uniformly distributed.\n",
    "\n",
    "----\n",
    "\n",
    "### c) Train HMM’s with half of the data points and observe the log-likelihood with the remaining half. \n",
    "- Compare the estimated parameters (transition and emission matrices) with the original model from question a);\n",
    "- Visualize the generated dice series of the last half of data against the given one. (Note: Use the dataset provided in files rolls.txt and dice.txt provided on Moodle);"
   ]
  },
  {
   "cell_type": "code",
   "execution_count": 313,
   "id": "1f0f2805-37a4-4f07-af70-d5876c429850",
   "metadata": {
    "tags": []
   },
   "outputs": [],
   "source": [
    "N = X.shape[0]//2"
   ]
  },
  {
   "cell_type": "code",
   "execution_count": 314,
   "id": "d2b3b35e-2a68-4d62-a172-b41e69e28e95",
   "metadata": {
    "tags": []
   },
   "outputs": [],
   "source": [
    "X_train, X_test, y_train, y_test = train_test_split((X, y), N)"
   ]
  },
  {
   "cell_type": "markdown",
   "id": "b7b83a88-a6bd-49ba-a9ae-80a555a1e7c7",
   "metadata": {},
   "source": [
    "####    1. Assume both transition and emission matrices are unknown"
   ]
  },
  {
   "cell_type": "code",
   "execution_count": 315,
   "id": "7405dce7-4740-4526-938b-4e9fa464fc80",
   "metadata": {
    "tags": []
   },
   "outputs": [
    {
     "data": {
      "text/html": [
       "<style>#sk-container-id-38 {color: black;background-color: white;}#sk-container-id-38 pre{padding: 0;}#sk-container-id-38 div.sk-toggleable {background-color: white;}#sk-container-id-38 label.sk-toggleable__label {cursor: pointer;display: block;width: 100%;margin-bottom: 0;padding: 0.3em;box-sizing: border-box;text-align: center;}#sk-container-id-38 label.sk-toggleable__label-arrow:before {content: \"▸\";float: left;margin-right: 0.25em;color: #696969;}#sk-container-id-38 label.sk-toggleable__label-arrow:hover:before {color: black;}#sk-container-id-38 div.sk-estimator:hover label.sk-toggleable__label-arrow:before {color: black;}#sk-container-id-38 div.sk-toggleable__content {max-height: 0;max-width: 0;overflow: hidden;text-align: left;background-color: #f0f8ff;}#sk-container-id-38 div.sk-toggleable__content pre {margin: 0.2em;color: black;border-radius: 0.25em;background-color: #f0f8ff;}#sk-container-id-38 input.sk-toggleable__control:checked~div.sk-toggleable__content {max-height: 200px;max-width: 100%;overflow: auto;}#sk-container-id-38 input.sk-toggleable__control:checked~label.sk-toggleable__label-arrow:before {content: \"▾\";}#sk-container-id-38 div.sk-estimator input.sk-toggleable__control:checked~label.sk-toggleable__label {background-color: #d4ebff;}#sk-container-id-38 div.sk-label input.sk-toggleable__control:checked~label.sk-toggleable__label {background-color: #d4ebff;}#sk-container-id-38 input.sk-hidden--visually {border: 0;clip: rect(1px 1px 1px 1px);clip: rect(1px, 1px, 1px, 1px);height: 1px;margin: -1px;overflow: hidden;padding: 0;position: absolute;width: 1px;}#sk-container-id-38 div.sk-estimator {font-family: monospace;background-color: #f0f8ff;border: 1px dotted black;border-radius: 0.25em;box-sizing: border-box;margin-bottom: 0.5em;}#sk-container-id-38 div.sk-estimator:hover {background-color: #d4ebff;}#sk-container-id-38 div.sk-parallel-item::after {content: \"\";width: 100%;border-bottom: 1px solid gray;flex-grow: 1;}#sk-container-id-38 div.sk-label:hover label.sk-toggleable__label {background-color: #d4ebff;}#sk-container-id-38 div.sk-serial::before {content: \"\";position: absolute;border-left: 1px solid gray;box-sizing: border-box;top: 0;bottom: 0;left: 50%;z-index: 0;}#sk-container-id-38 div.sk-serial {display: flex;flex-direction: column;align-items: center;background-color: white;padding-right: 0.2em;padding-left: 0.2em;position: relative;}#sk-container-id-38 div.sk-item {position: relative;z-index: 1;}#sk-container-id-38 div.sk-parallel {display: flex;align-items: stretch;justify-content: center;background-color: white;position: relative;}#sk-container-id-38 div.sk-item::before, #sk-container-id-38 div.sk-parallel-item::before {content: \"\";position: absolute;border-left: 1px solid gray;box-sizing: border-box;top: 0;bottom: 0;left: 50%;z-index: -1;}#sk-container-id-38 div.sk-parallel-item {display: flex;flex-direction: column;z-index: 1;position: relative;background-color: white;}#sk-container-id-38 div.sk-parallel-item:first-child::after {align-self: flex-end;width: 50%;}#sk-container-id-38 div.sk-parallel-item:last-child::after {align-self: flex-start;width: 50%;}#sk-container-id-38 div.sk-parallel-item:only-child::after {width: 0;}#sk-container-id-38 div.sk-dashed-wrapped {border: 1px dashed gray;margin: 0 0.4em 0.5em 0.4em;box-sizing: border-box;padding-bottom: 0.4em;background-color: white;}#sk-container-id-38 div.sk-label label {font-family: monospace;font-weight: bold;display: inline-block;line-height: 1.2em;}#sk-container-id-38 div.sk-label-container {text-align: center;}#sk-container-id-38 div.sk-container {/* jupyter's `normalize.less` sets `[hidden] { display: none; }` but bootstrap.min.css set `[hidden] { display: none !important; }` so we also need the `!important` here to be able to override the default hidden behavior on the sphinx rendered scikit-learn.org. See: https://github.com/scikit-learn/scikit-learn/issues/21755 */display: inline-block !important;position: relative;}#sk-container-id-38 div.sk-text-repr-fallback {display: none;}</style><div id=\"sk-container-id-38\" class=\"sk-top-container\"><div class=\"sk-text-repr-fallback\"><pre>CategoricalHMM(init_params=&#x27;te&#x27;, n_components=2, n_iter=1000,\n",
       "               random_state=RandomState(MT19937) at 0x253BF5EC440)</pre><b>In a Jupyter environment, please rerun this cell to show the HTML representation or trust the notebook. <br />On GitHub, the HTML representation is unable to render, please try loading this page with nbviewer.org.</b></div><div class=\"sk-container\" hidden><div class=\"sk-item\"><div class=\"sk-estimator sk-toggleable\"><input class=\"sk-toggleable__control sk-hidden--visually\" id=\"sk-estimator-id-38\" type=\"checkbox\" checked><label for=\"sk-estimator-id-38\" class=\"sk-toggleable__label sk-toggleable__label-arrow\">CategoricalHMM</label><div class=\"sk-toggleable__content\"><pre>CategoricalHMM(init_params=&#x27;te&#x27;, n_components=2, n_iter=1000,\n",
       "               random_state=RandomState(MT19937) at 0x253BF5EC440)</pre></div></div></div></div></div>"
      ],
      "text/plain": [
       "CategoricalHMM(init_params='te', n_components=2, n_iter=1000,\n",
       "               random_state=RandomState(MT19937) at 0x253BF5EC440)"
      ]
     },
     "execution_count": 315,
     "metadata": {},
     "output_type": "execute_result"
    }
   ],
   "source": [
    "remodel = hmm.CategoricalHMM(n_components=2, random_state=22, n_iter=1000, init_params=\"te\")\n",
    "remodel.n_features=6\n",
    "\n",
    "remodel.fit(X_train)"
   ]
  },
  {
   "cell_type": "code",
   "execution_count": 316,
   "id": "885919cc-cbbe-4968-a82b-5c10741c0722",
   "metadata": {
    "tags": []
   },
   "outputs": [
    {
     "data": {
      "text/plain": [
       "-972.3959556320895"
      ]
     },
     "execution_count": 316,
     "metadata": {},
     "output_type": "execute_result"
    }
   ],
   "source": [
    "remodel.score(X_test)"
   ]
  },
  {
   "cell_type": "code",
   "execution_count": 317,
   "id": "d4bbb4a3-565d-493d-959d-f0cc76d781e2",
   "metadata": {
    "tags": []
   },
   "outputs": [
    {
     "data": {
      "text/plain": [
       "-961.4177962080355"
      ]
     },
     "execution_count": 317,
     "metadata": {},
     "output_type": "execute_result"
    }
   ],
   "source": [
    "model.score(X_test)"
   ]
  },
  {
   "cell_type": "markdown",
   "id": "5f53e2e6-c194-4cd5-80d3-57b35698fa5f",
   "metadata": {},
   "source": [
    "Like before, the log-likelihood scores are not very distinct from each other. <br>\n",
    "The original model performed better"
   ]
  },
  {
   "cell_type": "code",
   "execution_count": null,
   "id": "d6698ca2-3422-4ab5-9da4-77562c6accf6",
   "metadata": {},
   "outputs": [],
   "source": []
  }
 ],
 "metadata": {
  "kernelspec": {
   "display_name": "Python 3 (ipykernel)",
   "language": "python",
   "name": "python3"
  },
  "language_info": {
   "codemirror_mode": {
    "name": "ipython",
    "version": 3
   },
   "file_extension": ".py",
   "mimetype": "text/x-python",
   "name": "python",
   "nbconvert_exporter": "python",
   "pygments_lexer": "ipython3",
   "version": "3.9.7"
  }
 },
 "nbformat": 4,
 "nbformat_minor": 5
}
