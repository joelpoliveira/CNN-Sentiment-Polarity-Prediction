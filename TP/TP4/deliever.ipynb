{
 "cells": [
  {
   "cell_type": "markdown",
   "id": "55005d2e-a014-4ba6-9906-dbe7117698d9",
   "metadata": {},
   "source": [
    "## Problem 2 - The Dishonest Casino\n",
    "- João Braz, 60419\n",
    "- Joel Oliveira, 59442"
   ]
  },
  {
   "cell_type": "code",
   "execution_count": 1,
   "id": "a1152467-0136-4028-8f92-9f05513c9c50",
   "metadata": {
    "tags": []
   },
   "outputs": [],
   "source": [
    "import numpy as np\n",
    "import pandas as pd\n",
    "import matplotlib.pyplot as plt\n",
    "import seaborn as sns\n",
    "from hmmlearn import hmm\n",
    "from sklearn.preprocessing import LabelEncoder"
   ]
  },
  {
   "cell_type": "code",
   "execution_count": 2,
   "id": "60949104-e671-4781-987f-3f1b9c7f2eb1",
   "metadata": {
    "tags": []
   },
   "outputs": [],
   "source": [
    "with open(\"rolls.txt\", \"r\") as f:\n",
    "    X = list(\n",
    "        map(lambda x: int(x.strip(\"\\n\")), f.readlines())\n",
    "    )\n",
    "    X = np.array(X).reshape(-1,1)-1\n",
    "    f.close()\n",
    "\n",
    "with open(\"dice.txt\", \"r\") as f:\n",
    "    y = list(map(lambda x: x.strip(\"\\n\"), f.readlines()))\n",
    "    #y = np.array(y).reshape(-1,1)\n",
    "    enc = LabelEncoder().fit(y)\n",
    "    y = enc.transform(y).reshape(-1,1)"
   ]
  },
  {
   "cell_type": "code",
   "execution_count": 3,
   "id": "e1b59820-1bb7-49d0-8574-134ad6cee306",
   "metadata": {
    "tags": []
   },
   "outputs": [],
   "source": [
    "def train_test_split( arrays: list, test_size):\n",
    "    out = []\n",
    "    for arr in arrays:\n",
    "        arr_train, arr_test = arr[:test_size], arr[test_size:]\n",
    "        out.append(arr_train)\n",
    "        out.append(arr_test)\n",
    "    return out"
   ]
  },
  {
   "cell_type": "code",
   "execution_count": 4,
   "id": "99670a40-b361-4b71-9674-325512b599ba",
   "metadata": {
    "tags": []
   },
   "outputs": [],
   "source": [
    "X_train, X_test, y_train, y_test = train_test_split((X, y), -10)"
   ]
  },
  {
   "cell_type": "markdown",
   "id": "5553d27c-2968-4228-88c4-463c491dcff8",
   "metadata": {},
   "source": [
    "### a) construct the model assuming all parameters known."
   ]
  },
  {
   "cell_type": "markdown",
   "id": "278612ad-c385-4789-8e4d-195ede1bbc43",
   "metadata": {},
   "source": [
    "- Creation of model with all known parameters"
   ]
  },
  {
   "cell_type": "code",
   "execution_count": 5,
   "id": "5f495249-4fd0-45cf-b88f-07b495091e8f",
   "metadata": {
    "tags": []
   },
   "outputs": [],
   "source": [
    "model = hmm.CategoricalHMM(n_components=2, init_params=\"mcs\")\n",
    "model.n_features=6\n",
    "model.transmat_ = np.array([[0.95, 0.05],\n",
    "                            [0.1, 0.9]])\n",
    "model.emissionprob_ = np.array([[1/6]*6,\n",
    "                                [1/10]*5 + [1/2]])\n",
    "model.startprob_ = np.array([1.0, 0.0])"
   ]
  },
  {
   "cell_type": "markdown",
   "id": "a7d7aa8a-243d-4133-8694-e6f015514516",
   "metadata": {},
   "source": [
    "- Creation of model with unknown transition probability matrix"
   ]
  },
  {
   "cell_type": "code",
   "execution_count": 6,
   "id": "14a0ced6-8e1a-4feb-9d63-9d20cde7b602",
   "metadata": {
    "tags": []
   },
   "outputs": [],
   "source": [
    "remodel = hmm.CategoricalHMM(n_components=2, init_params=\"mcts\", n_iter=10000000)\n",
    "remodel.n_features=6\n",
    "\n",
    "remodel.emissionprob_ = np.array([[1/6]*6,\n",
    "                                [1/10]*5 + [5/10]])"
   ]
  },
  {
   "cell_type": "code",
   "execution_count": 7,
   "id": "ed24775a-20cf-46e5-af65-b4d7dfb87870",
   "metadata": {
    "tags": []
   },
   "outputs": [
    {
     "data": {
      "text/plain": [
       "True"
      ]
     },
     "execution_count": 7,
     "metadata": {},
     "output_type": "execute_result"
    }
   ],
   "source": [
    "remodel.fit(X_train)\n",
    "remodel.monitor_.converged"
   ]
  },
  {
   "cell_type": "code",
   "execution_count": 8,
   "id": "f021325c-779b-4179-b353-5fe2be63c23c",
   "metadata": {
    "tags": []
   },
   "outputs": [
    {
     "data": {
      "text/plain": [
       "array([1.00000000e+00, 8.09629784e-19])"
      ]
     },
     "execution_count": 8,
     "metadata": {},
     "output_type": "execute_result"
    }
   ],
   "source": [
    "remodel.startprob_"
   ]
  },
  {
   "cell_type": "code",
   "execution_count": 9,
   "id": "0b12f9d6-860a-4c7b-87bd-0236203c2ee4",
   "metadata": {
    "tags": []
   },
   "outputs": [
    {
     "data": {
      "text/plain": [
       "(-18.02663100633051, -18.228865102347154)"
      ]
     },
     "execution_count": 9,
     "metadata": {},
     "output_type": "execute_result"
    }
   ],
   "source": [
    "remodel.score(X_test), model.score(X_test)"
   ]
  },
  {
   "cell_type": "markdown",
   "id": "fc56ecd6-b9bb-4514-8d33-6724112d55f0",
   "metadata": {},
   "source": [
    "The scores are similar\n",
    "\n",
    "- Comparison of real and estimated transition matrix"
   ]
  },
  {
   "cell_type": "code",
   "execution_count": 10,
   "id": "423cc31c-cd2e-482e-b3a6-28b040661985",
   "metadata": {
    "tags": []
   },
   "outputs": [
    {
     "data": {
      "text/plain": [
       "array([[0.97115183, 0.02884817],\n",
       "       [0.07606064, 0.92393936]])"
      ]
     },
     "execution_count": 10,
     "metadata": {},
     "output_type": "execute_result"
    }
   ],
   "source": [
    "remodel.transmat_"
   ]
  },
  {
   "cell_type": "markdown",
   "id": "bc047eed-edfc-4a8e-8126-de2d40d2b543",
   "metadata": {},
   "source": [
    "The transition matrix made good convergence towards the true matrix when the number of iterations got higher. <br>\n",
    "When the number of iterations was small it probably depended a lot in the initial values. <br>\n",
    "By setting the iterations higher a good enough transition matrix was created more often.\n",
    "\n",
    "- Comparison of the generated dice series **VS** the original dice series"
   ]
  },
  {
   "cell_type": "code",
   "execution_count": 11,
   "id": "c21cb1c7-685d-42c2-8183-993c9c852408",
   "metadata": {
    "tags": []
   },
   "outputs": [],
   "source": [
    "roll_series_generated, dice_state = remodel.sample(10)"
   ]
  },
  {
   "cell_type": "code",
   "execution_count": 12,
   "id": "72ada138-d56f-45cc-928b-76befa60e73a",
   "metadata": {
    "tags": []
   },
   "outputs": [],
   "source": [
    "def bar(x,y,ax, xlabel=\"\", ylabel=\"\", title=\"\", label=\"\", legend=False):\n",
    "    ax.bar(x,y, ec='k', label=label)\n",
    "    ax.set_xlabel(xlabel)\n",
    "    ax.set_ylabel(ylabel)\n",
    "    ax.set_title(title)\n",
    "    if legend:\n",
    "        ax.legend()"
   ]
  },
  {
   "cell_type": "code",
   "execution_count": 13,
   "id": "85c1bd7a-d1ff-40f8-9c61-884c3ed9d17d",
   "metadata": {
    "tags": []
   },
   "outputs": [],
   "source": [
    "generated_dict = dict(\n",
    "    sorted(\n",
    "        zip(\n",
    "            *np.unique(roll_series_generated, return_counts=True)), \n",
    "            key=lambda x: x[0]\n",
    "    )\n",
    ")\n",
    "\n",
    "true_dict = dict(\n",
    "    sorted(\n",
    "        zip(*np.unique(X_test, return_counts=True)),\n",
    "        key=lambda x: x[0]\n",
    "    )\n",
    ")"
   ]
  },
  {
   "cell_type": "code",
   "execution_count": 14,
   "id": "de432eb9-54d4-466d-adcc-c48ab9822d97",
   "metadata": {
    "tags": []
   },
   "outputs": [
    {
     "data": {
      "image/png": "[encoded data removed]",
      "text/plain": [
       "<Figure size 1200x400 with 2 Axes>"
      ]
     },
     "metadata": {},
     "output_type": "display_data"
    }
   ],
   "source": [
    "f, ax = plt.subplots(1,2,figsize=(12,4))\n",
    "\n",
    "bar(generated_dict.keys(), generated_dict.values(), ax[0], \"Roll\", \"Counts\", \"Generated Series\")\n",
    "bar(true_dict.keys(), true_dict.values(), ax[1], \"Roll\", \"Counts\", \"Original Series\")"
   ]
  },
  {
   "cell_type": "code",
   "execution_count": 15,
   "id": "f1a09812-cbd2-46e0-8bd6-1f689232214b",
   "metadata": {
    "tags": []
   },
   "outputs": [
    {
     "name": "stdout",
     "output_type": "stream",
     "text": [
      "[[0 0]\n",
      " [0 0]\n",
      " [0 0]\n",
      " [0 0]\n",
      " [0 0]\n",
      " [0 0]\n",
      " [0 0]\n",
      " [0 0]\n",
      " [0 0]\n",
      " [0 0]]\n"
     ]
    }
   ],
   "source": [
    "print(np.concatenate((dice_state.reshape(-1,1), y_test), axis=1))"
   ]
  },
  {
   "cell_type": "markdown",
   "id": "8d7ea6bd-47f6-4618-8973-472de7d533a4",
   "metadata": {},
   "source": [
    "We can see that the frequencies of the Validation set are relatively uniform, and the generated series are very similar. <br>\n",
    "\n",
    "Besides that we can see that the state did not change, just like in the original set. \n",
    "\n",
    "\n",
    "----\n",
    "\n",
    "### c) Train HMM’s with half of the data points and observe the log-likelihood with the remaining half. \n",
    "- Compare the estimated parameters (transition and emission matrices) with the original model from question a);\n",
    "- Visualize the generated dice series of the last half of data against the given one. <br>\n",
    "(Note: Use the dataset provided in files rolls.txt and dice.txt provided on Moodle);"
   ]
  },
  {
   "cell_type": "code",
   "execution_count": 16,
   "id": "27413968-20ef-4d01-9572-095176ebf8c8",
   "metadata": {
    "tags": []
   },
   "outputs": [],
   "source": [
    "N = X.shape[0]//2"
   ]
  },
  {
   "cell_type": "code",
   "execution_count": 17,
   "id": "3389b48d-dd00-4575-ab47-4ea728e89e57",
   "metadata": {
    "tags": []
   },
   "outputs": [],
   "source": [
    "X_train, X_test, y_train, y_test = train_test_split((X, y), N)"
   ]
  },
  {
   "cell_type": "markdown",
   "id": "e7d460ec-31e7-442e-89ed-3715783f625a",
   "metadata": {},
   "source": [
    "####    1. Assume both transition and emission matrices are unknown"
   ]
  },
  {
   "cell_type": "code",
   "execution_count": 18,
   "id": "380294b2-7881-4e27-a1e4-ef5836c91b99",
   "metadata": {
    "tags": []
   },
   "outputs": [],
   "source": [
    "def super_bar(x, yy, labels, ax, xlabel=\"\", ylabel=\"\", title=\"\"):\n",
    "    temp = pd.DataFrame(\n",
    "        index=x, \n",
    "        data=dict(zip(labels,yy))\n",
    "    )\n",
    "    temp.plot.bar( ax=ax, xlabel=xlabel, ylabel=ylabel, ec=\"k\")\n",
    "    ax.set_title(title)"
   ]
  },
  {
   "cell_type": "code",
   "execution_count": 19,
   "id": "6087c3de-d126-4e46-bf0f-a8ceb17117b4",
   "metadata": {
    "tags": []
   },
   "outputs": [
    {
     "data": {
      "text/plain": [
       "True"
      ]
     },
     "execution_count": 19,
     "metadata": {},
     "output_type": "execute_result"
    }
   ],
   "source": [
    "remodel = hmm.CategoricalHMM(n_components=2, n_iter=10000000, init_params=\"mtecs\")\n",
    "remodel.n_features=6\n",
    "remodel.fit(X_train)\n",
    "remodel.monitor_.converged"
   ]
  },
  {
   "cell_type": "code",
   "execution_count": 20,
   "id": "ce66d121-c72e-4dd5-a5d6-79df8dc37ded",
   "metadata": {
    "tags": []
   },
   "outputs": [
    {
     "data": {
      "text/plain": [
       "(-969.6146432684814, -961.4177962080355)"
      ]
     },
     "execution_count": 20,
     "metadata": {},
     "output_type": "execute_result"
    }
   ],
   "source": [
    "remodel.score(X_test), model.score(X_test)"
   ]
  },
  {
   "cell_type": "markdown",
   "id": "68aa12ba-b25d-47d1-91df-b7f930cd93d2",
   "metadata": {},
   "source": [
    "Like before, the log-likelihood scores are not very distinct from each other. <br>\n",
    "The original model performed better"
   ]
  },
  {
   "cell_type": "code",
   "execution_count": 21,
   "id": "f7906e0f-97e0-4c75-8d53-6f280931aa81",
   "metadata": {
    "tags": []
   },
   "outputs": [
    {
     "data": {
      "text/plain": [
       "array([[0.8 , 0.2 ],\n",
       "       [0.06, 0.94]])"
      ]
     },
     "execution_count": 21,
     "metadata": {},
     "output_type": "execute_result"
    }
   ],
   "source": [
    "np.round(remodel.transmat_, 2)"
   ]
  },
  {
   "cell_type": "markdown",
   "id": "ea5a9575-bb84-47e5-9eeb-dab16ba29c05",
   "metadata": {},
   "source": [
    "The transition matrix estimated approachedd the original matrix with less frequency. The number of iterations was increased to increase the number of times this occured. <br>"
   ]
  },
  {
   "cell_type": "code",
   "execution_count": 22,
   "id": "4fe5149b-db8f-4d81-9a79-d82ca0295abe",
   "metadata": {
    "tags": []
   },
   "outputs": [],
   "source": [
    "model_probs = np.round(remodel.emissionprob_, decimals=2)"
   ]
  },
  {
   "cell_type": "code",
   "execution_count": 23,
   "id": "3a641295-c83a-454f-9363-062c3416d1f3",
   "metadata": {
    "tags": []
   },
   "outputs": [],
   "source": [
    "true_probs = np.round(model.emissionprob_, decimals=2)"
   ]
  },
  {
   "cell_type": "code",
   "execution_count": 24,
   "id": "e4695329-ba73-46c4-8b83-e5cdf62f561f",
   "metadata": {
    "tags": []
   },
   "outputs": [
    {
     "data": {
      "image/png": "[encoded data removed]",
      "text/plain": [
       "<Figure size 1200x400 with 2 Axes>"
      ]
     },
     "metadata": {},
     "output_type": "display_data"
    }
   ],
   "source": [
    "f, ax = plt.subplots(1,2, figsize=(12,4))\n",
    "\n",
    "super_bar(range(1,7), [model_probs[0],true_probs[0]], [\"Estimated Probability\", \"True Probability\"], ax[0], xlabel=\"Roll\", ylabel=\"Probability\", title=\"Fair Dice\")\n",
    "super_bar(range(1,7), [model_probs[1],true_probs[1]], [\"Estimated Probability\", \"True Probability\"], ax[1], xlabel=\"Roll\", ylabel=\"Probability\", title=\"Loaded Dice\")"
   ]
  },
  {
   "cell_type": "markdown",
   "id": "b28f3177-9354-454c-91b0-84efb330c076",
   "metadata": {},
   "source": [
    "When the states are accuratly estimated, we see that the emissions are also related. When this does not happen, the emissions seem to be accuratly predicted, but reversed. This is, the probabilities of the Loaded Dice are estimated for the Fair Dice, and the ones from the Fair Dice are estimated for the Loaded Dice"
   ]
  },
  {
   "cell_type": "code",
   "execution_count": 25,
   "id": "4c372b1f-260d-4573-9846-1b8782bca1d7",
   "metadata": {
    "tags": []
   },
   "outputs": [],
   "source": [
    "def steps(x,y, ax, xlabel=\"\", ylabel=\"\", title=\"\"):\n",
    "    ax.plot(x,y, drawstyle=\"steps\")\n",
    "    ax.set_xlabel(xlabel)\n",
    "    ax.set_ylabel(ylabel)\n",
    "    ax.set_title(title)"
   ]
  },
  {
   "cell_type": "code",
   "execution_count": 26,
   "id": "82a98d99-3b79-4ab1-af00-4d849c187abd",
   "metadata": {
    "tags": []
   },
   "outputs": [
    {
     "data": {
      "image/png": "[encoded data removed]",
      "text/plain": [
       "<Figure size 1200x400 with 2 Axes>"
      ]
     },
     "metadata": {},
     "output_type": "display_data"
    }
   ],
   "source": [
    "f, ax = plt.subplots(1,2, figsize=(12,4))\n",
    "\n",
    "steps(range(N), y_test, ax[0], \"Iteration\", \"Dice\", \"True Dice Series\")\n",
    "steps(range(N), remodel.predict(X_test), ax[1], \"Iteration\", \"Dice\", \"Generated Dice Series\")\n",
    "\n",
    "ax[0].set_yticks([0,1])\n",
    "ax[0].set_yticklabels([\"Fair\", \"Loaded\"]);\n",
    "\n",
    "ax[1].set_yticks([0,1])\n",
    "ax[1].set_yticklabels([\"Fair\", \"Loaded\"]);"
   ]
  },
  {
   "cell_type": "code",
   "execution_count": 27,
   "id": "e96c9b2c-0935-45e6-b3b3-b907c439a42c",
   "metadata": {
    "tags": []
   },
   "outputs": [
    {
     "data": {
      "text/plain": [
       "0.3509090909090909"
      ]
     },
     "execution_count": 27,
     "metadata": {},
     "output_type": "execute_result"
    }
   ],
   "source": [
    "(y_test.ravel() == remodel.predict(X_test)).sum() / y_test.shape[0]"
   ]
  },
  {
   "cell_type": "markdown",
   "id": "64ffcb5a-1b0b-42c3-b616-bdfa225d7005",
   "metadata": {},
   "source": [
    "Low accuracy, of 35%"
   ]
  },
  {
   "cell_type": "markdown",
   "id": "7f0617e0-a538-4903-a6a9-5c3f355a6fd5",
   "metadata": {},
   "source": [
    "#### 2. Assume all the parameters unknown, including the number of states \n",
    "(suggestion: try with the number of states from 1 to 4 and compare the resulting log-likehoods)."
   ]
  },
  {
   "cell_type": "code",
   "execution_count": 28,
   "id": "8fb00761-0c74-48f6-9fee-d060212dcb9e",
   "metadata": {
    "tags": []
   },
   "outputs": [
    {
     "name": "stdout",
     "output_type": "stream",
     "text": [
      "True\n",
      "Transition Matrices:\n",
      "[[1.]]\n",
      "\n",
      "---------------\n",
      "Emission Matrix:\n",
      "[[0.15 0.12 0.14 0.14 0.15 0.31]]\n",
      "\n",
      "###############\n",
      "###############\n",
      "\n",
      "True\n",
      "Transition Matrices:\n",
      "[[0.41 0.59]\n",
      " [0.88 0.12]]\n",
      "\n",
      "---------------\n",
      "Emission Matrix:\n",
      "[[0.18 0.18 0.2  0.08 0.15 0.22]\n",
      " [0.1  0.03 0.06 0.23 0.15 0.43]]\n",
      "\n",
      "###############\n",
      "###############\n",
      "\n",
      "True\n",
      "Transition Matrices:\n",
      "[[0.35 0.18 0.47]\n",
      " [0.96 0.03 0.01]\n",
      " [0.34 0.5  0.16]]\n",
      "\n",
      "---------------\n",
      "Emission Matrix:\n",
      "[[0.11 0.12 0.03 0.25 0.2  0.29]\n",
      " [0.29 0.2  0.2  0.01 0.01 0.28]\n",
      " [0.09 0.04 0.29 0.04 0.17 0.37]]\n",
      "\n",
      "###############\n",
      "###############\n",
      "\n",
      "True\n",
      "Transition Matrices:\n",
      "[[0.45 0.35 0.   0.2 ]\n",
      " [0.01 0.57 0.42 0.  ]\n",
      " [0.91 0.   0.   0.09]\n",
      " [0.   0.   1.   0.  ]]\n",
      "\n",
      "---------------\n",
      "Emission Matrix:\n",
      "[[0.31 0.09 0.17 0.18 0.   0.24]\n",
      " [0.01 0.27 0.1  0.17 0.02 0.43]\n",
      " [0.13 0.   0.21 0.08 0.21 0.37]\n",
      " [0.   0.03 0.   0.   0.96 0.  ]]\n",
      "\n",
      "###############\n",
      "###############\n",
      "\n"
     ]
    }
   ],
   "source": [
    "scores = []\n",
    "for i in range(1,5):\n",
    "    remodel = hmm.CategoricalHMM(n_components=i, n_iter=10000000, init_params=\"mtec\")\n",
    "    remodel.n_features=6\n",
    "    remodel.startprob_ = np.array([1.0]+[0]*(i-1))\n",
    "    remodel.fit(X_train)\n",
    "    print(remodel.monitor_.converged)\n",
    "    \n",
    "    scores.append(remodel.score(X_test))\n",
    "    \n",
    "    print(\"Transition Matrices:\")\n",
    "    print(np.round(remodel.transmat_,2))\n",
    "    \n",
    "    print()\n",
    "    print(\"-\"*15)\n",
    "    \n",
    "    print(\"Emission Matrix:\")\n",
    "    print(np.round(remodel.emissionprob_, 2))\n",
    "    \n",
    "    print()\n",
    "    print(\"#\"*15)\n",
    "    print(\"#\"*15+\"\\n\")"
   ]
  },
  {
   "cell_type": "code",
   "execution_count": 29,
   "id": "30cce99b-bce5-4427-8356-9eb1a8593164",
   "metadata": {
    "tags": []
   },
   "outputs": [
    {
     "data": {
      "text/plain": [
       "[-969.3308570167918,\n",
       " -969.7196938676874,\n",
       " -972.6394721279129,\n",
       " -984.3701256360328]"
      ]
     },
     "execution_count": 29,
     "metadata": {},
     "output_type": "execute_result"
    }
   ],
   "source": [
    "scores"
   ]
  },
  {
   "cell_type": "markdown",
   "id": "f49a62b3-20fb-4ae6-8d7c-2306d2911182",
   "metadata": {},
   "source": [
    "The model with the highest score was not always the one with 2 components. <br>\n",
    "\n",
    "Besides that, the scores were all relatively close with each other."
   ]
  },
  {
   "cell_type": "markdown",
   "id": "093705d0-f8dc-4d68-9522-471c7d4206f7",
   "metadata": {},
   "source": [
    "### d) Generate 30000 samples from the model of question a). Repeat question c) using this new dataset. \n",
    "(Note: you don’t need to visualize the dice states.)"
   ]
  },
  {
   "cell_type": "code",
   "execution_count": 30,
   "id": "f938103e-6dbf-4bdb-8ae7-b4200ff58938",
   "metadata": {
    "tags": []
   },
   "outputs": [],
   "source": [
    "new_X, new_y = model.sample(30000)"
   ]
  },
  {
   "cell_type": "markdown",
   "id": "508e5350-3999-4b06-8114-2ae78806f377",
   "metadata": {},
   "source": [
    "- #### Repeat question c)"
   ]
  },
  {
   "cell_type": "code",
   "execution_count": 31,
   "id": "df4cd497-302d-40bd-9cba-b05062e3da20",
   "metadata": {
    "tags": []
   },
   "outputs": [],
   "source": [
    "N = new_X.shape[0]//2"
   ]
  },
  {
   "cell_type": "code",
   "execution_count": 32,
   "id": "53f34e7e-544a-4625-8741-36523fcb1a61",
   "metadata": {
    "tags": []
   },
   "outputs": [],
   "source": [
    "X_train, X_test, y_train, y_test = train_test_split((new_X, new_y), N)"
   ]
  },
  {
   "cell_type": "markdown",
   "id": "3c208e13-d6dd-443d-9a29-29ba4132d2f0",
   "metadata": {},
   "source": [
    "#### 1. With transition and emission matrices unknown"
   ]
  },
  {
   "cell_type": "code",
   "execution_count": 53,
   "id": "0274522f-e1ab-4670-9a1e-9deac9ad042f",
   "metadata": {
    "tags": []
   },
   "outputs": [
    {
     "data": {
      "text/plain": [
       "True"
      ]
     },
     "execution_count": 53,
     "metadata": {},
     "output_type": "execute_result"
    }
   ],
   "source": [
    "remodel = hmm.CategoricalHMM(n_components=2, init_params=\"mctes\", n_iter=10000000)\n",
    "remodel.n_features=6\n",
    "remodel.fit(X_train)\n",
    "remodel.monitor_.converged"
   ]
  },
  {
   "cell_type": "code",
   "execution_count": 54,
   "id": "3035ccb0-6ab8-4aac-9062-668d32a9e1f3",
   "metadata": {
    "tags": []
   },
   "outputs": [
    {
     "data": {
      "text/plain": [
       "(-26155.7429818944, -26143.482330643787)"
      ]
     },
     "execution_count": 54,
     "metadata": {},
     "output_type": "execute_result"
    }
   ],
   "source": [
    "remodel.score(X_test), model.score(X_test)"
   ]
  },
  {
   "cell_type": "code",
   "execution_count": 55,
   "id": "9c2a6119-8b51-4f34-bfd9-b902a2ac4c43",
   "metadata": {
    "tags": []
   },
   "outputs": [
    {
     "data": {
      "text/plain": [
       "array([[0.95015465, 0.04984535],\n",
       "       [0.11112278, 0.88887722]])"
      ]
     },
     "execution_count": 55,
     "metadata": {},
     "output_type": "execute_result"
    }
   ],
   "source": [
    "remodel.transmat_"
   ]
  },
  {
   "cell_type": "code",
   "execution_count": 56,
   "id": "1ecdcb54-f40f-4e25-b94d-dab8b5c0b1dd",
   "metadata": {
    "tags": []
   },
   "outputs": [
    {
     "data": {
      "image/png": "[encoded data removed]",
      "text/plain": [
       "<Figure size 1200x400 with 2 Axes>"
      ]
     },
     "metadata": {},
     "output_type": "display_data"
    }
   ],
   "source": [
    "model_probs = np.round(remodel.emissionprob_, decimals=2)\n",
    "true_probs = np.round(model.emissionprob_, decimals=2)\n",
    "\n",
    "f, ax = plt.subplots(1,2, figsize=(12,4))\n",
    "\n",
    "super_bar(range(1,7), [model_probs[0],true_probs[0]], [\"Estimated Probability\", \"True Probability\"], ax[0], xlabel=\"Roll\", ylabel=\"Probability\", title=\"Fair Dice\")\n",
    "super_bar(range(1,7), [model_probs[1],true_probs[1]], [\"Estimated Probability\", \"True Probability\"], ax[1], xlabel=\"Roll\", ylabel=\"Probability\", title=\"Loaded Dice\")"
   ]
  },
  {
   "cell_type": "markdown",
   "id": "02469477-0ed9-4bbf-94a6-b9b4f2fdb2aa",
   "metadata": {},
   "source": [
    "It seems that the model converges more often to the right transition probabilities than with the \"roll.txt\" dataset. <br>\n",
    "Since the sample size is bigger it can infer the probabilities better.\n",
    "\n",
    "When the transitions probabilities are well estimated, the emission probabilities are usually accurate."
   ]
  },
  {
   "cell_type": "code",
   "execution_count": 57,
   "id": "0922a203-d07d-4acb-82da-9f4bedc08979",
   "metadata": {
    "tags": []
   },
   "outputs": [],
   "source": [
    "true_dice = dict(zip(*np.unique(y_test, return_counts=True)))"
   ]
  },
  {
   "cell_type": "code",
   "execution_count": 58,
   "id": "214e8e1a-c72a-43d1-99c1-cd3539ac3b60",
   "metadata": {
    "tags": []
   },
   "outputs": [],
   "source": [
    "estimated_dice = dict(zip(*np.unique(remodel.predict(X_test), return_counts=True)))"
   ]
  },
  {
   "cell_type": "code",
   "execution_count": 59,
   "id": "e00e85e9-e51c-473a-8bd6-8ec46fed3d93",
   "metadata": {
    "tags": []
   },
   "outputs": [
    {
     "data": {
      "text/plain": [
       "[Text(0, 0, 'Fair'), Text(1, 0, 'Loaded')]"
      ]
     },
     "execution_count": 59,
     "metadata": {},
     "output_type": "execute_result"
    },
    {
     "data": {
      "image/png": "[encoded data removed]",
      "text/plain": [
       "<Figure size 1200x400 with 2 Axes>"
      ]
     },
     "metadata": {},
     "output_type": "display_data"
    }
   ],
   "source": [
    "f, ax = plt.subplots(1,2, figsize=(12,4))\n",
    "\n",
    "bar(true_dice.keys(), true_dice.values(), ax[0], \"Dice Type\", \"Number of times in the State\", \"True Labels\")\n",
    "ax[0].set_xticks([0,1])\n",
    "ax[0].set_xticklabels([\"Fair\", \"Loaded\"])\n",
    "\n",
    "bar(estimated_dice.keys(), estimated_dice.values(), ax[1], \"Dice Type\", \"Number of times in the State\", \"Predicted Labels\")\n",
    "ax[1].set_xticks([0,1])\n",
    "ax[1].set_xticklabels([\"Fair\", \"Loaded\"])"
   ]
  },
  {
   "cell_type": "code",
   "execution_count": 60,
   "id": "b52a8bb0-6af6-490b-9198-35b2fb0345ba",
   "metadata": {
    "tags": []
   },
   "outputs": [
    {
     "data": {
      "text/plain": [
       "0.8076"
      ]
     },
     "execution_count": 60,
     "metadata": {},
     "output_type": "execute_result"
    }
   ],
   "source": [
    "(y_test==remodel.predict(X_test)).sum() / y_test.shape[0]"
   ]
  },
  {
   "cell_type": "markdown",
   "id": "1bf81b02-d737-432c-a8f1-59c57a36163e",
   "metadata": {},
   "source": [
    "It seems as the proportions of each state is similar in the validation set and in the prediction set.\n",
    "\n",
    "The accuracy is way better than with the \"rolls.txt\" dataset"
   ]
  },
  {
   "cell_type": "markdown",
   "id": "d94e36bf-6e91-4a18-a098-f164d4bd7841",
   "metadata": {},
   "source": [
    "#### 2. With all parameters unknown"
   ]
  },
  {
   "cell_type": "code",
   "execution_count": 61,
   "id": "b6af1768-d565-45e5-8c5c-327197d1e521",
   "metadata": {
    "tags": []
   },
   "outputs": [
    {
     "name": "stdout",
     "output_type": "stream",
     "text": [
      "True\n",
      "Transition Matrices:\n",
      "[[1.]]\n",
      "\n",
      "---------------\n",
      "Emission Matrix:\n",
      "[[0.14 0.14 0.15 0.14 0.15 0.28]]\n",
      "\n",
      "###############\n",
      "###############\n",
      "\n",
      "True\n",
      "Transition Matrices:\n",
      "[[0.86 0.14]\n",
      " [0.83 0.17]]\n",
      "\n",
      "---------------\n",
      "Emission Matrix:\n",
      "[[0.14 0.16 0.17 0.17 0.05 0.31]\n",
      " [0.16 0.01 0.05 0.   0.72 0.06]]\n",
      "\n",
      "###############\n",
      "###############\n",
      "\n",
      "True\n",
      "Transition Matrices:\n",
      "[[0.95 0.04 0.01]\n",
      " [0.08 0.47 0.45]\n",
      " [0.17 0.77 0.05]]\n",
      "\n",
      "---------------\n",
      "Emission Matrix:\n",
      "[[0.15 0.16 0.17 0.16 0.17 0.18]\n",
      " [0.15 0.05 0.02 0.14 0.08 0.55]\n",
      " [0.02 0.19 0.22 0.02 0.11 0.44]]\n",
      "\n",
      "###############\n",
      "###############\n",
      "\n",
      "True\n",
      "Transition Matrices:\n",
      "[[0.46 0.   0.41 0.13]\n",
      " [0.62 0.01 0.18 0.2 ]\n",
      " [0.03 0.9  0.07 0.  ]\n",
      " [0.   0.05 0.   0.95]]\n",
      "\n",
      "---------------\n",
      "Emission Matrix:\n",
      "[[0.1  0.14 0.03 0.14 0.04 0.55]\n",
      " [0.18 0.03 0.   0.12 0.12 0.55]\n",
      " [0.05 0.11 0.26 0.01 0.13 0.43]\n",
      " [0.15 0.16 0.18 0.16 0.17 0.18]]\n",
      "\n",
      "###############\n",
      "###############\n",
      "\n"
     ]
    }
   ],
   "source": [
    "scores = []\n",
    "for i in range(1,5):\n",
    "    remodel = hmm.CategoricalHMM(n_components=i, n_iter=10000000, init_params=\"mcste\")\n",
    "    remodel.n_features=6\n",
    "    #remodel.startprob_ = np.array([1.0]+[0]*(i-1))\n",
    "    remodel.fit(X_train)\n",
    "    print(remodel.monitor_.converged)\n",
    "    \n",
    "    scores.append(remodel.score(X_test))\n",
    "    \n",
    "    print(\"Transition Matrices:\")\n",
    "    print(np.round(remodel.transmat_,2))\n",
    "    \n",
    "    print()\n",
    "    print(\"-\"*15)\n",
    "    \n",
    "    print(\"Emission Matrix:\")\n",
    "    print(np.round(remodel.emissionprob_, 2))\n",
    "    \n",
    "    print()\n",
    "    print(\"#\"*15)\n",
    "    print(\"#\"*15+\"\\n\")"
   ]
  },
  {
   "cell_type": "code",
   "execution_count": 62,
   "id": "da3271d9-5c26-4e88-bddf-f1120e568482",
   "metadata": {
    "tags": []
   },
   "outputs": [
    {
     "data": {
      "text/plain": [
       "[-26346.195807969463,\n",
       " -26344.540939592516,\n",
       " -26159.441044046573,\n",
       " -26169.654697140966]"
      ]
     },
     "execution_count": 62,
     "metadata": {},
     "output_type": "execute_result"
    }
   ],
   "source": [
    "scores"
   ]
  },
  {
   "cell_type": "markdown",
   "id": "4db4fd2b-d114-4594-b41a-96a3f29da3f1",
   "metadata": {},
   "source": [
    "Likewise the model with the best score was not always the one that should be (the one with 2 components). Both the one with 3 and the one with 4 components also had decent scores"
   ]
  }
 ],
 "metadata": {
  "kernelspec": {
   "display_name": "Python 3 (ipykernel)",
   "language": "python",
   "name": "python3"
  },
  "language_info": {
   "codemirror_mode": {
    "name": "ipython",
    "version": 3
   },
   "file_extension": ".py",
   "mimetype": "text/x-python",
   "name": "python",
   "nbconvert_exporter": "python",
   "pygments_lexer": "ipython3",
   "version": "3.9.7"
  }
 },
 "nbformat": 4,
 "nbformat_minor": 5
}
