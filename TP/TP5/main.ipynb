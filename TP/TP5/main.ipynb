{
 "cells": [
  {
   "cell_type": "code",
   "execution_count": 1,
   "id": "102f5462-df70-42f4-ac74-3cf19f780e1f",
   "metadata": {},
   "outputs": [],
   "source": [
    "import numpy as np\n",
    "import pandas as pd\n",
    "import pomegranate as pg"
   ]
  },
  {
   "cell_type": "markdown",
   "id": "74839278-b212-4dd6-aa94-06daaf9dd0de",
   "metadata": {
    "tags": []
   },
   "source": [
    "## Problem 1"
   ]
  },
  {
   "cell_type": "code",
   "execution_count": 2,
   "id": "ac57a81c-61e2-4d26-91b9-a177ab5bc01d",
   "metadata": {
    "tags": []
   },
   "outputs": [],
   "source": [
    "A = pg.DiscreteDistribution({\"T\": 0.3, \"F\":0.7})\n",
    "B = pg.ConditionalProbabilityTable([\n",
    "    [\"T\", \"T\", 0.8],\n",
    "    [\"F\", \"T\", 0.4],\n",
    "    [\"T\", \"F\", 0.2],\n",
    "    [\"F\", \"F\", 0.6]\n",
    "], [A])\n",
    "C = pg.ConditionalProbabilityTable([\n",
    "    [\"T\",\"T\",\"T\",0.99],\n",
    "    [\"F\",\"T\",\"T\",0.7],\n",
    "    [\"T\",\"F\",\"T\",0.5],\n",
    "    [\"F\",\"F\",\"T\",0.1],\n",
    "    [\"T\",\"T\",\"F\",0.01],\n",
    "    [\"F\",\"T\",\"F\",0.3],\n",
    "    [\"T\",\"F\",\"F\",0.5],\n",
    "    [\"F\",\"F\",\"F\",0.9]\n",
    "], [A,B])\n",
    "D = pg.ConditionalProbabilityTable([\n",
    "    [\"T\",\"T\", 0.2],\n",
    "    [\"T\",\"F\",0.8],\n",
    "    [\"F\",\"T\",0.55],\n",
    "    [\"F\",\"F\",0.45]\n",
    "], [B])"
   ]
  },
  {
   "cell_type": "code",
   "execution_count": 3,
   "id": "357de7b1-6552-4079-a6ab-1e09d01a197f",
   "metadata": {
    "tags": []
   },
   "outputs": [],
   "source": [
    "nodeA = pg.Node(A, name=\"A\")\n",
    "nodeB = pg.Node(B, name=\"B\")\n",
    "nodeC = pg.Node(C, name=\"C\")\n",
    "nodeD = pg.Node(D, name=\"D\")"
   ]
  },
  {
   "cell_type": "code",
   "execution_count": 4,
   "id": "6d33c8c5-964f-46a4-8dca-de8b72bc7042",
   "metadata": {
    "tags": []
   },
   "outputs": [],
   "source": [
    "model = pg.BayesianNetwork(\"Problem1\")\n",
    "model.add_states(nodeA, nodeB, nodeC, nodeD)\n",
    "\n",
    "model.add_edge(nodeA, nodeB)\n",
    "model.add_edge(nodeA, nodeC)\n",
    "model.add_edge(nodeB, nodeC)\n",
    "model.add_edge(nodeB, nodeD)"
   ]
  },
  {
   "cell_type": "code",
   "execution_count": 5,
   "id": "0bc3c251-1a64-4b72-b469-e7d34bb8002d",
   "metadata": {
    "tags": []
   },
   "outputs": [],
   "source": [
    "model.bake()"
   ]
  },
  {
   "cell_type": "markdown",
   "id": "7d16c4a0-aac9-406f-b0b7-0babb6c80d0c",
   "metadata": {},
   "source": [
    "### a) $P( A=T | C = T, D = T)$"
   ]
  },
  {
   "cell_type": "code",
   "execution_count": 8,
   "id": "73372644-e09c-4130-b071-243bb8b692e6",
   "metadata": {
    "tags": []
   },
   "outputs": [
    {
     "data": {
      "text/plain": [
       "0.0007840799999999999"
      ]
     },
     "execution_count": 8,
     "metadata": {},
     "output_type": "execute_result"
    }
   ],
   "source": [
    "np.prod(\n",
    "    model.probability([\n",
    "        [\"T\", \"F\", \"T\", \"T\"],\n",
    "        [\"T\", \"T\", \"T\", \"T\"]\n",
    "    ])\n",
    ")"
   ]
  },
  {
   "cell_type": "markdown",
   "id": "64c65ef1-6b14-45e0-8ea0-bea89ce22045",
   "metadata": {},
   "source": [
    "### b) $P(A=T | D=F)$"
   ]
  },
  {
   "cell_type": "code",
   "execution_count": 9,
   "id": "d97d36ba-dd8f-4eac-8a0a-ea5bc7f2d47a",
   "metadata": {
    "tags": []
   },
   "outputs": [
    {
     "data": {
      "text/plain": [
       "6.651279360000006e-08"
      ]
     },
     "execution_count": 9,
     "metadata": {},
     "output_type": "execute_result"
    }
   ],
   "source": [
    "np.prod(\n",
    "    model.probability([\n",
    "        [\"T\", \"T\", \"T\", \"F\"],\n",
    "        [\"T\", \"F\", \"T\", \"F\"],\n",
    "        [\"T\", \"T\", \"F\", \"F\"],\n",
    "        [\"T\", \"F\", \"F\", \"F\"]\n",
    "    ])\n",
    ")"
   ]
  },
  {
   "cell_type": "markdown",
   "id": "ec6b10ec-cfab-4b92-b2be-170a96e5e1aa",
   "metadata": {},
   "source": [
    "### c) $P(B=T|C=T)$"
   ]
  },
  {
   "cell_type": "code",
   "execution_count": 10,
   "id": "93557fdb-5020-44e0-8d7e-383822b123e1",
   "metadata": {
    "tags": []
   },
   "outputs": [
    {
     "data": {
      "text/plain": [
       "5.551942769049598e-05"
      ]
     },
     "execution_count": 10,
     "metadata": {},
     "output_type": "execute_result"
    }
   ],
   "source": [
    "np.prod(\n",
    "    model.probability([\n",
    "        [\"T\", \"T\", \"T\", \"T\"],\n",
    "        [\"T\", \"T\", \"T\", \"F\"],\n",
    "        [\"F\", \"T\", \"T\", \"T\"],\n",
    "        [\"F\", \"T\", \"T\", \"F\"]\n",
    "    ])\n",
    ")"
   ]
  },
  {
   "cell_type": "markdown",
   "id": "a4d5ef51-4847-4b13-ab60-932016e78fe5",
   "metadata": {
    "tags": []
   },
   "source": [
    "### d) $P(B=T |A=T, C=T)$"
   ]
  },
  {
   "cell_type": "code",
   "execution_count": 11,
   "id": "33206059-7522-428d-8754-0e85613b17cd",
   "metadata": {
    "tags": []
   },
   "outputs": [
    {
     "data": {
      "text/plain": [
       "0.009032601600000002"
      ]
     },
     "execution_count": 11,
     "metadata": {},
     "output_type": "execute_result"
    }
   ],
   "source": [
    "np.prod(\n",
    "    model.probability([\n",
    "        [\"T\", \"T\", \"T\", \"T\"],\n",
    "        [\"T\", \"T\", \"T\", \"F\"],\n",
    "    ])\n",
    ")"
   ]
  },
  {
   "cell_type": "markdown",
   "id": "f219ed59-1fd9-43cd-a213-6359dfdd80de",
   "metadata": {},
   "source": [
    "### e) $P(C=T|A=F,B=F,D=F)$"
   ]
  },
  {
   "cell_type": "code",
   "execution_count": 12,
   "id": "effed150-caf6-4529-8ace-bcfed1f45100",
   "metadata": {
    "tags": []
   },
   "outputs": [
    {
     "data": {
      "text/plain": [
       "0.018899999999999997"
      ]
     },
     "execution_count": 12,
     "metadata": {},
     "output_type": "execute_result"
    }
   ],
   "source": [
    "model.probability([\n",
    "    [\"F\", \"F\", \"T\", \"F\"]\n",
    "])"
   ]
  },
  {
   "cell_type": "markdown",
   "id": "b7316c6d-14c2-497d-9234-8d35d3fbbe7e",
   "metadata": {
    "tags": []
   },
   "source": [
    "## Problem 2"
   ]
  },
  {
   "cell_type": "code",
   "execution_count": 13,
   "id": "7535332a-83d3-4511-b3f3-7b6da73d2adc",
   "metadata": {
    "tags": []
   },
   "outputs": [],
   "source": [
    "from sklearn.datasets import load_boston, load_iris\n",
    "from sklearn.naive_bayes import CategoricalNB, GaussianNB\n",
    "from sklearn.ensemble import RandomForestClassifier, RandomForestRegressor\n",
    "from sklearn.model_selection import GridSearchCV, train_test_split\n",
    "from sklearn.metrics import classification_report, confusion_matrix, ConfusionMatrixDisplay\n",
    "\n",
    "import numpy as np\n",
    "import pandas as pd"
   ]
  },
  {
   "cell_type": "code",
   "execution_count": 14,
   "id": "8c32b522-4ead-48fb-ab4e-34e17ed23178",
   "metadata": {
    "tags": []
   },
   "outputs": [],
   "source": [
    "X = load_iris().data\n",
    "y = load_iris().target"
   ]
  },
  {
   "cell_type": "code",
   "execution_count": 15,
   "id": "63b08e28-aa2c-4216-9156-d564bb84f808",
   "metadata": {
    "tags": []
   },
   "outputs": [],
   "source": [
    "X_train, X_unseen, y_train, y_unseen = train_test_split(X, y, test_size=0.3, random_state=220)"
   ]
  },
  {
   "cell_type": "code",
   "execution_count": 16,
   "id": "b37f5e8d-09b8-4eef-9784-6e4b0559cf7f",
   "metadata": {
    "tags": []
   },
   "outputs": [],
   "source": [
    "def get_quartiles(X, k=4):\n",
    "    qs = [[] for i in range(k)]\n",
    "    \n",
    "    for c in range(X.shape[1]):\n",
    "        for i in range(1, k+1):\n",
    "            qs[i-1].append( \n",
    "                np.quantile(X[:, c], 1/i) \n",
    "            )\n",
    "    \n",
    "    return np.array(qs)"
   ]
  },
  {
   "cell_type": "code",
   "execution_count": 17,
   "id": "42d97a2d-fa91-448d-998c-48e0ff7bcda7",
   "metadata": {
    "tags": []
   },
   "outputs": [],
   "source": [
    "def to_class(V, q):\n",
    "    idxs= []\n",
    "    for interval in zip(q[:-1], q[1:]):\n",
    "        max_, min_ = interval\n",
    "        idxs.append( \n",
    "            np.where( (V>min_) & (V<=max_) )[0]\n",
    "        )\n",
    "    idxs.append( np.where(V<=q[-1]) )\n",
    "    idxs.append( np.where(V>q[0]) )\n",
    "    \n",
    "    for i, idx in enumerate(idxs[::-1]):\n",
    "        V[idx] = i\n",
    "    return V"
   ]
  },
  {
   "cell_type": "code",
   "execution_count": 18,
   "id": "be1cbe2e-a27a-490b-9240-71f7d3a4f39a",
   "metadata": {
    "tags": []
   },
   "outputs": [],
   "source": [
    "quartiles = get_quartiles(X_train)"
   ]
  },
  {
   "cell_type": "code",
   "execution_count": 19,
   "id": "02afcb93-32e3-4151-af81-bbaad7063170",
   "metadata": {
    "tags": []
   },
   "outputs": [],
   "source": [
    "for i in range(X.shape[1]):\n",
    "    X_train[:, i] = to_class(X_train[:, i], quartiles[:, i])\n",
    "    X_unseen[:, i] = to_class(X_unseen[:, i], quartiles[:, i])"
   ]
  },
  {
   "cell_type": "markdown",
   "id": "9a711b1e-cc15-4c02-b727-3d6ecb9292e0",
   "metadata": {
    "tags": []
   },
   "source": [
    "### Naive Bayes"
   ]
  },
  {
   "cell_type": "code",
   "execution_count": 20,
   "id": "315a8642-e3b1-4925-bb30-00c1ef927274",
   "metadata": {
    "tags": []
   },
   "outputs": [],
   "source": [
    "grid = {\n",
    "    \"alpha\": [0.1, 1, 10, 25, 75],\n",
    "    \"fit_prior\": [True, False],\n",
    "    \"min_categories\": [None, 4]\n",
    "}\n",
    "\n",
    "nb = GridSearchCV(\n",
    "        CategoricalNB(),\n",
    "        param_grid=grid,\n",
    "        cv=5,\n",
    "        scoring=\"accuracy\"\n",
    ").fit(X_train, y_train)"
   ]
  },
  {
   "cell_type": "code",
   "execution_count": 21,
   "id": "295e4e6f-b57b-48ac-ae01-d4c6a7c1544a",
   "metadata": {
    "tags": []
   },
   "outputs": [
    {
     "data": {
      "text/plain": [
       "{'alpha': 1, 'fit_prior': True, 'min_categories': None}"
      ]
     },
     "execution_count": 21,
     "metadata": {},
     "output_type": "execute_result"
    }
   ],
   "source": [
    "nb.best_params_"
   ]
  },
  {
   "cell_type": "code",
   "execution_count": 22,
   "id": "7a3d58ec-29f3-4753-94c1-1c2357092d7f",
   "metadata": {
    "tags": []
   },
   "outputs": [
    {
     "data": {
      "text/plain": [
       "0.9238095238095239"
      ]
     },
     "execution_count": 22,
     "metadata": {},
     "output_type": "execute_result"
    }
   ],
   "source": [
    "nb.best_score_"
   ]
  },
  {
   "cell_type": "code",
   "execution_count": 23,
   "id": "41211805-ea6e-4211-907a-d1f458554589",
   "metadata": {
    "tags": []
   },
   "outputs": [
    {
     "name": "stdout",
     "output_type": "stream",
     "text": [
      "1.11 ms ± 60.1 µs per loop (mean ± std. dev. of 7 runs, 1,000 loops each)\n"
     ]
    }
   ],
   "source": [
    "%timeit nb = CategoricalNB().fit(X_train, y_train)"
   ]
  },
  {
   "cell_type": "code",
   "execution_count": 24,
   "id": "72bfcc6b-d6f6-4735-b0d2-234fab49ee2b",
   "metadata": {
    "tags": []
   },
   "outputs": [
    {
     "name": "stdout",
     "output_type": "stream",
     "text": [
      "105 µs ± 3.52 µs per loop (mean ± std. dev. of 7 runs, 10,000 loops each)\n"
     ]
    }
   ],
   "source": [
    "%timeit preds = nb.predict(X_unseen)"
   ]
  },
  {
   "cell_type": "code",
   "execution_count": 26,
   "id": "388f47bc-6166-4477-8b61-81259a51ea49",
   "metadata": {
    "tags": []
   },
   "outputs": [],
   "source": [
    "preds = nb.predict(X_unseen)"
   ]
  },
  {
   "cell_type": "code",
   "execution_count": 27,
   "id": "49bf68fe-82c8-4eb1-b1fc-53b9c9bf9d1c",
   "metadata": {
    "tags": []
   },
   "outputs": [
    {
     "name": "stdout",
     "output_type": "stream",
     "text": [
      "              precision    recall  f1-score   support\n",
      "\n",
      "           0       1.00      1.00      1.00        15\n",
      "           1       0.94      0.88      0.91        17\n",
      "           2       0.86      0.92      0.89        13\n",
      "\n",
      "    accuracy                           0.93        45\n",
      "   macro avg       0.93      0.94      0.93        45\n",
      "weighted avg       0.94      0.93      0.93        45\n",
      "\n"
     ]
    }
   ],
   "source": [
    "print(classification_report(y_unseen, preds))"
   ]
  },
  {
   "cell_type": "code",
   "execution_count": 28,
   "id": "d38145d4-3672-4102-9b25-ccdf99b2216b",
   "metadata": {
    "tags": []
   },
   "outputs": [
    {
     "data": {
      "text/plain": [
       "<sklearn.metrics._plot.confusion_matrix.ConfusionMatrixDisplay at 0x15467a8d280>"
      ]
     },
     "execution_count": 28,
     "metadata": {},
     "output_type": "execute_result"
    },
    {
     "data": {
      "image/png": "[encoded data removed]",
      "text/plain": [
       "<Figure size 640x480 with 2 Axes>"
      ]
     },
     "metadata": {},
     "output_type": "display_data"
    }
   ],
   "source": [
    "ConfusionMatrixDisplay(\n",
    "    confusion_matrix(y_unseen, preds)\n",
    ").plot()"
   ]
  },
  {
   "cell_type": "markdown",
   "id": "d5ec51a2-1c50-451b-9765-2b4ea56748dd",
   "metadata": {},
   "source": [
    "### Random Forest"
   ]
  },
  {
   "cell_type": "code",
   "execution_count": 29,
   "id": "2178d8b7-c36f-4070-aeee-c524915c45f6",
   "metadata": {
    "tags": []
   },
   "outputs": [],
   "source": [
    "grid={\n",
    "    \"criterion\": [\"entropy\", \"gini\"],\n",
    "    \"max_depth\": [None] + list(range(2, 20, 5)),\n",
    "    \"min_samples_leaf\": range(1, 10+1, 3)\n",
    "}\n",
    "\n",
    "rf = GridSearchCV(\n",
    "    RandomForestClassifier(),\n",
    "    param_grid=grid,\n",
    "    cv=5,\n",
    "    scoring=\"accuracy\"\n",
    ").fit(X_train, y_train)"
   ]
  },
  {
   "cell_type": "code",
   "execution_count": 30,
   "id": "4fd9ff45-34df-45e2-8527-1386d9c2f730",
   "metadata": {
    "tags": []
   },
   "outputs": [
    {
     "data": {
      "text/plain": [
       "{'criterion': 'entropy', 'max_depth': None, 'min_samples_leaf': 1}"
      ]
     },
     "execution_count": 30,
     "metadata": {},
     "output_type": "execute_result"
    }
   ],
   "source": [
    "rf.best_params_"
   ]
  },
  {
   "cell_type": "code",
   "execution_count": 31,
   "id": "c399dba3-252d-437d-8807-8fea0d1adb0f",
   "metadata": {
    "tags": []
   },
   "outputs": [
    {
     "data": {
      "text/plain": [
       "0.9333333333333333"
      ]
     },
     "execution_count": 31,
     "metadata": {},
     "output_type": "execute_result"
    }
   ],
   "source": [
    "rf.best_score_"
   ]
  },
  {
   "cell_type": "code",
   "execution_count": 32,
   "id": "34494c54-859b-4bb8-8a25-0d487cbba4b1",
   "metadata": {
    "tags": []
   },
   "outputs": [
    {
     "name": "stdout",
     "output_type": "stream",
     "text": [
      "105 ms ± 1.19 ms per loop (mean ± std. dev. of 7 runs, 10 loops each)\n"
     ]
    }
   ],
   "source": [
    "%timeit rf = RandomForestClassifier(criterion=\"entropy\", max_depth=None, min_samples_leaf=1).fit(X_train, y_train)"
   ]
  },
  {
   "cell_type": "code",
   "execution_count": 34,
   "id": "49240f3e-7df8-4663-bfd3-c1ef66895ff9",
   "metadata": {
    "tags": []
   },
   "outputs": [
    {
     "name": "stdout",
     "output_type": "stream",
     "text": [
      "9.04 ms ± 192 µs per loop (mean ± std. dev. of 7 runs, 100 loops each)\n"
     ]
    }
   ],
   "source": [
    "%timeit preds = rf.predict(X_unseen)"
   ]
  },
  {
   "cell_type": "code",
   "execution_count": 35,
   "id": "8ed0804e-d5d8-4685-9e90-9e993592b403",
   "metadata": {
    "tags": []
   },
   "outputs": [],
   "source": [
    "preds = rf.predict(X_unseen)"
   ]
  },
  {
   "cell_type": "code",
   "execution_count": 36,
   "id": "29ed3580-1de1-4ff2-a564-bfd98d017151",
   "metadata": {
    "tags": []
   },
   "outputs": [
    {
     "name": "stdout",
     "output_type": "stream",
     "text": [
      "              precision    recall  f1-score   support\n",
      "\n",
      "           0       1.00      1.00      1.00        15\n",
      "           1       0.94      0.88      0.91        17\n",
      "           2       0.86      0.92      0.89        13\n",
      "\n",
      "    accuracy                           0.93        45\n",
      "   macro avg       0.93      0.94      0.93        45\n",
      "weighted avg       0.94      0.93      0.93        45\n",
      "\n"
     ]
    }
   ],
   "source": [
    "print(classification_report(y_unseen, preds))"
   ]
  },
  {
   "cell_type": "code",
   "execution_count": 37,
   "id": "aee88dc4-8534-49ef-9246-156a748d3c7b",
   "metadata": {
    "tags": []
   },
   "outputs": [
    {
     "data": {
      "text/plain": [
       "<sklearn.metrics._plot.confusion_matrix.ConfusionMatrixDisplay at 0x154664814c0>"
      ]
     },
     "execution_count": 37,
     "metadata": {},
     "output_type": "execute_result"
    },
    {
     "data": {
      "image/png": "[encoded data removed]",
      "text/plain": [
       "<Figure size 640x480 with 2 Axes>"
      ]
     },
     "metadata": {},
     "output_type": "display_data"
    }
   ],
   "source": [
    "ConfusionMatrixDisplay(\n",
    "    confusion_matrix(y_unseen, preds)\n",
    ").plot()"
   ]
  }
 ],
 "metadata": {
  "kernelspec": {
   "display_name": "Python 3 (ipykernel)",
   "language": "python",
   "name": "python3"
  },
  "language_info": {
   "codemirror_mode": {
    "name": "ipython",
    "version": 3
   },
   "file_extension": ".py",
   "mimetype": "text/x-python",
   "name": "python",
   "nbconvert_exporter": "python",
   "pygments_lexer": "ipython3",
   "version": "3.9.7"
  }
 },
 "nbformat": 4,
 "nbformat_minor": 5
}
