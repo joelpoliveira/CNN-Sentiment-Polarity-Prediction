{
 "cells": [
  {
   "cell_type": "markdown",
   "id": "763501c7-cf31-48d2-9cba-e0c050e3b826",
   "metadata": {},
   "source": [
    "# Assignment 7\n",
    "- Joel Oliveira - fc59442\n",
    "- João Braz - fc60419"
   ]
  },
  {
   "cell_type": "code",
   "execution_count": 39,
   "id": "c498f5c8-3cb5-403d-8d0e-25bc859d76c3",
   "metadata": {
    "tags": []
   },
   "outputs": [],
   "source": [
    "import numpy as np\n",
    "import matplotlib.pyplot as plt\n",
    "from tensorflow.keras import layers, models, activations\n"
   ]
  },
  {
   "cell_type": "markdown",
   "id": "3a58b968-cd92-4e44-892b-1740a5df3147",
   "metadata": {},
   "source": [
    "## Setup Models"
   ]
  },
  {
   "cell_type": "code",
   "execution_count": 2,
   "id": "74f7dc8a-10bd-4049-ba38-1783185492fb",
   "metadata": {
    "tags": []
   },
   "outputs": [],
   "source": [
    "def create_lstm(hidden_layer_size, lag, act):\n",
    "    lstm = models.Sequential([\n",
    "        layers.InputLayer(input_shape=(lag, 1)),\n",
    "        layers.LSTM(HIDDEN_LAYER_SIZE),\n",
    "        layers.Dense(1, activation=act)\n",
    "    ])\n",
    "    return lstm"
   ]
  },
  {
   "cell_type": "code",
   "execution_count": 3,
   "id": "f950b2b4-8ece-40c4-a6f7-1f32b0cc6026",
   "metadata": {
    "tags": []
   },
   "outputs": [],
   "source": [
    "def create_ffnn(hidden_layer_size, lag, act):\n",
    "    model = models.Sequential([\n",
    "        layers.InputLayer(input_shape=(lag,1)),\n",
    "        layers.Dense(hidden_layer_size, activation=\"relu\"),\n",
    "        layers.Dense(1, act)\n",
    "    ])\n",
    "    return model"
   ]
  },
  {
   "cell_type": "markdown",
   "id": "9ca0de04-7380-4147-838f-2f60a794b939",
   "metadata": {
    "tags": []
   },
   "source": [
    "## Problem 1"
   ]
  },
  {
   "cell_type": "markdown",
   "id": "1afa72e2-f918-46e4-a3a9-dabb6aede72c",
   "metadata": {},
   "source": [
    "### Generate data"
   ]
  },
  {
   "cell_type": "code",
   "execution_count": 4,
   "id": "b1da808d-1937-47eb-a15a-93618a8b7e3b",
   "metadata": {
    "tags": []
   },
   "outputs": [],
   "source": [
    "periods=100\n",
    "samples_per_period=50\n",
    "x = np.linspace(0, 2*np.pi*periods, samples_per_period*periods)\n",
    "noise = np.random.normal(0, 0.05, size=samples_per_period*periods)"
   ]
  },
  {
   "cell_type": "code",
   "execution_count": 5,
   "id": "2528f702-0862-4772-8ae5-3facda6c92b3",
   "metadata": {
    "tags": []
   },
   "outputs": [],
   "source": [
    "data = np.sin(x)\n",
    "data_with_noise = data+noise"
   ]
  },
  {
   "cell_type": "code",
   "execution_count": 6,
   "id": "5e680a9a-9d18-4b0b-8a22-f85cd73ebb18",
   "metadata": {
    "tags": []
   },
   "outputs": [],
   "source": [
    "def get_lagged_data(data, lag):\n",
    "    return np.vstack(\n",
    "        [data[i:i+lag] for i in range(data.shape[0]-lag)]\n",
    "    )"
   ]
  },
  {
   "cell_type": "code",
   "execution_count": 7,
   "id": "c8eae04d-b7a0-4e3a-8c9f-15ac675b09ee",
   "metadata": {
    "tags": []
   },
   "outputs": [],
   "source": [
    "lag=12\n",
    "X = get_lagged_data(data, lag)\n",
    "X_noise = get_lagged_data(data_with_noise, lag)\n",
    "y = np.roll(data, -lag)[:-lag]"
   ]
  },
  {
   "cell_type": "code",
   "execution_count": 8,
   "id": "cacb26c3-66df-42d3-853c-c9ea0a907143",
   "metadata": {
    "tags": []
   },
   "outputs": [
    {
     "data": {
      "text/plain": [
       "((4988, 12), (4988,))"
      ]
     },
     "execution_count": 8,
     "metadata": {},
     "output_type": "execute_result"
    }
   ],
   "source": [
    "X.shape, y.shape"
   ]
  },
  {
   "cell_type": "code",
   "execution_count": 9,
   "id": "75b8afde-0085-4ad8-ab70-cdc3f31bf6a3",
   "metadata": {
    "tags": []
   },
   "outputs": [],
   "source": [
    "X_train_a, y_train_a = X[:2400], y[:2400]\n",
    "X_test_a, y_test_a = X[2400:2500], y[2400:2500]\n",
    "\n",
    "X_train_b, y_train_b = X[2400:4900], y[2400:4900]\n",
    "X_test_b, y_test_b = X[4900:], y[4900:]"
   ]
  },
  {
   "cell_type": "code",
   "execution_count": 10,
   "id": "5c76ae44-0cd4-430d-a48b-bb4725d08f3f",
   "metadata": {
    "tags": []
   },
   "outputs": [],
   "source": [
    "Xn_train_a = X_noise[:2400]\n",
    "Xn_test_a = X_noise[2400:2500]\n",
    "\n",
    "Xn_train_b = X_noise[2400:4900]\n",
    "Xn_test_b = X_noise[4900:]"
   ]
  },
  {
   "cell_type": "code",
   "execution_count": 11,
   "id": "90c8f97f-f8df-44fd-bee4-ec57c1f6a7f0",
   "metadata": {
    "tags": []
   },
   "outputs": [],
   "source": [
    "HIDDEN_LAYER_SIZE=12"
   ]
  },
  {
   "cell_type": "markdown",
   "id": "3246cc52-0221-4b3f-bf31-a7e058082e8d",
   "metadata": {
    "tags": []
   },
   "source": [
    "### *i )* Clean data"
   ]
  },
  {
   "cell_type": "markdown",
   "id": "05643294-33c9-4d34-9e89-b2b59271edab",
   "metadata": {
    "tags": []
   },
   "source": [
    "#### LSTM model"
   ]
  },
  {
   "cell_type": "code",
   "execution_count": 12,
   "id": "8aded323-eff9-4c5d-b998-83dab31f4d5a",
   "metadata": {
    "tags": []
   },
   "outputs": [],
   "source": [
    "lstm = create_lstm(HIDDEN_LAYER_SIZE, lag, \"tanh\")"
   ]
  },
  {
   "cell_type": "code",
   "execution_count": 13,
   "id": "f7c9e189-ab9b-4db2-87c9-10f2e063d349",
   "metadata": {
    "tags": []
   },
   "outputs": [],
   "source": [
    "lstm.compile(\"adam\", \"mse\")"
   ]
  },
  {
   "cell_type": "code",
   "execution_count": 14,
   "id": "d671041a-bad6-48fb-af96-e0cd9d174c89",
   "metadata": {
    "tags": []
   },
   "outputs": [
    {
     "name": "stdout",
     "output_type": "stream",
     "text": [
      "2400/2400 [==============================] - 18s 6ms/step - loss: 0.0520 - val_loss: 0.0025\n"
     ]
    },
    {
     "data": {
      "text/plain": [
       "<keras.callbacks.History at 0x1a185cd6730>"
      ]
     },
     "execution_count": 14,
     "metadata": {},
     "output_type": "execute_result"
    }
   ],
   "source": [
    "lstm.fit(\n",
    "    X_train_a, \n",
    "    y_train_a, \n",
    "    shuffle=False, \n",
    "    batch_size=1, \n",
    "    epochs=1, \n",
    "    validation_data=(X_test_a, y_test_a)\n",
    ")"
   ]
  },
  {
   "cell_type": "code",
   "execution_count": 15,
   "id": "876c77e8-6e69-4c00-9a07-a3d441280f4c",
   "metadata": {
    "tags": []
   },
   "outputs": [
    {
     "name": "stdout",
     "output_type": "stream",
     "text": [
      "2500/2500 [==============================] - 16s 6ms/step - loss: 0.0042 - val_loss: 0.0011\n"
     ]
    },
    {
     "data": {
      "text/plain": [
       "<keras.callbacks.History at 0x1a1ebcfb550>"
      ]
     },
     "execution_count": 15,
     "metadata": {},
     "output_type": "execute_result"
    }
   ],
   "source": [
    "lstm.fit(\n",
    "    X_train_b, \n",
    "    y_train_b, \n",
    "    shuffle=False, \n",
    "    batch_size=1, \n",
    "    epochs=1, \n",
    "    validation_data=(X_test_b, y_test_b)\n",
    ")"
   ]
  },
  {
   "cell_type": "markdown",
   "id": "19d78442-70dc-4d37-9a27-3a9167e3bc72",
   "metadata": {},
   "source": [
    "In the first training we can clearly see the *burn-in* effect. After the training is done, the validation loss is actually 10 times smaller. <br>\n",
    "In the second training this event is not so clear. Because the data is \"perfect\", without any noise, it slowly converges to 0 error, as there are no irregularities."
   ]
  },
  {
   "cell_type": "markdown",
   "id": "61e41917-15d8-48c9-8c2e-ec6f5ebe9f2b",
   "metadata": {
    "tags": []
   },
   "source": [
    "#### Time-Lagged Feedforward Network"
   ]
  },
  {
   "cell_type": "code",
   "execution_count": 20,
   "id": "69e86dbb-45b5-463e-b96a-769864974043",
   "metadata": {},
   "outputs": [],
   "source": [
    "HIDDEN_LAYER_SIZE = 20\n",
    "model = create_ffnn(HIDDEN_LAYER_SIZE, lag, \"tanh\")"
   ]
  },
  {
   "cell_type": "code",
   "execution_count": 21,
   "id": "8734d5d0-30ca-4cc0-b193-ea4bf38ce2f0",
   "metadata": {
    "tags": []
   },
   "outputs": [],
   "source": [
    "model.compile(\"adam\", \"mse\")"
   ]
  },
  {
   "cell_type": "code",
   "execution_count": 22,
   "id": "9338de0a-eaa9-43a8-8dc2-ac9ec4fb4012",
   "metadata": {
    "tags": []
   },
   "outputs": [
    {
     "name": "stdout",
     "output_type": "stream",
     "text": [
      "2400/2400 [==============================] - 9s 4ms/step - loss: 0.3290 - val_loss: 0.3076\n"
     ]
    },
    {
     "data": {
      "text/plain": [
       "<keras.callbacks.History at 0x1fc911178e0>"
      ]
     },
     "execution_count": 22,
     "metadata": {},
     "output_type": "execute_result"
    }
   ],
   "source": [
    "model.fit(\n",
    "    X_train_a, \n",
    "    y_train_a, \n",
    "    shuffle=False, \n",
    "    batch_size=1, \n",
    "    epochs=1, \n",
    "    validation_data=(X_test_a, y_test_a)\n",
    ")"
   ]
  },
  {
   "cell_type": "code",
   "execution_count": 23,
   "id": "c2e7ce41-b5d1-4ba8-8b69-28edb3d69bcf",
   "metadata": {
    "tags": []
   },
   "outputs": [
    {
     "name": "stdout",
     "output_type": "stream",
     "text": [
      "2500/2500 [==============================] - 10s 4ms/step - loss: 0.3230 - val_loss: 0.2813\n"
     ]
    },
    {
     "data": {
      "text/plain": [
       "<keras.callbacks.History at 0x1fc911a4550>"
      ]
     },
     "execution_count": 23,
     "metadata": {},
     "output_type": "execute_result"
    }
   ],
   "source": [
    "model.fit(\n",
    "    X_train_b, \n",
    "    y_train_b, \n",
    "    shuffle=False, \n",
    "    batch_size=1, \n",
    "    epochs=1, \n",
    "    validation_data=(X_test_b, y_test_b)\n",
    ")"
   ]
  },
  {
   "cell_type": "markdown",
   "id": "c94ebae5-edd8-4474-b747-abf9116eb87b",
   "metadata": {},
   "source": [
    "We can see that the *LSTM* model converged much faster than the feedforward network, and to a much lower loss value. After just one epoch the loss was almost 0. The second epoch didn't improve the model. <br>\n",
    "\n",
    "In contrast to the *LSTM* we can see a large *burn-in* effect in the second training process.\n",
    "\n",
    "[comment]: <> (On the other hand, the *time-lagged feedforward network* improved slowly in each epoch but we can see it keeps improving in the second epoch.)"
   ]
  },
  {
   "cell_type": "markdown",
   "id": "21963dca-5380-40b4-b82b-c7a05f704c5b",
   "metadata": {
    "tags": []
   },
   "source": [
    "### *ii )* Noise Data"
   ]
  },
  {
   "cell_type": "markdown",
   "id": "ffb3e0b9-0824-481b-b988-0bfe333b2f62",
   "metadata": {
    "tags": []
   },
   "source": [
    "#### LSTM model"
   ]
  },
  {
   "cell_type": "code",
   "execution_count": 16,
   "id": "c8e8ce9d-eaf6-444f-99ae-01fe623a3abe",
   "metadata": {
    "tags": []
   },
   "outputs": [],
   "source": [
    "lstm = create_lstm(HIDDEN_LAYER_SIZE, lag, \"tanh\")"
   ]
  },
  {
   "cell_type": "code",
   "execution_count": 17,
   "id": "15ca5a94-785a-4f2d-b3ff-4d1e3ee37c2c",
   "metadata": {
    "tags": []
   },
   "outputs": [],
   "source": [
    "lstm.compile(\"adam\", \"mse\")"
   ]
  },
  {
   "cell_type": "code",
   "execution_count": 18,
   "id": "7edeab01-6ee8-48a0-b5ca-4c1bbd7bf555",
   "metadata": {
    "tags": []
   },
   "outputs": [
    {
     "name": "stdout",
     "output_type": "stream",
     "text": [
      "2400/2400 [==============================] - 17s 7ms/step - loss: 0.0257 - val_loss: 0.0057\n"
     ]
    },
    {
     "data": {
      "text/plain": [
       "<keras.callbacks.History at 0x1a27ef04c10>"
      ]
     },
     "execution_count": 18,
     "metadata": {},
     "output_type": "execute_result"
    }
   ],
   "source": [
    "lstm.fit(\n",
    "    Xn_train_a, \n",
    "    y_train_a, \n",
    "    shuffle=False, \n",
    "    batch_size=1, \n",
    "    epochs=1, \n",
    "    validation_data=(Xn_test_a, y_test_a)\n",
    ")"
   ]
  },
  {
   "cell_type": "code",
   "execution_count": 19,
   "id": "762abb79-deed-481a-88ec-faed55b90468",
   "metadata": {
    "tags": []
   },
   "outputs": [
    {
     "name": "stdout",
     "output_type": "stream",
     "text": [
      "2500/2500 [==============================] - 16s 6ms/step - loss: 0.0046 - val_loss: 0.0056\n"
     ]
    },
    {
     "data": {
      "text/plain": [
       "<keras.callbacks.History at 0x1a28f5f8e20>"
      ]
     },
     "execution_count": 19,
     "metadata": {},
     "output_type": "execute_result"
    }
   ],
   "source": [
    "lstm.fit(\n",
    "    Xn_train_b, \n",
    "    y_train_b, \n",
    "    shuffle=False, \n",
    "    batch_size=1, \n",
    "    epochs=1, \n",
    "    validation_data=(Xn_test_b, y_test_b)\n",
    ")"
   ]
  },
  {
   "cell_type": "markdown",
   "id": "d3975795-e577-4303-826b-f8c9b6ccab0c",
   "metadata": {},
   "source": [
    "Similarly to the scenario without any noise, in the first training process there is a clear *burn-in* effect. The loss value also reduces by a factor of 10 from training to validation set. However, in the second training process, after the *burn-in* effect has already happened, the model stops converging, due to the *irreducible error*."
   ]
  },
  {
   "cell_type": "markdown",
   "id": "21979d45-7183-4feb-8b34-8a1e88a56c0b",
   "metadata": {
    "tags": []
   },
   "source": [
    "#### Time-lagged Feedforward network"
   ]
  },
  {
   "cell_type": "code",
   "execution_count": 24,
   "id": "a54f9368-7d37-47f4-acc1-8cb6a62917d6",
   "metadata": {
    "tags": []
   },
   "outputs": [],
   "source": [
    "HIDDEN_LAYER_SIZE = 20\n",
    "model = create_ffnn(HIDDEN_LAYER_SIZE, lag, \"tanh\")"
   ]
  },
  {
   "cell_type": "code",
   "execution_count": 26,
   "id": "b3650ff2-0a5a-4d29-98f8-1f7cc0da00c5",
   "metadata": {
    "tags": []
   },
   "outputs": [],
   "source": [
    "model.compile(\"adam\", \"mse\")"
   ]
  },
  {
   "cell_type": "code",
   "execution_count": 27,
   "id": "1a1f7a62-9b53-480a-b773-80154f12f114",
   "metadata": {
    "tags": []
   },
   "outputs": [
    {
     "name": "stdout",
     "output_type": "stream",
     "text": [
      "2400/2400 [==============================] - 9s 4ms/step - loss: 0.3538 - val_loss: 0.3163\n"
     ]
    },
    {
     "data": {
      "text/plain": [
       "<keras.callbacks.History at 0x1fc91c86b20>"
      ]
     },
     "execution_count": 27,
     "metadata": {},
     "output_type": "execute_result"
    }
   ],
   "source": [
    "model.fit(\n",
    "    Xn_train_a, \n",
    "    y_train_a, \n",
    "    shuffle=False, \n",
    "    batch_size=1, \n",
    "    epochs=1, \n",
    "    validation_data=(Xn_test_a, y_test_a)\n",
    ")"
   ]
  },
  {
   "cell_type": "code",
   "execution_count": 28,
   "id": "0a90b35c-3d94-439e-83b0-7e90bc19b660",
   "metadata": {
    "tags": []
   },
   "outputs": [
    {
     "name": "stdout",
     "output_type": "stream",
     "text": [
      "2500/2500 [==============================] - 9s 4ms/step - loss: 0.3228 - val_loss: 0.2790\n"
     ]
    },
    {
     "data": {
      "text/plain": [
       "<keras.callbacks.History at 0x1fc9147da00>"
      ]
     },
     "execution_count": 28,
     "metadata": {},
     "output_type": "execute_result"
    }
   ],
   "source": [
    "model.fit(\n",
    "    Xn_train_b, \n",
    "    y_train_b, \n",
    "    shuffle=False, \n",
    "    batch_size=1, \n",
    "    epochs=1, \n",
    "    validation_data=(Xn_test_b, y_test_b)\n",
    ")"
   ]
  },
  {
   "cell_type": "markdown",
   "id": "7936c31e-deb2-4e6c-a83a-d16efbf33d7d",
   "metadata": {},
   "source": [
    "Since the *feedforward network* did not converge as much as the *LSTM* model the results are similar to the scenario were there is no noise. The irreducible error only manifests when the model converges to 0."
   ]
  },
  {
   "cell_type": "markdown",
   "id": "cdbb320e-77d6-4c71-a214-2781dc5af6ca",
   "metadata": {
    "tags": []
   },
   "source": [
    "## Problem 2"
   ]
  },
  {
   "cell_type": "markdown",
   "id": "c6e72525-5e46-4778-b93c-b7e9ccbee866",
   "metadata": {
    "tags": []
   },
   "source": [
    "### Generate Data"
   ]
  },
  {
   "cell_type": "code",
   "execution_count": 29,
   "id": "b1f8eb27-f64e-4f6f-8129-991b0cbe47f8",
   "metadata": {
    "tags": []
   },
   "outputs": [],
   "source": [
    "def generate_data(\n",
    "    N:int, \n",
    "    starting_points:list,\n",
    "):\n",
    "    α_1, α_2, α_3 = .6, -.54, -.44\n",
    "    noise = np.random.normal(0, 0.01, N-len(starting_points))\n",
    "    \n",
    "    data = starting_points.copy()\n",
    "    for i in range(N - len(starting_points)):\n",
    "        data.append(\n",
    "            (α_1 * data[-1]) + (α_2 * data[-2]) + (α_3 * data[-3]) + noise[i]\n",
    "        )\n",
    "    return np.array(data)"
   ]
  },
  {
   "cell_type": "code",
   "execution_count": 30,
   "id": "4b565269-3ec5-47ab-8b88-9d840424db21",
   "metadata": {
    "tags": []
   },
   "outputs": [],
   "source": [
    "data = generate_data(5000, [5, 6, 3])"
   ]
  },
  {
   "cell_type": "code",
   "execution_count": 31,
   "id": "4a471e2c-fc34-4105-b482-8ddffc56e588",
   "metadata": {
    "tags": []
   },
   "outputs": [],
   "source": [
    "lag=12\n",
    "X = get_lagged_data(data, lag)\n",
    "y = np.roll(data, -lag)[:-lag]"
   ]
  },
  {
   "cell_type": "code",
   "execution_count": 32,
   "id": "26bf0b36-d5d8-416d-a9b8-170e762f22b0",
   "metadata": {
    "tags": []
   },
   "outputs": [
    {
     "data": {
      "text/plain": [
       "((4988, 12), (4988,))"
      ]
     },
     "execution_count": 32,
     "metadata": {},
     "output_type": "execute_result"
    }
   ],
   "source": [
    "X.shape, y.shape"
   ]
  },
  {
   "cell_type": "code",
   "execution_count": 33,
   "id": "ee6f38b6-1fd2-4336-81ef-21a66841e9eb",
   "metadata": {
    "tags": []
   },
   "outputs": [],
   "source": [
    "X_train_a, y_train_a = X[:2400], y[:2400]\n",
    "X_test_a, y_test_a = X[2400:2500], y[2400:2500]\n",
    "\n",
    "X_train_b, y_train_b = X[2400:4900], y[2400:4900]\n",
    "X_test_b, y_test_b = X[4900:], y[4900:]"
   ]
  },
  {
   "cell_type": "code",
   "execution_count": 34,
   "id": "3e839cbc-dec1-4ca0-8d3e-b41018ad0512",
   "metadata": {
    "tags": []
   },
   "outputs": [
    {
     "data": {
      "image/png": "[encoded data removed]",
      "text/plain": [
       "<Figure size 640x480 with 1 Axes>"
      ]
     },
     "metadata": {},
     "output_type": "display_data"
    }
   ],
   "source": [
    "plt.plot(data);"
   ]
  },
  {
   "cell_type": "markdown",
   "id": "682adb0f-a5ec-40fc-9bc3-cde41d751c15",
   "metadata": {
    "tags": []
   },
   "source": [
    "### LSTM"
   ]
  },
  {
   "cell_type": "code",
   "execution_count": 35,
   "id": "61c24e1f-8f08-47ef-978f-408af54bb81d",
   "metadata": {
    "tags": []
   },
   "outputs": [],
   "source": [
    "HIDDEN_LAYER_SIZE=12"
   ]
  },
  {
   "cell_type": "code",
   "execution_count": 47,
   "id": "0e63c796-0b23-4e33-8818-4a972be3c29d",
   "metadata": {
    "tags": []
   },
   "outputs": [],
   "source": [
    "lstm = create_lstm(HIDDEN_LAYER_SIZE, lag, \"linear\")\n",
    "lstm.compile(\"adam\", \"mse\")"
   ]
  },
  {
   "cell_type": "code",
   "execution_count": 48,
   "id": "400a3483-dde5-4332-af10-969ae6f79b7b",
   "metadata": {},
   "outputs": [
    {
     "name": "stdout",
     "output_type": "stream",
     "text": [
      "2400/2400 [==============================] - 17s 6ms/step - loss: 2.5973 - val_loss: 3.7245e-04\n"
     ]
    },
    {
     "data": {
      "text/plain": [
       "<keras.callbacks.History at 0x1fc91449f70>"
      ]
     },
     "execution_count": 48,
     "metadata": {},
     "output_type": "execute_result"
    }
   ],
   "source": [
    "lstm.fit(\n",
    "    X_train_a,\n",
    "    y_train_a,\n",
    "    batch_size=1,\n",
    "    shuffle=False,\n",
    "    epochs=1,\n",
    "    validation_data=(X_test_a, y_test_a)\n",
    ")"
   ]
  },
  {
   "cell_type": "code",
   "execution_count": 49,
   "id": "c651d058-5261-4df9-935d-a761bc155c44",
   "metadata": {
    "tags": []
   },
   "outputs": [
    {
     "name": "stdout",
     "output_type": "stream",
     "text": [
      "2500/2500 [==============================] - 15s 6ms/step - loss: 3.9259e-04 - val_loss: 9.1912e-04\n"
     ]
    },
    {
     "data": {
      "text/plain": [
       "<keras.callbacks.History at 0x1fc9146abb0>"
      ]
     },
     "execution_count": 49,
     "metadata": {},
     "output_type": "execute_result"
    }
   ],
   "source": [
    "lstm.fit(\n",
    "    X_train_b,\n",
    "    y_train_b,\n",
    "    batch_size=1,\n",
    "    shuffle=False,\n",
    "    epochs=1,\n",
    "    validation_data=(X_test_b, y_test_b)\n",
    ")"
   ]
  },
  {
   "cell_type": "markdown",
   "id": "7d0fa38d-3ddb-4f3a-b46d-56d3b976e747",
   "metadata": {},
   "source": [
    "We can see by the previous plot that the values of the time-series range from around [-6, 6]. Due to this, orignally using the *tanh* activation function the model was never converging, since it couldn't reproduce the outputs. Hyperbolic tangent ranges from [-1,1].\n",
    "\n",
    "After changing the activation function to linear, we can see that the LSTM has a huge *burn-in* effect, just like in the sine series. <br>\n",
    "The second training process also improves the loss from training to validation set, but, like before it is never 0, as the noise introduced creates the irreducible error."
   ]
  },
  {
   "cell_type": "markdown",
   "id": "e8b12a04-9fc7-43b7-bf48-b9c27941914d",
   "metadata": {},
   "source": [
    "## Time-lagged Feedforward Network"
   ]
  },
  {
   "cell_type": "code",
   "execution_count": 50,
   "id": "89abf817-8379-4869-9855-bd4df9015813",
   "metadata": {
    "tags": []
   },
   "outputs": [],
   "source": [
    "model = create_ffnn(HIDDEN_LAYER_SIZE, lag, \"linear\")\n",
    "model.compile(\"adam\", \"mse\")"
   ]
  },
  {
   "cell_type": "code",
   "execution_count": 51,
   "id": "dfcc12d5-e858-4000-98ed-5a5eb0d8ab25",
   "metadata": {
    "tags": []
   },
   "outputs": [
    {
     "name": "stdout",
     "output_type": "stream",
     "text": [
      "2400/2400 [==============================] - 10s 4ms/step - loss: 5.8829 - val_loss: 0.6707\n"
     ]
    },
    {
     "data": {
      "text/plain": [
       "<keras.callbacks.History at 0x1fcb2f2a430>"
      ]
     },
     "execution_count": 51,
     "metadata": {},
     "output_type": "execute_result"
    }
   ],
   "source": [
    "model.fit(\n",
    "    X_train_a,\n",
    "    y_train_a,\n",
    "    batch_size=1,\n",
    "    shuffle=False,\n",
    "    epochs=1,\n",
    "    validation_data=(X_test_a, y_test_a)\n",
    ")"
   ]
  },
  {
   "cell_type": "code",
   "execution_count": 52,
   "id": "4218436c-2663-42e7-9dec-2fb89230a9b7",
   "metadata": {
    "tags": []
   },
   "outputs": [
    {
     "name": "stdout",
     "output_type": "stream",
     "text": [
      "2500/2500 [==============================] - 9s 4ms/step - loss: 0.2277 - val_loss: 0.0637\n"
     ]
    },
    {
     "data": {
      "text/plain": [
       "<keras.callbacks.History at 0x1fcb31d4790>"
      ]
     },
     "execution_count": 52,
     "metadata": {},
     "output_type": "execute_result"
    }
   ],
   "source": [
    "model.fit(\n",
    "    X_train_b,\n",
    "    y_train_b,\n",
    "    batch_size=1,\n",
    "    shuffle=False,\n",
    "    epochs=1,\n",
    "    validation_data=(X_test_b, y_test_b)\n",
    ")"
   ]
  },
  {
   "cell_type": "markdown",
   "id": "1dbeb070-fa85-4101-80a4-261ac6bae536",
   "metadata": {},
   "source": [
    "The feed forward network, like before, has a much slower convergence speed, compared to the LSTM. This is because the LSTM architecture is optimized to 'remember' long term information that aids to the predictive task."
   ]
  }
 ],
 "metadata": {
  "kernelspec": {
   "display_name": "Python 3 (ipykernel)",
   "language": "python",
   "name": "python3"
  },
  "language_info": {
   "codemirror_mode": {
    "name": "ipython",
    "version": 3
   },
   "file_extension": ".py",
   "mimetype": "text/x-python",
   "name": "python",
   "nbconvert_exporter": "python",
   "pygments_lexer": "ipython3",
   "version": "3.9.7"
  }
 },
 "nbformat": 4,
 "nbformat_minor": 5
}
