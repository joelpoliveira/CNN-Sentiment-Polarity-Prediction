{
 "cells": [
  {
   "cell_type": "code",
   "execution_count": 1,
   "id": "0359b460-1363-46f7-adc2-2969a26dfe98",
   "metadata": {
    "tags": []
   },
   "outputs": [],
   "source": [
    "from sklearn.datasets import load_breast_cancer\n",
    "from sklearn.linear_model import LogisticRegression\n",
    "from sklearn.tree import DecisionTreeClassifier\n",
    "from sklearn.ensemble import AdaBoostClassifier\n",
    "from sklearn.model_selection import train_test_split\n",
    "from sklearn.metrics import accuracy_score, classification_report, confusion_matrix, ConfusionMatrixDisplay\n",
    "from sklearn.preprocessing import MinMaxScaler\n",
    "\n",
    "import numpy as np"
   ]
  },
  {
   "cell_type": "markdown",
   "id": "54730007-89a7-47ea-8ebf-6954add05df0",
   "metadata": {},
   "source": [
    "## Problem 1\n",
    "\n"
   ]
  },
  {
   "cell_type": "code",
   "execution_count": 18,
   "id": "0d8e757a-441f-4e13-97bc-b17739119cd2",
   "metadata": {
    "tags": []
   },
   "outputs": [],
   "source": [
    "X = load_breast_cancer().data\n",
    "y = load_breast_cancer().target"
   ]
  },
  {
   "cell_type": "code",
   "execution_count": 31,
   "id": "1a733bc4-9c5e-4396-9dbc-ae5cea59c5af",
   "metadata": {
    "tags": []
   },
   "outputs": [
    {
     "data": {
      "text/plain": [
       "False"
      ]
     },
     "execution_count": 31,
     "metadata": {},
     "output_type": "execute_result"
    }
   ],
   "source": [
    "np.any(np.isnan(X))"
   ]
  },
  {
   "cell_type": "code",
   "execution_count": 23,
   "id": "7c106e18-c792-4183-bd52-52ee8d4c037f",
   "metadata": {
    "tags": []
   },
   "outputs": [],
   "source": [
    "X_train, X_test, y_train, y_test = train_test_split(X, y, test_size=0.2, random_state=22)"
   ]
  },
  {
   "cell_type": "code",
   "execution_count": 36,
   "id": "a1f4804a-aeed-496e-aa64-3637b1fc2209",
   "metadata": {
    "tags": []
   },
   "outputs": [],
   "source": [
    "scaler = MinMaxScaler().fit(X_train)"
   ]
  },
  {
   "cell_type": "markdown",
   "id": "70a0d49b-7e45-4c16-a5ca-ab441450b636",
   "metadata": {
    "tags": []
   },
   "source": [
    "> a) use a regression model to classify (logistic regression) and record the accuracy."
   ]
  },
  {
   "cell_type": "code",
   "execution_count": 37,
   "id": "e4b458bb-7371-42b4-acdb-979ff47850f6",
   "metadata": {
    "tags": []
   },
   "outputs": [
    {
     "name": "stdout",
     "output_type": "stream",
     "text": [
      "0.9736842105263158\n"
     ]
    }
   ],
   "source": [
    "logit = LogisticRegression(max_iter=999999).fit(scaler.transform(X_train), y_train)\n",
    "preds = logit.predict(scaler.transform(X_test))\n",
    "\n",
    "print(accuracy_score(y_test, preds))"
   ]
  },
  {
   "cell_type": "markdown",
   "id": "294fadc6-5060-4c4d-9114-03473d71563e",
   "metadata": {},
   "source": [
    "> b) use AdaBoost with 7 logistic regression base learner experts and compare results."
   ]
  },
  {
   "cell_type": "code",
   "execution_count": 38,
   "id": "01b1a3e8-5913-4047-835b-eac4009ee85e",
   "metadata": {
    "tags": []
   },
   "outputs": [
    {
     "name": "stdout",
     "output_type": "stream",
     "text": [
      "0.868421052631579\n"
     ]
    }
   ],
   "source": [
    "adaboost = AdaBoostClassifier(\n",
    "                base_estimator=LogisticRegression(max_iter=999999),\n",
    "                n_estimators=7).fit(scaler.transform(X_train), y_train)\n",
    "preds = adaboost.predict(scaler.transform(X_test))\n",
    "\n",
    "print(accuracy_score(y_test, preds))"
   ]
  },
  {
   "cell_type": "markdown",
   "id": "b98d8bbc-0993-42dc-b898-5944867f8941",
   "metadata": {},
   "source": [
    "> c) compare with other numbers of experts (ex. 3, 10)"
   ]
  },
  {
   "cell_type": "code",
   "execution_count": 39,
   "id": "3b5c6d60-5097-4738-b80c-29c957b89a2a",
   "metadata": {
    "tags": []
   },
   "outputs": [
    {
     "name": "stdout",
     "output_type": "stream",
     "text": [
      "Accuracy with 2 estimatros = 0.6666666666666666\n",
      "Accuracy with 4 estimatros = 0.7894736842105263\n",
      "Accuracy with 6 estimatros = 0.8596491228070176\n",
      "Accuracy with 8 estimatros = 0.9035087719298246\n",
      "Accuracy with 10 estimatros = 0.9122807017543859\n",
      "Accuracy with 12 estimatros = 0.9298245614035088\n",
      "Accuracy with 14 estimatros = 0.9385964912280702\n",
      "Accuracy with 16 estimatros = 0.9385964912280702\n",
      "Accuracy with 18 estimatros = 0.956140350877193\n",
      "Accuracy with 20 estimatros = 0.9736842105263158\n",
      "Accuracy with 22 estimatros = 0.9736842105263158\n",
      "Accuracy with 24 estimatros = 0.9736842105263158\n",
      "Accuracy with 26 estimatros = 0.9736842105263158\n",
      "Accuracy with 28 estimatros = 0.9736842105263158\n"
     ]
    }
   ],
   "source": [
    "n_estimators = range(2, 30, 2)\n",
    "for n in n_estimators:\n",
    "    adaboost = AdaBoostClassifier(\n",
    "                base_estimator=LogisticRegression(max_iter=999999),\n",
    "                n_estimators=n).fit(scaler.transform(X_train), y_train)\n",
    "    preds = adaboost.predict(scaler.transform(X_test))\n",
    "\n",
    "    print(f\"Accuracy with {n} estimatros = {accuracy_score(y_test, preds)}\")"
   ]
  },
  {
   "cell_type": "markdown",
   "id": "137fa796-a1da-4cbc-8314-c52c659e0c79",
   "metadata": {},
   "source": [
    "> repeat a, b and c with decision tree base learner experts. Suggestion: try to use different\n",
    "number of experts, e.g. 15, 17, 20, 23, and so on."
   ]
  },
  {
   "cell_type": "code",
   "execution_count": 40,
   "id": "223d6611-79af-4e70-ac66-d8f54fe815e4",
   "metadata": {
    "tags": []
   },
   "outputs": [
    {
     "name": "stdout",
     "output_type": "stream",
     "text": [
      "0.9210526315789473\n"
     ]
    }
   ],
   "source": [
    "dtc = DecisionTreeClassifier().fit(scaler.transform(X_train), y_train)\n",
    "preds = dtc.predict(scaler.transform(X_test))\n",
    "\n",
    "print(accuracy_score(y_test, preds))"
   ]
  },
  {
   "cell_type": "code",
   "execution_count": 41,
   "id": "e75b53e5-e329-4a57-9018-33cb400def9e",
   "metadata": {
    "tags": []
   },
   "outputs": [
    {
     "name": "stdout",
     "output_type": "stream",
     "text": [
      "0.9298245614035088\n"
     ]
    }
   ],
   "source": [
    "adaboost = AdaBoostClassifier(\n",
    "                base_estimator=DecisionTreeClassifier(),\n",
    "                n_estimators=7).fit(scaler.transform(X_train), y_train)\n",
    "preds = adaboost.predict(scaler.transform(X_test))\n",
    "\n",
    "print(accuracy_score(y_test, preds))"
   ]
  },
  {
   "cell_type": "code",
   "execution_count": 42,
   "id": "03c7187d-f958-4f16-907d-4e79fa3f25be",
   "metadata": {
    "tags": []
   },
   "outputs": [
    {
     "name": "stdout",
     "output_type": "stream",
     "text": [
      "Accuracy with 2 estimatros = 0.9385964912280702\n",
      "Accuracy with 4 estimatros = 0.9385964912280702\n",
      "Accuracy with 6 estimatros = 0.9385964912280702\n",
      "Accuracy with 8 estimatros = 0.9385964912280702\n",
      "Accuracy with 10 estimatros = 0.9385964912280702\n",
      "Accuracy with 12 estimatros = 0.9385964912280702\n",
      "Accuracy with 14 estimatros = 0.9385964912280702\n",
      "Accuracy with 16 estimatros = 0.9298245614035088\n",
      "Accuracy with 18 estimatros = 0.9385964912280702\n",
      "Accuracy with 20 estimatros = 0.9298245614035088\n",
      "Accuracy with 22 estimatros = 0.9298245614035088\n",
      "Accuracy with 24 estimatros = 0.9385964912280702\n",
      "Accuracy with 26 estimatros = 0.9298245614035088\n",
      "Accuracy with 28 estimatros = 0.9385964912280702\n"
     ]
    }
   ],
   "source": [
    "n_estimators = range(2, 30, 2)\n",
    "for n in n_estimators:\n",
    "    adaboost = AdaBoostClassifier(\n",
    "                base_estimator=DecisionTreeClassifier(),\n",
    "                n_estimators=n).fit(scaler.transform(X_train), y_train)\n",
    "    preds = adaboost.predict(scaler.transform(X_test))\n",
    "\n",
    "    print(f\"Accuracy with {n} estimatros = {accuracy_score(y_test, preds)}\")"
   ]
  },
  {
   "cell_type": "markdown",
   "id": "f56a0f03-3387-475f-99c8-1f6481e8d1b4",
   "metadata": {},
   "source": [
    "## Problem 2"
   ]
  },
  {
   "cell_type": "code",
   "execution_count": 115,
   "id": "58801414-3f45-4732-bc62-2313818f09d2",
   "metadata": {
    "tags": []
   },
   "outputs": [],
   "source": [
    "import numpy as np\n",
    "\n",
    "from sklearn.model_selection import cross_val_score, GridSearchCV\n",
    "from sklearn.datasets import load_breast_cancer\n",
    "from sklearn.svm import SVC\n",
    "from sklearn.naive_bayes import GaussianNB\n",
    "from sklearn.preprocessing import MinMaxScaler, StandardScaler"
   ]
  },
  {
   "cell_type": "code",
   "execution_count": 98,
   "id": "c8caff36-da82-4103-b4f9-bf606ce61b6f",
   "metadata": {
    "tags": []
   },
   "outputs": [],
   "source": [
    "X = load_breast_cancer().data\n",
    "y = load_breast_cancer().target"
   ]
  },
  {
   "cell_type": "code",
   "execution_count": 99,
   "id": "8bbc9661-72ac-4e2e-930c-7250165f700c",
   "metadata": {
    "tags": []
   },
   "outputs": [
    {
     "data": {
      "text/plain": [
       "(569, 30)"
      ]
     },
     "execution_count": 99,
     "metadata": {},
     "output_type": "execute_result"
    }
   ],
   "source": [
    "X.shape"
   ]
  },
  {
   "cell_type": "code",
   "execution_count": 133,
   "id": "20ceaf02-f9fb-4454-bd8b-5e3950e6f90c",
   "metadata": {
    "tags": []
   },
   "outputs": [],
   "source": [
    "X, X_unseen, y, y_unseen = train_test_split(X, y, test_size=0.1, random_state=0)"
   ]
  },
  {
   "cell_type": "code",
   "execution_count": 134,
   "id": "2597fc56-caef-45fa-9167-a9cc339b1ec5",
   "metadata": {
    "tags": []
   },
   "outputs": [],
   "source": [
    "#X_train, X_test, y_train, y_test = train_test_split(X, y, test_size=0.2, random_state=40)"
   ]
  },
  {
   "cell_type": "code",
   "execution_count": 135,
   "id": "d3657221-2625-4a5e-85f9-13fabb34cd93",
   "metadata": {
    "tags": []
   },
   "outputs": [],
   "source": [
    "scaler = MinMaxScaler().fit(X)"
   ]
  },
  {
   "cell_type": "code",
   "execution_count": 136,
   "id": "a1945a4a-2ac8-4fa5-8e6b-fc44af9f6b13",
   "metadata": {
    "tags": []
   },
   "outputs": [],
   "source": [
    "X_scaled = scaler.transform(X)"
   ]
  },
  {
   "cell_type": "code",
   "execution_count": 137,
   "id": "406eff7f-088c-48c9-8a95-8b13a6b6ef4c",
   "metadata": {
    "tags": []
   },
   "outputs": [],
   "source": [
    "class EnsembleAverage:\n",
    "    def __init__(self, \n",
    "                experts: list,\n",
    "                scaler=MinMaxScaler()\n",
    "    ):\n",
    "        self.n_models = len(experts)\n",
    "        self.experts = experts\n",
    "        self.weights = np.zeros(self.n_models)\n",
    "        self.scaler=scaler\n",
    "    \n",
    "    def fit(self, X, y, shuffle=False) -> EnsembleAverage:\n",
    "        for i in range(self.n_models):\n",
    "            score = self.cv_score(\n",
    "                self.experts[i], \n",
    "                X, \n",
    "                y, \n",
    "                cv=5,\n",
    "                shuffle=shuffle\n",
    "            ).mean()\n",
    "            self.weights[i] = score\n",
    "            model = self.experts[i].fit(\n",
    "                self.scaler.fit_transform(X),\n",
    "                y\n",
    "            )\n",
    "        self.scaler.fit(X)\n",
    "        return self\n",
    "        \n",
    "        \n",
    "    def predict(self, X) -> list:\n",
    "        X_scaled = self.scaler.transform(X)\n",
    "        preds = np.array([ model.predict(X_scaled) for model in self.experts])\n",
    "        pred = np.round( self.get_gate() @ preds )\n",
    "        return pred\n",
    "    \n",
    "    \n",
    "    def get_params(self, deep) -> dict:\n",
    "        return {\n",
    "            \"experts\" : self.experts,\n",
    "            \"scaler\": self.scaler\n",
    "        }\n",
    "    \n",
    "    \n",
    "    def __softmax(self, W):\n",
    "        return np.exp(W) / np.exp(W).sum()\n",
    "    \n",
    "    \n",
    "    def get_gate(self):\n",
    "        return self.__softmax(self.weights)\n",
    "    \n",
    "    \n",
    "    def cv_score(self, model, X, y, cv=5, shuffle=False):\n",
    "        N = np.ceil(X.shape[0] / cv).astype(int)\n",
    "        \n",
    "        if shuffle:\n",
    "            idx_shuffled = list(range(X.shape[0]))\n",
    "            np.random.shuffle(idx_shuffled)\n",
    "            X = X[idx_shuffled]\n",
    "            y = y[idx_shuffled]\n",
    "        \n",
    "        cv_results = []\n",
    "        for i in range(cv):            \n",
    "            train_idx_left = slice( max(0, (i-1) )*N, i*N )\n",
    "            train_idx_rigth = slice( (i+1)*N, None )\n",
    "            test_idx = slice(i*N, (i+1)*N)\n",
    "            \n",
    "            \n",
    "            x_train_left, y_train_left = X[ train_idx_left], y[train_idx_left ]\n",
    "            x_train_rigth, y_train_rigth = X[ train_idx_rigth ], y[train_idx_rigth ]\n",
    "            \n",
    "            x_train = np.concatenate((x_train_left, x_train_rigth))\n",
    "            y_train = np.concatenate((y_train_left, y_train_rigth))\n",
    "            x_test, y_test = X[ test_idx ], y[test_idx]\n",
    "            \n",
    "            self.scaler.fit(x_train)\n",
    "            x_train_scaled = self.scaler.transform(x_train)\n",
    "            x_test_scaled = self.scaler.transform(x_test)\n",
    "            \n",
    "            model.fit(x_train_scaled, y_train)\n",
    "            cv_results.append( \n",
    "                accuracy_score( \n",
    "                    y_test, \n",
    "                    model.predict(x_test_scaled) \n",
    "                ) \n",
    "            )\n",
    "            \n",
    "        return np.array(cv_results)\n",
    "            \n",
    "                 "
   ]
  },
  {
   "cell_type": "code",
   "execution_count": 138,
   "id": "d5ac6bb4-cd6a-4dd6-9fe4-0e715aae3bac",
   "metadata": {
    "tags": []
   },
   "outputs": [],
   "source": [
    "model = EnsembleAverage(\n",
    "    experts=[\n",
    "        #DecisionTreeClassifier(criterion=\"entropy\"),\n",
    "        DecisionTreeClassifier(),\n",
    "        SVC(),\n",
    "        #SVC(kernel=\"poly\"),\n",
    "        GaussianNB(),\n",
    "        LogisticRegression(max_iter=999999)\n",
    "    ],\n",
    "    scaler=StandardScaler()\n",
    ")"
   ]
  },
  {
   "cell_type": "code",
   "execution_count": 139,
   "id": "a599b729-66f7-46d5-9746-d8bd63948607",
   "metadata": {
    "tags": []
   },
   "outputs": [
    {
     "data": {
      "text/plain": [
       "<__main__.EnsembleAverage at 0x23d4a716cd0>"
      ]
     },
     "execution_count": 139,
     "metadata": {},
     "output_type": "execute_result"
    }
   ],
   "source": [
    "model.fit(X, y, True)"
   ]
  },
  {
   "cell_type": "code",
   "execution_count": 140,
   "id": "a3cd1178-369e-47af-919b-7ad3c3c6ec82",
   "metadata": {
    "tags": []
   },
   "outputs": [
    {
     "data": {
      "text/plain": [
       "array([0.91956522, 0.9673913 , 0.94347826, 0.97391304])"
      ]
     },
     "execution_count": 140,
     "metadata": {},
     "output_type": "execute_result"
    }
   ],
   "source": [
    "model.weights"
   ]
  },
  {
   "cell_type": "code",
   "execution_count": 141,
   "id": "bb7a2f76-8395-421b-90fb-cff2a970083d",
   "metadata": {
    "tags": []
   },
   "outputs": [
    {
     "name": "stdout",
     "output_type": "stream",
     "text": [
      "0.9807692307692307\n",
      "              precision    recall  f1-score   support\n",
      "\n",
      "           0       1.00      0.95      0.97        19\n",
      "           1       0.97      1.00      0.99        33\n",
      "\n",
      "    accuracy                           0.98        52\n",
      "   macro avg       0.99      0.97      0.98        52\n",
      "weighted avg       0.98      0.98      0.98        52\n",
      "\n"
     ]
    },
    {
     "data": {
      "text/plain": [
       "<sklearn.metrics._plot.confusion_matrix.ConfusionMatrixDisplay at 0x23d4a7b3490>"
      ]
     },
     "execution_count": 141,
     "metadata": {},
     "output_type": "execute_result"
    },
    {
     "data": {
      "image/png": "[encoded data removed]",
      "text/plain": [
       "<Figure size 640x480 with 2 Axes>"
      ]
     },
     "metadata": {},
     "output_type": "display_data"
    }
   ],
   "source": [
    "preds = model.predict(X_unseen)\n",
    "print(accuracy_score(y_unseen, preds))\n",
    "\n",
    "print(classification_report(y_unseen, preds))\n",
    "\n",
    "ConfusionMatrixDisplay(\n",
    "    confusion_matrix(y_unseen, preds)\n",
    ").plot()"
   ]
  },
  {
   "cell_type": "code",
   "execution_count": null,
   "id": "876521ca-70f8-46c9-935b-b567a9773a61",
   "metadata": {},
   "outputs": [],
   "source": []
  }
 ],
 "metadata": {
  "kernelspec": {
   "display_name": "Python 3 (ipykernel)",
   "language": "python",
   "name": "python3"
  },
  "language_info": {
   "codemirror_mode": {
    "name": "ipython",
    "version": 3
   },
   "file_extension": ".py",
   "mimetype": "text/x-python",
   "name": "python",
   "nbconvert_exporter": "python",
   "pygments_lexer": "ipython3",
   "version": "3.9.7"
  }
 },
 "nbformat": 4,
 "nbformat_minor": 5
}
