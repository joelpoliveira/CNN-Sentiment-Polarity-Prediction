{
 "cells": [
  {
   "cell_type": "markdown",
   "id": "ef946b33-b127-4fb5-beaa-a948c488f1f1",
   "metadata": {},
   "source": [
    "## Assignment 3\n",
    "\n",
    "- Joel Oliveira - 59442\n",
    "- João Braz - 60419"
   ]
  },
  {
   "cell_type": "markdown",
   "id": "4598def6-68c5-44fb-aa41-fddf6c1d3cd7",
   "metadata": {},
   "source": [
    "### Problem 2"
   ]
  },
  {
   "cell_type": "code",
   "execution_count": 1,
   "id": "9edce3af-6b5d-4145-9fc2-8986450e4d9e",
   "metadata": {
    "tags": []
   },
   "outputs": [],
   "source": [
    "import numpy as np\n",
    "\n",
    "from sklearn.datasets import load_breast_cancer\n",
    "from sklearn.svm import SVC\n",
    "from sklearn.naive_bayes import GaussianNB\n",
    "from sklearn.neighbors import KNeighborsClassifier\n",
    "from sklearn.tree import DecisionTreeClassifier\n",
    "from sklearn.linear_model import LogisticRegression\n",
    "\n",
    "from sklearn.preprocessing import MinMaxScaler, StandardScaler\n",
    "from sklearn.model_selection import cross_val_score, GridSearchCV, train_test_split\n",
    "from sklearn.metrics import accuracy_score, confusion_matrix, ConfusionMatrixDisplay, classification_report"
   ]
  },
  {
   "cell_type": "code",
   "execution_count": 2,
   "id": "b9dbaf4e-0db9-44cf-b854-49486cb0421a",
   "metadata": {
    "tags": []
   },
   "outputs": [],
   "source": [
    "X = load_breast_cancer().data\n",
    "y = load_breast_cancer().target"
   ]
  },
  {
   "cell_type": "code",
   "execution_count": 3,
   "id": "336d68da-38dc-4759-b621-8ab692d31e4d",
   "metadata": {
    "tags": []
   },
   "outputs": [
    {
     "data": {
      "text/plain": [
       "(569, 30)"
      ]
     },
     "execution_count": 3,
     "metadata": {},
     "output_type": "execute_result"
    }
   ],
   "source": [
    "X.shape"
   ]
  },
  {
   "cell_type": "code",
   "execution_count": 4,
   "id": "2c6275e3-560e-446b-8a63-4f43b94fb7c6",
   "metadata": {
    "tags": []
   },
   "outputs": [],
   "source": [
    "X, X_unseen, y, y_unseen = train_test_split(X, y, test_size=0.2, random_state=0)"
   ]
  },
  {
   "cell_type": "code",
   "execution_count": 5,
   "id": "c8bb7664-1904-4bdb-9a8e-0fdb9ee526e1",
   "metadata": {
    "tags": []
   },
   "outputs": [
    {
     "data": {
      "text/plain": [
       "((455, 30), (114, 30))"
      ]
     },
     "execution_count": 5,
     "metadata": {},
     "output_type": "execute_result"
    }
   ],
   "source": [
    "X.shape, X_unseen.shape"
   ]
  },
  {
   "cell_type": "code",
   "execution_count": 6,
   "id": "82852b54-7490-472f-910d-710734982913",
   "metadata": {
    "tags": []
   },
   "outputs": [],
   "source": [
    "class EnsembleAverage:\n",
    "    \"\"\"\n",
    "    asdf\n",
    "    \"\"\"\n",
    "    def __init__(self, \n",
    "                experts: list,\n",
    "                scaler=MinMaxScaler()\n",
    "    ):\n",
    "        \"\"\"\n",
    "        asd\n",
    "        \"\"\"\n",
    "        self.n_models = len(experts)\n",
    "        self.experts = experts\n",
    "        self.weights = np.zeros(self.n_models)\n",
    "        self.scaler=scaler\n",
    "        self.cv_scores = []\n",
    "    \n",
    "    \n",
    "    def fit(self, X, y, shuffle=False):\n",
    "        \"\"\"\n",
    "        \n",
    "        \"\"\"\n",
    "        for i in range(self.n_models):\n",
    "            score = self.cv_score(\n",
    "                self.experts[i], \n",
    "                X, \n",
    "                y, \n",
    "                cv=5,\n",
    "                shuffle=shuffle\n",
    "            )\n",
    "            self.cv_scores.append(score)\n",
    "            score = score.mean()\n",
    "            self.weights[i] = score\n",
    "            model = self.experts[i].fit(\n",
    "                self.scaler.fit_transform(X),\n",
    "                y\n",
    "            )\n",
    "        self.scaler.fit(X)\n",
    "        return self\n",
    "        \n",
    "        \n",
    "    def predict(self, X) -> list:\n",
    "        \"\"\"\n",
    "        \n",
    "        \"\"\"\n",
    "        X_scaled = self.scaler.transform(X)\n",
    "        preds = np.array([ model.predict(X_scaled) for model in self.experts])\n",
    "        pred = np.round( self.get_gate() @ preds )\n",
    "        return pred\n",
    "    \n",
    "    \n",
    "    def get_params(self, deep) -> dict:\n",
    "        \"\"\"\n",
    "        \n",
    "        \"\"\"\n",
    "        return {\n",
    "            \"experts\" : self.experts,\n",
    "            \"scaler\": self.scaler\n",
    "        }\n",
    "    \n",
    "    \n",
    "    def __softmax(self, W):\n",
    "        \"\"\"\n",
    "        \n",
    "        \"\"\"\n",
    "        return np.exp(W) / np.exp(W).sum()\n",
    "    \n",
    "    \n",
    "    def get_gate(self):\n",
    "        \"\"\"\n",
    "        \n",
    "        \"\"\"\n",
    "        return self.__softmax(self.weights)\n",
    "    \n",
    "    \n",
    "    def cv_score(self, model, X, y, cv=5, shuffle=False):\n",
    "        \"\"\"\n",
    "        \n",
    "        \"\"\"\n",
    "        N = np.ceil(X.shape[0] / cv).astype(int)\n",
    "        \n",
    "        if shuffle:\n",
    "            idx_shuffled = list(range(X.shape[0]))\n",
    "            np.random.shuffle(idx_shuffled)\n",
    "            X = X[idx_shuffled]\n",
    "            y = y[idx_shuffled]\n",
    "        \n",
    "        cv_results = []\n",
    "        for i in range(cv):            \n",
    "            train_idx_left = slice( max(0, (i-1) )*N, i*N )\n",
    "            train_idx_rigth = slice( (i+1)*N, None )\n",
    "            test_idx = slice(i*N, (i+1)*N)\n",
    "            \n",
    "            \n",
    "            x_train_left, y_train_left = X[ train_idx_left], y[train_idx_left ]\n",
    "            x_train_rigth, y_train_rigth = X[ train_idx_rigth ], y[train_idx_rigth ]\n",
    "            \n",
    "            x_train = np.concatenate((x_train_left, x_train_rigth))\n",
    "            y_train = np.concatenate((y_train_left, y_train_rigth))\n",
    "            x_test, y_test = X[ test_idx ], y[test_idx]\n",
    "            \n",
    "            self.scaler.fit(x_train)\n",
    "            x_train_scaled = x_train#self.scaler.transform(x_train)\n",
    "            x_test_scaled = x_test#self.scaler.transform(x_test)\n",
    "            \n",
    "            model.fit(x_train_scaled, y_train)\n",
    "            cv_results.append( \n",
    "                accuracy_score( \n",
    "                    y_test, \n",
    "                    model.predict(x_test_scaled) \n",
    "                ) \n",
    "            )\n",
    "            \n",
    "        return np.array(cv_results)\n",
    "            \n",
    "                 "
   ]
  },
  {
   "cell_type": "code",
   "execution_count": 7,
   "id": "cd27c3ac-6aa8-469f-92e9-a7f042d2ff11",
   "metadata": {
    "tags": []
   },
   "outputs": [],
   "source": [
    "model = EnsembleAverage(\n",
    "    experts=[\n",
    "        DecisionTreeClassifier(criterion=\"entropy\"),\n",
    "        DecisionTreeClassifier(),\n",
    "    ],\n",
    "    #scaler=StandardScaler()\n",
    ").fit(X, y)"
   ]
  },
  {
   "cell_type": "code",
   "execution_count": 8,
   "id": "d019b851-7ed5-438b-af17-fd9a6f4ef8cf",
   "metadata": {
    "tags": []
   },
   "outputs": [
    {
     "name": "stdout",
     "output_type": "stream",
     "text": [
      "[0.90989011 0.91648352]\n",
      "[0.49835165 0.50164835]\n",
      "0.9131868131868132\n"
     ]
    }
   ],
   "source": [
    "print(model.weights)\n",
    "print(model.get_gate())\n",
    "print(model.weights.mean())"
   ]
  },
  {
   "cell_type": "code",
   "execution_count": 9,
   "id": "961258bf-466b-4ff4-9621-aceca4d52288",
   "metadata": {
    "tags": []
   },
   "outputs": [],
   "source": [
    "model = EnsembleAverage(\n",
    "    experts=[\n",
    "        SVC(kernel=\"linear\"),\n",
    "        SVC(kernel=\"poly\"),\n",
    "        SVC()\n",
    "    ],\n",
    "    scaler=StandardScaler()\n",
    ").fit(X, y)"
   ]
  },
  {
   "cell_type": "code",
   "execution_count": 10,
   "id": "fc82ef73-2d96-4a07-be7d-fc2c8021fc82",
   "metadata": {
    "tags": []
   },
   "outputs": [
    {
     "name": "stdout",
     "output_type": "stream",
     "text": [
      "[0.95164835 0.9032967  0.9032967 ]\n",
      "[0.34416331 0.32791835 0.32791835]\n",
      "0.9194139194139194\n"
     ]
    }
   ],
   "source": [
    "print(model.weights)\n",
    "print(model.get_gate())\n",
    "print(model.weights.mean())"
   ]
  },
  {
   "cell_type": "code",
   "execution_count": 11,
   "id": "ceb51a93-ca22-4cd2-adb2-cf7ddb7cf876",
   "metadata": {
    "tags": []
   },
   "outputs": [],
   "source": [
    "model = EnsembleAverage(\n",
    "    experts=[\n",
    "        DecisionTreeClassifier(),\n",
    "        GaussianNB(),\n",
    "        LogisticRegression(max_iter=99999)\n",
    "    ],\n",
    "    #scaler=StandardScaler()\n",
    ").fit(X, y)"
   ]
  },
  {
   "cell_type": "code",
   "execution_count": 12,
   "id": "1035f7e9-48ae-465c-a03e-2628874472ef",
   "metadata": {
    "tags": []
   },
   "outputs": [
    {
     "name": "stdout",
     "output_type": "stream",
     "text": [
      "[0.9010989  0.93626374 0.96043956]\n",
      "[0.32290072 0.33445748 0.3426418 ]\n",
      "0.9326007326007325\n"
     ]
    }
   ],
   "source": [
    "print(model.weights)\n",
    "print(model.get_gate())\n",
    "print(model.weights.mean())"
   ]
  },
  {
   "cell_type": "code",
   "execution_count": 13,
   "id": "8dbd3ab2-54a0-46f7-b621-e19fe177c230",
   "metadata": {
    "tags": []
   },
   "outputs": [],
   "source": [
    "model = EnsembleAverage(\n",
    "    experts=[\n",
    "        DecisionTreeClassifier(),\n",
    "        SVC(kernel=\"linear\"),\n",
    "        KNeighborsClassifier(),\n",
    "        GaussianNB(),\n",
    "    ],\n",
    "    #scaler=StandardScaler()\n",
    ").fit(X, y)"
   ]
  },
  {
   "cell_type": "code",
   "execution_count": 14,
   "id": "bec58d54-a2d4-40fb-9b2e-aa1ba0c3dc94",
   "metadata": {
    "tags": []
   },
   "outputs": [
    {
     "name": "stdout",
     "output_type": "stream",
     "text": [
      "[0.90549451 0.95164835 0.91648352 0.93626374]\n",
      "[0.24452672 0.25607707 0.24722865 0.25216757]\n",
      "0.9274725274725274\n"
     ]
    }
   ],
   "source": [
    "print(model.weights)\n",
    "print(model.get_gate())\n",
    "print(model.weights.mean())"
   ]
  },
  {
   "cell_type": "code",
   "execution_count": 15,
   "id": "df9cc555-ff4c-4084-a750-14212be3eb47",
   "metadata": {
    "tags": []
   },
   "outputs": [],
   "source": [
    "model = EnsembleAverage(\n",
    "    experts=[\n",
    "        SVC(kernel=\"linear\"),\n",
    "        GaussianNB(),\n",
    "        LogisticRegression(max_iter=99999)\n",
    "    ],\n",
    "    #scaler=StandardScaler()\n",
    ").fit(X, y)"
   ]
  },
  {
   "cell_type": "code",
   "execution_count": 16,
   "id": "a7c2bb09-134f-46dc-ac50-9283ecd10e87",
   "metadata": {
    "tags": []
   },
   "outputs": [
    {
     "name": "stdout",
     "output_type": "stream",
     "text": [
      "[0.95164835 0.93626374 0.96043956]\n",
      "[0.33405008 0.32895018 0.33699973]\n",
      "0.9494505494505493\n"
     ]
    }
   ],
   "source": [
    "print(model.weights)\n",
    "print(model.get_gate())\n",
    "print(model.weights.mean())"
   ]
  },
  {
   "cell_type": "code",
   "execution_count": 17,
   "id": "bbd2a6bd-ae02-4cd8-8a28-9675d8219030",
   "metadata": {
    "tags": []
   },
   "outputs": [],
   "source": [
    "model = EnsembleAverage(\n",
    "    experts=[\n",
    "        SVC(kernel=\"linear\"),\n",
    "        DecisionTreeClassifier(max_depth=15),\n",
    "        LogisticRegression(max_iter=99999)\n",
    "    ],\n",
    "    scaler=StandardScaler()\n",
    ").fit(X, y)"
   ]
  },
  {
   "cell_type": "code",
   "execution_count": 18,
   "id": "e28417b0-9737-4e96-bce8-a67381f315af",
   "metadata": {
    "tags": []
   },
   "outputs": [
    {
     "name": "stdout",
     "output_type": "stream",
     "text": [
      "[0.95164835 0.92527473 0.96043956]\n",
      "[0.33525534 0.32652902 0.33821564]\n",
      "0.9457875457875456\n"
     ]
    }
   ],
   "source": [
    "print(model.weights)\n",
    "print(model.get_gate())\n",
    "print(model.weights.mean())"
   ]
  },
  {
   "cell_type": "code",
   "execution_count": 19,
   "id": "4335593d-6d93-4eea-8000-4e0e80690ad6",
   "metadata": {
    "tags": []
   },
   "outputs": [],
   "source": [
    "model = EnsembleAverage(\n",
    "    experts=[\n",
    "        SVC(kernel=\"linear\"),\n",
    "        DecisionTreeClassifier(max_depth=15),\n",
    "        KNeighborsClassifier(),\n",
    "        GaussianNB(),\n",
    "        LogisticRegression(max_iter=99999)\n",
    "    ],\n",
    "    scaler=StandardScaler()\n",
    ").fit(X, y)"
   ]
  },
  {
   "cell_type": "code",
   "execution_count": 20,
   "id": "c721e8bf-06c4-41d3-ac90-0b905bde290a",
   "metadata": {
    "tags": []
   },
   "outputs": [
    {
     "name": "stdout",
     "output_type": "stream",
     "text": [
      "[0.95164835 0.92087912 0.91648352 0.93626374 0.96043956]\n",
      "[0.2028929  0.19674511 0.19588219 0.19979536 0.20468444]\n",
      "0.937142857142857\n"
     ]
    }
   ],
   "source": [
    "print(model.weights)\n",
    "print(model.get_gate())\n",
    "print(model.weights.mean())"
   ]
  },
  {
   "cell_type": "markdown",
   "id": "4df473fe-2099-441d-bea4-ad984cc8e0ec",
   "metadata": {},
   "source": [
    "> Since all the models are having basicly the same results, we will try to use a very bad model so that the weights are not evenly split across all experts"
   ]
  },
  {
   "cell_type": "code",
   "execution_count": 21,
   "id": "f89d77a8-1013-47d5-8f73-d4fb17c17a22",
   "metadata": {
    "tags": []
   },
   "outputs": [],
   "source": [
    "def reverse_euclidean(u, v, w=None):\n",
    "    return 1/np.sum( (u-v)**2 )**0.5"
   ]
  },
  {
   "cell_type": "code",
   "execution_count": 22,
   "id": "27cbbca0-361e-45a8-ab8c-fc4aebfdc79b",
   "metadata": {
    "tags": []
   },
   "outputs": [],
   "source": [
    "model = EnsembleAverage(\n",
    "    experts=[\n",
    "        KNeighborsClassifier(metric=reverse_euclidean),\n",
    "        SVC(kernel=\"linear\"),\n",
    "        GaussianNB(),\n",
    "        LogisticRegression(max_iter=99999)\n",
    "    ]\n",
    ").fit(X, y, True)"
   ]
  },
  {
   "cell_type": "code",
   "execution_count": 23,
   "id": "e9be9e35-d2b5-4bf9-90d4-3e5fe0e64c77",
   "metadata": {
    "tags": []
   },
   "outputs": [
    {
     "name": "stdout",
     "output_type": "stream",
     "text": [
      "[0.23296703 0.94065934 0.94945055 0.95164835]\n",
      "[0.14028688 0.28468457 0.28719832 0.28783022]\n",
      "0.7686813186813186\n"
     ]
    }
   ],
   "source": [
    "print(model.weights)\n",
    "print(model.get_gate())\n",
    "print(model.weights.mean())"
   ]
  },
  {
   "cell_type": "markdown",
   "id": "3179f79d-ac88-453f-9373-8679a664cba4",
   "metadata": {},
   "source": [
    "### Performance on Test Set\n",
    "\n",
    "We selected the model that obtained, on average, better performance in the Cross-validation performed on the training set"
   ]
  },
  {
   "cell_type": "code",
   "execution_count": 24,
   "id": "ebd48c6f-0e51-425e-a2a8-a4f356f69de6",
   "metadata": {
    "tags": []
   },
   "outputs": [],
   "source": [
    "model = EnsembleAverage(\n",
    "    experts=[\n",
    "        SVC(kernel=\"linear\"),\n",
    "        GaussianNB(),\n",
    "        LogisticRegression(max_iter=99999)\n",
    "    ],\n",
    "    scaler=StandardScaler()\n",
    ").fit(X, y, False)"
   ]
  },
  {
   "cell_type": "code",
   "execution_count": 25,
   "id": "6d440fcd-68c2-4861-82a8-48f932e1e71a",
   "metadata": {
    "tags": []
   },
   "outputs": [
    {
     "data": {
      "text/plain": [
       "array([0.95164835, 0.93626374, 0.96043956])"
      ]
     },
     "execution_count": 25,
     "metadata": {},
     "output_type": "execute_result"
    }
   ],
   "source": [
    "model.weights"
   ]
  },
  {
   "cell_type": "code",
   "execution_count": 26,
   "id": "3a058f03-eefe-4ab3-aa8f-9a67fea162a2",
   "metadata": {
    "tags": []
   },
   "outputs": [
    {
     "name": "stdout",
     "output_type": "stream",
     "text": [
      "0.9649122807017544\n",
      "              precision    recall  f1-score   support\n",
      "\n",
      "           0       0.96      0.96      0.96        47\n",
      "           1       0.97      0.97      0.97        67\n",
      "\n",
      "    accuracy                           0.96       114\n",
      "   macro avg       0.96      0.96      0.96       114\n",
      "weighted avg       0.96      0.96      0.96       114\n",
      "\n"
     ]
    },
    {
     "data": {
      "text/plain": [
       "<sklearn.metrics._plot.confusion_matrix.ConfusionMatrixDisplay at 0x21c7d743850>"
      ]
     },
     "execution_count": 26,
     "metadata": {},
     "output_type": "execute_result"
    },
    {
     "data": {
      "image/png": "[encoded data removed]",
      "text/plain": [
       "<Figure size 640x480 with 2 Axes>"
      ]
     },
     "metadata": {},
     "output_type": "display_data"
    }
   ],
   "source": [
    "preds = model.predict(X_unseen)\n",
    "print(accuracy_score(y_unseen, preds))\n",
    "\n",
    "print(classification_report(y_unseen, preds))\n",
    "\n",
    "ConfusionMatrixDisplay(\n",
    "    confusion_matrix(y_unseen, preds)\n",
    ").plot()"
   ]
  },
  {
   "cell_type": "markdown",
   "id": "a04ccd60-b721-4e2e-a8b2-e2e53ba71609",
   "metadata": {},
   "source": [
    "> Great accuracy, precision and recall values obtained. "
   ]
  },
  {
   "cell_type": "code",
   "execution_count": 27,
   "id": "6f67e29d-d20e-4c88-9a43-0e3c7b6d1816",
   "metadata": {
    "tags": []
   },
   "outputs": [
    {
     "name": "stdout",
     "output_type": "stream",
     "text": [
      "Ensemble accuracy =  0.9649122807017544\n",
      "Model Nº 1 accuracy = 0.9824561403508771\n",
      "Model Nº 2 accuracy = 0.9035087719298246\n",
      "Model Nº 3 accuracy = 0.9649122807017544\n"
     ]
    }
   ],
   "source": [
    "print(\"Ensemble accuracy = \", accuracy_score(y_unseen, model.predict(X_unseen)))\n",
    "\n",
    "for i,m in enumerate(model.experts, start=1):\n",
    "    print(f\"Model Nº {i} accuracy = {accuracy_score( y_unseen, m.predict( model.scaler.transform(X_unseen) ) ) }\")"
   ]
  },
  {
   "cell_type": "markdown",
   "id": "ae51ad0d-d6e2-4798-8348-c391d05d1b3d",
   "metadata": {},
   "source": [
    "Compared to the models themselves, it seems that the linear models are the ones that could best split the data. The SVM could actually obtain better accuracy than the EnsembleModel"
   ]
  },
  {
   "cell_type": "code",
   "execution_count": 28,
   "id": "29615e64-d1b6-4680-9236-f4654d5b59f7",
   "metadata": {
    "tags": []
   },
   "outputs": [
    {
     "name": "stdout",
     "output_type": "stream",
     "text": [
      "0.9824561403508771\n",
      "              precision    recall  f1-score   support\n",
      "\n",
      "           0       0.98      0.98      0.98        47\n",
      "           1       0.99      0.99      0.99        67\n",
      "\n",
      "    accuracy                           0.98       114\n",
      "   macro avg       0.98      0.98      0.98       114\n",
      "weighted avg       0.98      0.98      0.98       114\n",
      "\n"
     ]
    },
    {
     "data": {
      "text/plain": [
       "<sklearn.metrics._plot.confusion_matrix.ConfusionMatrixDisplay at 0x21c057db8e0>"
      ]
     },
     "execution_count": 28,
     "metadata": {},
     "output_type": "execute_result"
    },
    {
     "data": {
      "image/png": "[encoded data removed]",
      "text/plain": [
       "<Figure size 640x480 with 2 Axes>"
      ]
     },
     "metadata": {},
     "output_type": "display_data"
    }
   ],
   "source": [
    "preds = model.experts[0].predict(\n",
    "    model.scaler.transform(X_unseen)\n",
    ")\n",
    "print(accuracy_score(y_unseen, preds))\n",
    "\n",
    "print(classification_report(y_unseen, preds))\n",
    "\n",
    "ConfusionMatrixDisplay(\n",
    "    confusion_matrix(y_unseen, preds)\n",
    ").plot()"
   ]
  },
  {
   "cell_type": "markdown",
   "id": "a8755ffa-8115-4aad-b3c9-fb419caafc21",
   "metadata": {},
   "source": [
    "It also obtained better precision and better recall, having missed only two samples.\n",
    "\n",
    "Overall both the models obtained very good results for this dataset"
   ]
  }
 ],
 "metadata": {
  "kernelspec": {
   "display_name": "Python 3 (ipykernel)",
   "language": "python",
   "name": "python3"
  },
  "language_info": {
   "codemirror_mode": {
    "name": "ipython",
    "version": 3
   },
   "file_extension": ".py",
   "mimetype": "text/x-python",
   "name": "python",
   "nbconvert_exporter": "python",
   "pygments_lexer": "ipython3",
   "version": "3.9.7"
  }
 },
 "nbformat": 4,
 "nbformat_minor": 5
}
