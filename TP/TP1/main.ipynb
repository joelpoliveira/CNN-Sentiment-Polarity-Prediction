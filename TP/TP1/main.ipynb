{
 "cells": [
  {
   "cell_type": "code",
   "execution_count": 29,
   "id": "dbe2e603-149c-46e7-aea8-b957eb41f5a5",
   "metadata": {
    "tags": []
   },
   "outputs": [],
   "source": [
    "import tensorflow as tf\n",
    "import numpy as np\n"
   ]
  },
  {
   "cell_type": "code",
   "execution_count": 30,
   "id": "405d20dd-5f2e-45e2-b554-39556dd33baa",
   "metadata": {
    "tags": []
   },
   "outputs": [],
   "source": [
    "x = np.array([[0,0],[0,1],[1,0],[1,1]])\n",
    "y = np.array([[0],[1],[1],[0]])"
   ]
  },
  {
   "cell_type": "code",
   "execution_count": 31,
   "id": "9c48388c-4011-4fbe-b631-1f876d331932",
   "metadata": {
    "tags": []
   },
   "outputs": [],
   "source": [
    "from tensorflow.keras.models import Sequential, Model\n",
    "from tensorflow.keras.layers import Dense, Input, Concatenate\n",
    "from tensorflow.keras.optimizers import SGD\n",
    "from tensorflow.keras.utils import plot_model\n",
    "from tensorflow.keras.initializers import Constant\n",
    "from tensorflow.keras.constraints import Constraint"
   ]
  },
  {
   "cell_type": "markdown",
   "id": "0743fee4-e228-4955-a0eb-7ea379ba1283",
   "metadata": {
    "tags": []
   },
   "source": [
    "# Exercise 2A"
   ]
  },
  {
   "cell_type": "code",
   "execution_count": 109,
   "id": "28a745e1-0dea-46c4-a6be-3c802a110484",
   "metadata": {
    "tags": []
   },
   "outputs": [],
   "source": [
    "def get_model(act: str):\n",
    "    model = Sequential()\n",
    "    model.add(Dense(2, activation=act))\n",
    "    model.add(Dense(1, activation=act))\n",
    "    return model"
   ]
  },
  {
   "cell_type": "code",
   "execution_count": 110,
   "id": "b7cd1d20-f570-4ddd-929f-c82cc388276f",
   "metadata": {
    "tags": []
   },
   "outputs": [],
   "source": [
    "def compare(y_true, model, x):\n",
    "    y_pred = (model.predict(x)>0.5).astype(\"int16\")\n",
    "    \n",
    "    for y,pred in zip(y_true, y_pred):\n",
    "        print(f\"Expected: {y} ; Output: {pred}\")"
   ]
  },
  {
   "cell_type": "markdown",
   "id": "94434685-5770-4375-a2bd-46fed1db426f",
   "metadata": {
    "tags": []
   },
   "source": [
    "## Without Momentum"
   ]
  },
  {
   "cell_type": "markdown",
   "id": "189b4c50-1724-4956-af09-2fa8d97cfddb",
   "metadata": {
    "tags": []
   },
   "source": [
    "### Sigmoid"
   ]
  },
  {
   "cell_type": "code",
   "execution_count": 213,
   "id": "9b747494-4f1e-4d08-b670-4b3cd1b7e44a",
   "metadata": {
    "tags": []
   },
   "outputs": [
    {
     "data": {
      "text/plain": [
       "<keras.callbacks.History at 0x24eac8400a0>"
      ]
     },
     "execution_count": 213,
     "metadata": {},
     "output_type": "execute_result"
    }
   ],
   "source": [
    "model = get_model(\"sigmoid\")\n",
    "model.compile(loss=\"mean_squared_error\", optimizer=SGD(0.2))\n",
    "model.fit(x,y, epochs=5000, verbose=0,)"
   ]
  },
  {
   "cell_type": "code",
   "execution_count": 214,
   "id": "34746e2a-9e24-4457-923c-3c8999cb8622",
   "metadata": {
    "tags": []
   },
   "outputs": [
    {
     "name": "stdout",
     "output_type": "stream",
     "text": [
      "1/1 [==============================] - 0s 87ms/step - loss: 0.0483\n",
      "0.04833178222179413\n"
     ]
    }
   ],
   "source": [
    "print(model.evaluate(x,y))"
   ]
  },
  {
   "cell_type": "code",
   "execution_count": 215,
   "id": "3e354fa6-b25d-4894-a742-b811a2971f7f",
   "metadata": {
    "tags": []
   },
   "outputs": [
    {
     "name": "stdout",
     "output_type": "stream",
     "text": [
      "1/1 [==============================] - 0s 47ms/step\n",
      "Expected: [0] ; Output: [0]\n",
      "Expected: [1] ; Output: [1]\n",
      "Expected: [1] ; Output: [1]\n",
      "Expected: [0] ; Output: [0]\n"
     ]
    }
   ],
   "source": [
    "compare(y, model, x)"
   ]
  },
  {
   "cell_type": "markdown",
   "id": "03f82095-bb39-4475-9850-72de0e21a8d3",
   "metadata": {
    "tags": []
   },
   "source": [
    "### Tanh"
   ]
  },
  {
   "cell_type": "code",
   "execution_count": 295,
   "id": "4d698ef4-a6dc-4321-a3be-81be57fbb566",
   "metadata": {
    "tags": []
   },
   "outputs": [
    {
     "data": {
      "text/plain": [
       "<keras.callbacks.History at 0x24ebbdfb130>"
      ]
     },
     "execution_count": 295,
     "metadata": {},
     "output_type": "execute_result"
    }
   ],
   "source": [
    "model = get_model(\"tanh\")\n",
    "model.compile(loss=\"mean_squared_error\", optimizer=SGD(0.2))\n",
    "model.fit(x,y,epochs=500, verbose=0)"
   ]
  },
  {
   "cell_type": "code",
   "execution_count": 296,
   "id": "d2b40471-c767-4288-a525-ce58a8744137",
   "metadata": {
    "tags": []
   },
   "outputs": [
    {
     "name": "stdout",
     "output_type": "stream",
     "text": [
      "1/1 [==============================] - 0s 100ms/step - loss: 0.0024\n",
      "0.0024268738925457\n"
     ]
    }
   ],
   "source": [
    "print(model.evaluate(x,y))"
   ]
  },
  {
   "cell_type": "code",
   "execution_count": 297,
   "id": "42728c6d-f2cb-43dd-bd3a-85d295c9c552",
   "metadata": {
    "tags": []
   },
   "outputs": [
    {
     "name": "stdout",
     "output_type": "stream",
     "text": [
      "1/1 [==============================] - 0s 63ms/step\n",
      "Expected: [0] ; Output: [0]\n",
      "Expected: [1] ; Output: [1]\n",
      "Expected: [1] ; Output: [1]\n",
      "Expected: [0] ; Output: [0]\n"
     ]
    }
   ],
   "source": [
    "compare(y, model, x)"
   ]
  },
  {
   "cell_type": "markdown",
   "id": "ab4c39df-90f1-43a9-b6b1-207a948f0c09",
   "metadata": {
    "tags": []
   },
   "source": [
    "### ReLu"
   ]
  },
  {
   "cell_type": "code",
   "execution_count": 477,
   "id": "d3911681-4c7f-4c6a-a7d0-c5442e76b56f",
   "metadata": {
    "tags": []
   },
   "outputs": [
    {
     "data": {
      "text/plain": [
       "<keras.callbacks.History at 0x24edfc5f880>"
      ]
     },
     "execution_count": 477,
     "metadata": {},
     "output_type": "execute_result"
    }
   ],
   "source": [
    "model = get_model(\"relu\")\n",
    "model.compile(loss=\"mean_squared_error\", optimizer=SGD(0.2))\n",
    "model.fit(x,y,epochs=1000, verbose=0)"
   ]
  },
  {
   "cell_type": "code",
   "execution_count": 478,
   "id": "6050841d-6f4b-4e35-b255-ad39858f7b4d",
   "metadata": {
    "tags": []
   },
   "outputs": [
    {
     "name": "stdout",
     "output_type": "stream",
     "text": [
      "1/1 [==============================] - 0s 90ms/step - loss: 0.1667\n",
      "0.1666666567325592\n"
     ]
    }
   ],
   "source": [
    "print(model.evaluate(x,y))"
   ]
  },
  {
   "cell_type": "code",
   "execution_count": 479,
   "id": "765d7895-f628-4e61-b8c7-743ed3bce0c5",
   "metadata": {
    "tags": []
   },
   "outputs": [
    {
     "name": "stdout",
     "output_type": "stream",
     "text": [
      "1/1 [==============================] - 0s 50ms/step\n",
      "Expected: [0] ; Output: [0]\n",
      "Expected: [1] ; Output: [1]\n",
      "Expected: [1] ; Output: [0]\n",
      "Expected: [0] ; Output: [0]\n"
     ]
    }
   ],
   "source": [
    "compare(y, model, x)"
   ]
  },
  {
   "cell_type": "markdown",
   "id": "c1691a07-64ea-4c0d-841c-730057a47f6a",
   "metadata": {
    "tags": []
   },
   "source": [
    "## With Momentum"
   ]
  },
  {
   "cell_type": "markdown",
   "id": "7ebd7477-5ae0-461c-8b16-0d72baa75cbc",
   "metadata": {
    "tags": []
   },
   "source": [
    "### Sigmoid"
   ]
  },
  {
   "cell_type": "code",
   "execution_count": 343,
   "id": "115916e7-1183-451d-b9e3-16e99966dc6b",
   "metadata": {
    "tags": []
   },
   "outputs": [
    {
     "data": {
      "text/plain": [
       "<keras.callbacks.History at 0x24ea5cbbaf0>"
      ]
     },
     "execution_count": 343,
     "metadata": {},
     "output_type": "execute_result"
    }
   ],
   "source": [
    "model = get_model(\"sigmoid\")\n",
    "model.compile(loss=\"mean_squared_error\", optimizer=SGD(0.2, momentum=0.25))\n",
    "model.fit(x,y, epochs=4000, verbose=0,)"
   ]
  },
  {
   "cell_type": "code",
   "execution_count": 344,
   "id": "1a2805e3-c60d-4f75-b6cc-f5ffa8f42b2c",
   "metadata": {
    "tags": []
   },
   "outputs": [
    {
     "name": "stdout",
     "output_type": "stream",
     "text": [
      "1/1 [==============================] - 0s 96ms/step - loss: 0.0934\n",
      "0.09335245192050934\n"
     ]
    }
   ],
   "source": [
    "print(model.evaluate(x,y))"
   ]
  },
  {
   "cell_type": "code",
   "execution_count": 345,
   "id": "9f9f2e4d-3bd7-41b4-83f2-5a2ec1193c74",
   "metadata": {
    "tags": []
   },
   "outputs": [
    {
     "name": "stdout",
     "output_type": "stream",
     "text": [
      "1/1 [==============================] - 0s 47ms/step\n",
      "Expected: [0] ; Output: [0]\n",
      "Expected: [1] ; Output: [1]\n",
      "Expected: [1] ; Output: [1]\n",
      "Expected: [0] ; Output: [0]\n"
     ]
    }
   ],
   "source": [
    "compare(y, model, x)"
   ]
  },
  {
   "cell_type": "markdown",
   "id": "dcaa6189-4cce-4abf-b1d3-fc5ca6e3d44c",
   "metadata": {
    "tags": []
   },
   "source": [
    "### Tanh"
   ]
  },
  {
   "cell_type": "code",
   "execution_count": 328,
   "id": "97658fc4-3371-4c54-867e-bc0d8e33e150",
   "metadata": {
    "tags": []
   },
   "outputs": [
    {
     "data": {
      "text/plain": [
       "<keras.callbacks.History at 0x24ec06e4b20>"
      ]
     },
     "execution_count": 328,
     "metadata": {},
     "output_type": "execute_result"
    }
   ],
   "source": [
    "model = get_model(\"tanh\")\n",
    "model.compile(loss=\"mean_squared_error\", optimizer=SGD(0.2, momentum=0.5))\n",
    "model.fit(x,y,epochs=100, verbose=0)"
   ]
  },
  {
   "cell_type": "code",
   "execution_count": 329,
   "id": "32dc5c41-5cab-4b7f-8429-27f7e3852a9b",
   "metadata": {
    "tags": []
   },
   "outputs": [
    {
     "name": "stdout",
     "output_type": "stream",
     "text": [
      "1/1 [==============================] - 0s 85ms/step - loss: 0.0206\n",
      "0.02062336727976799\n"
     ]
    }
   ],
   "source": [
    "print(model.evaluate(x,y))"
   ]
  },
  {
   "cell_type": "code",
   "execution_count": 330,
   "id": "9123629e-9583-4de9-bf7b-96471aba14d6",
   "metadata": {
    "tags": []
   },
   "outputs": [
    {
     "name": "stdout",
     "output_type": "stream",
     "text": [
      "1/1 [==============================] - 0s 54ms/step\n",
      "Expected: [0] ; Output: [0]\n",
      "Expected: [1] ; Output: [1]\n",
      "Expected: [1] ; Output: [1]\n",
      "Expected: [0] ; Output: [0]\n"
     ]
    }
   ],
   "source": [
    "compare(y, model, x)"
   ]
  },
  {
   "cell_type": "markdown",
   "id": "3b9be29e-9a53-4550-8631-924aade6a014",
   "metadata": {
    "tags": []
   },
   "source": [
    "### ReLu"
   ]
  },
  {
   "cell_type": "code",
   "execution_count": 462,
   "id": "2cd2f12e-4327-4728-8473-423427140d85",
   "metadata": {
    "tags": []
   },
   "outputs": [
    {
     "data": {
      "text/plain": [
       "<keras.callbacks.History at 0x24edc83f400>"
      ]
     },
     "execution_count": 462,
     "metadata": {},
     "output_type": "execute_result"
    }
   ],
   "source": [
    "model = get_model(\"relu\")\n",
    "model.compile(loss=\"mean_squared_error\", optimizer=SGD(0.2, momentum=0.5))\n",
    "model.fit(x,y,epochs=1000, verbose=0)"
   ]
  },
  {
   "cell_type": "code",
   "execution_count": 463,
   "id": "368d502b-6a59-4b7a-be6c-308d8683af9c",
   "metadata": {
    "tags": []
   },
   "outputs": [
    {
     "name": "stdout",
     "output_type": "stream",
     "text": [
      "1/1 [==============================] - 0s 90ms/step - loss: 0.1667\n",
      "0.1666666716337204\n"
     ]
    }
   ],
   "source": [
    "print(model.evaluate(x,y))"
   ]
  },
  {
   "cell_type": "code",
   "execution_count": 464,
   "id": "2715f0c4-08ad-40a0-87fd-5c9cd3106dbc",
   "metadata": {
    "tags": []
   },
   "outputs": [
    {
     "name": "stdout",
     "output_type": "stream",
     "text": [
      "1/1 [==============================] - 0s 60ms/step\n",
      "Expected: [0] ; Output: [0]\n",
      "Expected: [1] ; Output: [0]\n",
      "Expected: [1] ; Output: [1]\n",
      "Expected: [0] ; Output: [0]\n"
     ]
    }
   ],
   "source": [
    "compare(y, model, x)"
   ]
  },
  {
   "cell_type": "markdown",
   "id": "040d6dc6-6ac2-48fe-a012-9c40597f6ad8",
   "metadata": {
    "tags": []
   },
   "source": [
    "# Exercise 2B"
   ]
  },
  {
   "cell_type": "code",
   "execution_count": 452,
   "id": "a91b3dd7-ca45-4e19-9088-da067923b76f",
   "metadata": {
    "tags": []
   },
   "outputs": [],
   "source": [
    "def get_model_2(act: str):\n",
    "    inputs = Input(shape=2)\n",
    "    output = Dense(1,activation=act)(inputs)\n",
    "\n",
    "    second_input = Concatenate(axis=1)([inputs, output])\n",
    "\n",
    "    output2 = Dense(1, activation=act)(second_input)\n",
    "    model = Model(inputs=inputs, outputs=output2)\n",
    "    return model"
   ]
  },
  {
   "cell_type": "markdown",
   "id": "99dd5b58-2e2b-4875-9226-a5127366c655",
   "metadata": {
    "tags": []
   },
   "source": [
    "## Without Momentum"
   ]
  },
  {
   "cell_type": "markdown",
   "id": "bb16a47c-1cd3-4db4-b001-411c39570bda",
   "metadata": {
    "tags": []
   },
   "source": [
    "### Sigmoid"
   ]
  },
  {
   "cell_type": "code",
   "execution_count": 538,
   "id": "2ef44ba1-9994-4ce3-b911-ae5b892a0581",
   "metadata": {
    "tags": []
   },
   "outputs": [
    {
     "data": {
      "text/plain": [
       "<keras.callbacks.History at 0x24eedaf0250>"
      ]
     },
     "execution_count": 538,
     "metadata": {},
     "output_type": "execute_result"
    }
   ],
   "source": [
    "model = get_model_2(\"sigmoid\")\n",
    "model.compile(loss=\"mean_squared_error\", optimizer=SGD(0.2))\n",
    "model.fit(x,y, epochs=10000, verbose=0)"
   ]
  },
  {
   "cell_type": "code",
   "execution_count": 539,
   "id": "067ccc3c-b99c-4f7a-8a58-b8cec6d810ec",
   "metadata": {
    "tags": []
   },
   "outputs": [
    {
     "name": "stdout",
     "output_type": "stream",
     "text": [
      "1/1 [==============================] - 0s 97ms/step - loss: 0.0055\n",
      "0.005516805686056614\n"
     ]
    }
   ],
   "source": [
    "print(model.evaluate(x,y))"
   ]
  },
  {
   "cell_type": "code",
   "execution_count": 540,
   "id": "ca8749ca-df33-43d4-ad03-1d6a7c679054",
   "metadata": {
    "tags": []
   },
   "outputs": [
    {
     "name": "stdout",
     "output_type": "stream",
     "text": [
      "1/1 [==============================] - 0s 58ms/step\n",
      "Expected: [0] ; Output: [0]\n",
      "Expected: [1] ; Output: [1]\n",
      "Expected: [1] ; Output: [1]\n",
      "Expected: [0] ; Output: [0]\n"
     ]
    }
   ],
   "source": [
    "compare(y, model, x)"
   ]
  },
  {
   "cell_type": "markdown",
   "id": "9a9d5bfa-3e14-499c-96f2-4318d2d24ad4",
   "metadata": {
    "tags": []
   },
   "source": [
    "### Tanh"
   ]
  },
  {
   "cell_type": "code",
   "execution_count": 646,
   "id": "1bf313b0-c863-4d83-849e-753f27eddf18",
   "metadata": {
    "tags": []
   },
   "outputs": [
    {
     "data": {
      "text/plain": [
       "<keras.callbacks.History at 0x24f03bf9220>"
      ]
     },
     "execution_count": 646,
     "metadata": {},
     "output_type": "execute_result"
    }
   ],
   "source": [
    "model = get_model_2(\"tanh\")\n",
    "model.compile(loss=\"mean_squared_error\", optimizer=SGD(0.2))\n",
    "model.fit(x,y, epochs=500, verbose=0)"
   ]
  },
  {
   "cell_type": "code",
   "execution_count": 647,
   "id": "7801f47f-4e18-43dc-80e2-dd5deca3b495",
   "metadata": {
    "tags": []
   },
   "outputs": [
    {
     "name": "stdout",
     "output_type": "stream",
     "text": [
      "1/1 [==============================] - 0s 91ms/step - loss: 0.0122\n",
      "0.012203074991703033\n"
     ]
    }
   ],
   "source": [
    "print(model.evaluate(x,y))"
   ]
  },
  {
   "cell_type": "code",
   "execution_count": 648,
   "id": "832838a3-d9a9-40a5-a24b-76d7571870a9",
   "metadata": {
    "tags": []
   },
   "outputs": [
    {
     "name": "stdout",
     "output_type": "stream",
     "text": [
      "1/1 [==============================] - 0s 54ms/step\n",
      "Expected: [0] ; Output: [0]\n",
      "Expected: [1] ; Output: [1]\n",
      "Expected: [1] ; Output: [1]\n",
      "Expected: [0] ; Output: [0]\n"
     ]
    }
   ],
   "source": [
    "compare(y, model, x)"
   ]
  },
  {
   "cell_type": "markdown",
   "id": "51e76a6d-be24-4109-b576-08235dc118f4",
   "metadata": {
    "tags": []
   },
   "source": [
    "### ReLu"
   ]
  },
  {
   "cell_type": "code",
   "execution_count": 643,
   "id": "c959d9e0-c1c9-408f-8cba-8864abdf31c7",
   "metadata": {
    "tags": []
   },
   "outputs": [
    {
     "data": {
      "text/plain": [
       "<keras.callbacks.History at 0x24f029ce4f0>"
      ]
     },
     "execution_count": 643,
     "metadata": {},
     "output_type": "execute_result"
    }
   ],
   "source": [
    "model = get_model_2(\"relu\")\n",
    "model.compile(loss=\"mean_squared_error\", optimizer=SGD(0.2))\n",
    "model.fit(x,y, epochs=20000, verbose=0)"
   ]
  },
  {
   "cell_type": "code",
   "execution_count": 644,
   "id": "f9e0d111-fa5b-44c2-bb0d-3774ad2610cc",
   "metadata": {
    "tags": []
   },
   "outputs": [
    {
     "name": "stdout",
     "output_type": "stream",
     "text": [
      "1/1 [==============================] - 0s 115ms/step - loss: 0.5000\n",
      "0.5\n"
     ]
    }
   ],
   "source": [
    "print(model.evaluate(x,y))"
   ]
  },
  {
   "cell_type": "code",
   "execution_count": 645,
   "id": "d8fe3522-a5ea-4243-8729-8918b152977e",
   "metadata": {
    "tags": []
   },
   "outputs": [
    {
     "name": "stdout",
     "output_type": "stream",
     "text": [
      "1/1 [==============================] - 0s 54ms/step\n",
      "Expected: [0] ; Output: [0]\n",
      "Expected: [1] ; Output: [0]\n",
      "Expected: [1] ; Output: [0]\n",
      "Expected: [0] ; Output: [0]\n"
     ]
    }
   ],
   "source": [
    "compare(y, model, x)"
   ]
  },
  {
   "cell_type": "markdown",
   "id": "495e67fa-c608-4a7f-a3f3-525c9dc06430",
   "metadata": {},
   "source": [
    "## With Momentum"
   ]
  },
  {
   "cell_type": "markdown",
   "id": "d279e063-3bf8-4241-b391-32828dcb0371",
   "metadata": {
    "tags": []
   },
   "source": [
    "### Sigmoid"
   ]
  },
  {
   "cell_type": "code",
   "execution_count": 553,
   "id": "e4a06ea5-e552-4bf7-af3e-997dc0ebd740",
   "metadata": {
    "tags": []
   },
   "outputs": [
    {
     "data": {
      "text/plain": [
       "<keras.callbacks.History at 0x24edfd59d30>"
      ]
     },
     "execution_count": 553,
     "metadata": {},
     "output_type": "execute_result"
    }
   ],
   "source": [
    "model = get_model_2(\"sigmoid\")\n",
    "model.compile(loss=\"mean_squared_error\", optimizer=SGD(0.2, momentum=0.25))\n",
    "model.fit(x,y, epochs=5000, verbose=0)"
   ]
  },
  {
   "cell_type": "code",
   "execution_count": 554,
   "id": "c199a700-4d67-46dd-9668-5ca2347e79dc",
   "metadata": {
    "tags": []
   },
   "outputs": [
    {
     "name": "stdout",
     "output_type": "stream",
     "text": [
      "1/1 [==============================] - 0s 99ms/step - loss: 0.0203\n",
      "0.02028316631913185\n"
     ]
    }
   ],
   "source": [
    "print(model.evaluate(x,y))"
   ]
  },
  {
   "cell_type": "code",
   "execution_count": 555,
   "id": "2e2b25e7-5a18-4432-b462-5837067f41b9",
   "metadata": {
    "tags": []
   },
   "outputs": [
    {
     "name": "stdout",
     "output_type": "stream",
     "text": [
      "1/1 [==============================] - 0s 55ms/step\n",
      "Expected: [0] ; Output: [0]\n",
      "Expected: [1] ; Output: [1]\n",
      "Expected: [1] ; Output: [1]\n",
      "Expected: [0] ; Output: [0]\n"
     ]
    }
   ],
   "source": [
    "compare(y, model, x)"
   ]
  },
  {
   "cell_type": "markdown",
   "id": "75b7ba13-22f8-4c13-bba8-a2762028d52c",
   "metadata": {
    "tags": []
   },
   "source": [
    "### Tanh"
   ]
  },
  {
   "cell_type": "code",
   "execution_count": 622,
   "id": "daa7cdd4-eb0d-4d1f-b121-732aa6fb7b8c",
   "metadata": {
    "tags": []
   },
   "outputs": [
    {
     "data": {
      "text/plain": [
       "<keras.callbacks.History at 0x24efd172dc0>"
      ]
     },
     "execution_count": 622,
     "metadata": {},
     "output_type": "execute_result"
    }
   ],
   "source": [
    "model = get_model_2(\"tanh\")\n",
    "model.compile(loss=\"mean_squared_error\", optimizer=SGD(0.2, momentum=0.25))\n",
    "model.fit(x,y, epochs=500, verbose=0)"
   ]
  },
  {
   "cell_type": "code",
   "execution_count": 623,
   "id": "11c1487a-fec4-4903-b947-95fba4195bd7",
   "metadata": {
    "tags": []
   },
   "outputs": [
    {
     "name": "stdout",
     "output_type": "stream",
     "text": [
      "1/1 [==============================] - 0s 128ms/step - loss: 0.0202\n",
      "0.020200807601213455\n"
     ]
    }
   ],
   "source": [
    "print(model.evaluate(x,y))"
   ]
  },
  {
   "cell_type": "code",
   "execution_count": 624,
   "id": "395731aa-5f01-4d16-8750-b1835ecf141e",
   "metadata": {
    "tags": []
   },
   "outputs": [
    {
     "name": "stdout",
     "output_type": "stream",
     "text": [
      "1/1 [==============================] - 0s 61ms/step\n",
      "Expected: [0] ; Output: [0]\n",
      "Expected: [1] ; Output: [1]\n",
      "Expected: [1] ; Output: [1]\n",
      "Expected: [0] ; Output: [0]\n"
     ]
    }
   ],
   "source": [
    "compare(y, model, x)"
   ]
  },
  {
   "cell_type": "markdown",
   "id": "da3f293e-c274-4d9e-bbdf-d293de1d9861",
   "metadata": {
    "tags": []
   },
   "source": [
    "### ReLu"
   ]
  },
  {
   "cell_type": "code",
   "execution_count": 640,
   "id": "5b9603df-d619-4ee1-8d89-2f470f38915d",
   "metadata": {
    "tags": []
   },
   "outputs": [
    {
     "data": {
      "text/plain": [
       "<keras.callbacks.History at 0x24f017ef6a0>"
      ]
     },
     "execution_count": 640,
     "metadata": {},
     "output_type": "execute_result"
    }
   ],
   "source": [
    "model = get_model_2(\"relu\")\n",
    "model.compile(loss=\"mean_squared_error\", optimizer=SGD(0.2, momentum=0.25))\n",
    "model.fit(x,y, epochs=20000, verbose=0)"
   ]
  },
  {
   "cell_type": "code",
   "execution_count": 641,
   "id": "66f7bda2-fe32-4ffb-a6e1-d6c8fd0c95bd",
   "metadata": {
    "tags": []
   },
   "outputs": [
    {
     "name": "stdout",
     "output_type": "stream",
     "text": [
      "1/1 [==============================] - 0s 99ms/step - loss: 0.2500\n",
      "0.2499999850988388\n"
     ]
    }
   ],
   "source": [
    "print(model.evaluate(x,y))"
   ]
  },
  {
   "cell_type": "code",
   "execution_count": 642,
   "id": "4879f86a-1254-464f-b5ea-866603b40267",
   "metadata": {
    "tags": []
   },
   "outputs": [
    {
     "name": "stdout",
     "output_type": "stream",
     "text": [
      "1/1 [==============================] - 0s 57ms/step\n",
      "Expected: [0] ; Output: [0]\n",
      "Expected: [1] ; Output: [0]\n",
      "Expected: [1] ; Output: [0]\n",
      "Expected: [0] ; Output: [0]\n"
     ]
    }
   ],
   "source": [
    "compare(y, model, x)"
   ]
  },
  {
   "cell_type": "markdown",
   "id": "335c405f-0b4a-400f-bcd8-cfda78471961",
   "metadata": {},
   "source": [
    "# Comments\n",
    "\n",
    "The network of *Problem 2* in general obtained more consistent results using considerable less *epochs* than the network of *Problem 1*.\n",
    "In both scenarios we noticed that ReLu activation function was not good for the problem at hands, as even with very large number of *epochs* it did not have reach the solution. On the other hand, hyperbolic tangent seems to be the best activation function has it reached the solution with very few epochs.\n",
    "\n",
    "In both cases, using the momentum, the desired result was, in general, reached faster."
   ]
  }
 ],
 "metadata": {
  "kernelspec": {
   "display_name": "Python 3 (ipykernel)",
   "language": "python",
   "name": "python3"
  },
  "language_info": {
   "codemirror_mode": {
    "name": "ipython",
    "version": 3
   },
   "file_extension": ".py",
   "mimetype": "text/x-python",
   "name": "python",
   "nbconvert_exporter": "python",
   "pygments_lexer": "ipython3",
   "version": "3.9.7"
  }
 },
 "nbformat": 4,
 "nbformat_minor": 5
}
